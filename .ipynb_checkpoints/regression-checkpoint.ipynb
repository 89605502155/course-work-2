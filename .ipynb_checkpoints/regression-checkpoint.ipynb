{
 "cells": [
  {
   "cell_type": "code",
   "execution_count": 2,
   "metadata": {},
   "outputs": [
    {
     "ename": "IndexError",
     "evalue": "arrays used as indices must be of integer (or boolean) type",
     "output_type": "error",
     "traceback": [
      "\u001b[1;31m---------------------------------------------------------------------------\u001b[0m",
      "\u001b[1;31mIndexError\u001b[0m                                Traceback (most recent call last)",
      "\u001b[1;32m<ipython-input-2-b72e33d06187>\u001b[0m in \u001b[0;36m<module>\u001b[1;34m\u001b[0m\n\u001b[0;32m     22\u001b[0m \u001b[1;33m\u001b[0m\u001b[0m\n\u001b[0;32m     23\u001b[0m \u001b[1;32mfor\u001b[0m \u001b[0mi\u001b[0m \u001b[1;32min\u001b[0m \u001b[0mX_train\u001b[0m\u001b[1;33m:\u001b[0m\u001b[1;33m\u001b[0m\u001b[1;33m\u001b[0m\u001b[0m\n\u001b[1;32m---> 24\u001b[1;33m     \u001b[0mdf\u001b[0m\u001b[1;33m=\u001b[0m\u001b[0mpd\u001b[0m\u001b[1;33m.\u001b[0m\u001b[0mDataFrame\u001b[0m\u001b[1;33m(\u001b[0m\u001b[0mX_train\u001b[0m\u001b[1;33m[\u001b[0m\u001b[0mi\u001b[0m\u001b[1;33m,\u001b[0m\u001b[1;33m:\u001b[0m\u001b[1;33m,\u001b[0m\u001b[1;33m:\u001b[0m\u001b[1;33m]\u001b[0m\u001b[1;33m,\u001b[0m \u001b[0mindex\u001b[0m\u001b[1;33m=\u001b[0m\u001b[0mXdata_numpy\u001b[0m\u001b[1;33m[\u001b[0m\u001b[1;34m\"emission\"\u001b[0m\u001b[1;33m]\u001b[0m\u001b[1;33m,\u001b[0m\u001b[0mcolumns\u001b[0m\u001b[1;33m=\u001b[0m\u001b[0mXdata_numpy\u001b[0m\u001b[1;33m[\u001b[0m\u001b[1;34m\"excitation\"\u001b[0m\u001b[1;33m]\u001b[0m\u001b[1;33m)\u001b[0m\u001b[1;33m\u001b[0m\u001b[1;33m\u001b[0m\u001b[0m\n\u001b[0m\u001b[0;32m     25\u001b[0m     \u001b[0mtensor\u001b[0m\u001b[1;33m=\u001b[0m\u001b[0mtl\u001b[0m\u001b[1;33m.\u001b[0m\u001b[0munfold\u001b[0m\u001b[1;33m(\u001b[0m\u001b[0mdf\u001b[0m\u001b[1;33m)\u001b[0m\u001b[1;33m\u001b[0m\u001b[1;33m\u001b[0m\u001b[0m\n\u001b[0;32m     26\u001b[0m     \u001b[0mdata_tensor\u001b[0m\u001b[1;33m+=\u001b[0m\u001b[0mtensor\u001b[0m\u001b[1;33m\u001b[0m\u001b[1;33m\u001b[0m\u001b[0m\n",
      "\u001b[1;31mIndexError\u001b[0m: arrays used as indices must be of integer (or boolean) type"
     ]
    }
   ],
   "source": [
    "from gzip import open # NB: overrides standard open()\n",
    "import pickle as pkl\n",
    "import tensorly as tl\n",
    "from tensorly.base import tensor_to_vec,  partial_tensor_to_vec\n",
    "import numpy as np\n",
    "import pandas as pd\n",
    "import warnings \n",
    "import matplotlib.pyplot as plt\n",
    "from sklearn.model_selection import cross_val_score\n",
    "from sklearn.model_selection import cross_validate\n",
    "from sklearn.model_selection import train_test_split\n",
    "\n",
    "warnings.simplefilter('ignore') # отключим предупреждения Anaconda\n",
    "Xdata_numpy = pkl.load(open('C:/Users/admin/Desktop/88/X.pkl.gz', 'rb'))\n",
    "Ydata = pkl.load(open('C:/Users/admin/Desktop/88/y.pkl.gz', 'rb'))\n",
    "\n",
    "\n",
    "#делим набор на обучающий и тестовый\n",
    "X_train, X_test, y_train, y_test = train_test_split(\n",
    "     Xdata_numpy[\"X\"], Ydata, test_size=0.1428 \n",
    ")\n",
    "\n",
    "for i in X_train:\n",
    "    df=pd.DataFrame(X_train[i,:,:], index=Xdata_numpy[\"emission\"],columns=Xdata_numpy[\"excitation\"])\n",
    "    tensor=tl.unfold(df)\n",
    "    data_tensor+=tensor\n",
    "    \n",
    "print(data_tensor.shape)\n",
    "# прописываем класс регрессии\n",
    "from sklearn.base import BaseEstimator\n",
    "from sklearn.metrics import r2_score\n",
    "from tensorly.regression.kruskal_regression import KruskalRegressor\n",
    "\n",
    "class WrappedKruskalRegressor(BaseEstimator):\n",
    "\tdef __init__(self, weight_rank = 1, tol = 1e-6, reg_W = 1, n_iter_max = 100):\n",
    "\t\tself.weight_rank = weight_rank\n",
    "\t\tself.tol = tol\n",
    "\t\tself.reg_W = reg_W\n",
    "\t\tself.n_iter_max = n_iter_max\n",
    "\t\n",
    "\tdef fit(self, X, y = None):\n",
    "\t\tself._model = KruskalRegressor(self.weight_rank, self.tol, self.reg_W, self.n_iter_max)\n",
    "\t\tself._model.fit(X, y)\n",
    "\t\tif self._model.n_iterations_ == self.n_iter_max:\n",
    "\t\t\traise Exception('{} did not converge'.format(self))\n",
    "\t\treturn self\n",
    "\t\n",
    "\tdef predict(self, X):\n",
    "\t\treturn self._model.predict(X)\n",
    "\t\n",
    "\tdef score(self, X, y):\n",
    "\t\treturn r2_score(y, self.predict(X))\n",
    "\n",
    "\n",
    "#начинаем применять\n",
    "\n",
    "from sklearn.model_selection import RandomizedSearchCV\n",
    "regressioModel=WrappedKruskalRegressor()\n",
    "parametrsNames={'emission':Xdata_numpy[\"emission\"],'excitation':Xdata_numpy[\"excitation\"]}\n",
    "\n",
    "\n",
    "gridCought=RandomizedSearchCV(regressioModel, param_distributions=parametrsNames,\n",
    "                             n_iter=50, cv=5, random_state= 0)\n",
    "\n",
    "gridCought.fit(X_train,y_train.iloc[:,0])\n"
   ]
  },
  {
   "cell_type": "code",
   "execution_count": 43,
   "metadata": {},
   "outputs": [
    {
     "ename": "SyntaxError",
     "evalue": "can't assign to literal (<ipython-input-43-c90f150a880e>, line 3)",
     "output_type": "error",
     "traceback": [
      "\u001b[1;36m  File \u001b[1;32m\"<ipython-input-43-c90f150a880e>\"\u001b[1;36m, line \u001b[1;32m3\u001b[0m\n\u001b[1;33m    cv=5, random_state= 0\u001b[0m\n\u001b[1;37m      ^\u001b[0m\n\u001b[1;31mSyntaxError\u001b[0m\u001b[1;31m:\u001b[0m can't assign to literal\n"
     ]
    }
   ],
   "source": [
    "ex=tl.to_nympy(estimator.weight_tensor_)\n",
    "gridCought.fit(X_train, y_train)\n",
    "cv=5, random_state= 0"
   ]
  },
  {
   "cell_type": "code",
   "execution_count": null,
   "metadata": {},
   "outputs": [],
   "source": [
    "param_distributions=parametrsNames,\n",
    ", index=str(Xdata_numpy[\"excitation\"]),columns=str(Xdata_numpy[\"emission\"])\n",
    "for i in X_train:\n",
    "    Xmatrix.iloc[i,:,:]=pd.DataFrame(X_train[i,:,:], index=str(Xdata_numpy[\"emission\"]),columns=str(Xdata_numpy[\"excitation\"]))"
   ]
  }
 ],
 "metadata": {
  "kernelspec": {
   "display_name": "Python 3",
   "language": "python",
   "name": "python3"
  },
  "language_info": {
   "codemirror_mode": {
    "name": "ipython",
    "version": 3
   },
   "file_extension": ".py",
   "mimetype": "text/x-python",
   "name": "python",
   "nbconvert_exporter": "python",
   "pygments_lexer": "ipython3",
   "version": "3.7.4"
  }
 },
 "nbformat": 4,
 "nbformat_minor": 2
}
