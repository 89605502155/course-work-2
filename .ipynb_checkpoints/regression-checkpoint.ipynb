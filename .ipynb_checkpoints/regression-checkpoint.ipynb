{
 "cells": [
  {
   "cell_type": "code",
   "execution_count": 60,
   "metadata": {},
   "outputs": [
    {
     "name": "stdout",
     "output_type": "stream",
     "text": [
      "(206,)\n"
     ]
    },
    {
     "data": {
      "image/png": "[encoded data removed]",
      "text/plain": [
       "<Figure size 432x288 with 1 Axes>"
      ]
     },
     "metadata": {
      "needs_background": "light"
     },
     "output_type": "display_data"
    },
    {
     "name": "stdout",
     "output_type": "stream",
     "text": [
      "\n",
      "(30, 11330)\n",
      "(30, 3)\n",
      "[Gominy    14.316856\n",
      "Tyr        0.329165\n",
      "Trp        0.207367\n",
      "dtype: float64]\n"
     ]
    },
    {
     "data": {
      "text/plain": [
       "{'copy': True,\n",
       " 'max_iter': 11000,\n",
       " 'n_components': 4,\n",
       " 'scale': True,\n",
       " 'tol': 1e-06}"
      ]
     },
     "execution_count": 60,
     "metadata": {},
     "output_type": "execute_result"
    }
   ],
   "source": [
    "from gzip import open # NB: overrides standard open()\n",
    "import pickle as pkl\n",
    "import tensorly as tl\n",
    "from tensorly.base import tensor_to_vec,  partial_tensor_to_vec\n",
    "import numpy as np\n",
    "import pandas as pd\n",
    "import warnings \n",
    "import matplotlib.pyplot as plt\n",
    "from sklearn.model_selection import cross_val_score\n",
    "from sklearn.model_selection import cross_validate\n",
    "from sklearn.model_selection import train_test_split\n",
    "\n",
    "warnings.simplefilter('ignore') # отключим предупреждения Anaconda\n",
    "Xdata_numpy = pkl.load(open('C:/Users/admin/Desktop/88/X.pkl.gz', 'rb'))\n",
    "Ydata = pkl.load(open('C:/Users/admin/Desktop/88/y.pkl.gz', 'rb'))\n",
    "print(Xdata_numpy['emission'].shape)\n",
    "string_name=[]\n",
    "string_name2=[]\n",
    "k=0\n",
    "#создаю пространство имён для развёрнутого тензора\n",
    "for i in range(len(Xdata_numpy['emission'])):\n",
    "    for j in range(len(Xdata_numpy['excitation'])):\n",
    "        string_name+=[str(Xdata_numpy['emission'][i])+\" x \"+str(Xdata_numpy['excitation'][j])]\n",
    "        string_name2+=[k]\n",
    "        k+=1\n",
    "#создаём пространство образцов\n",
    "examples_names=[]\n",
    "v=[]\n",
    "for i in range(0,35):\n",
    "    examples_names+=[str(i)]\n",
    "    v+=[i]\n",
    "Xdata_numpy['X'].shape = (Xdata_numpy['X'].shape[0], Xdata_numpy['X'].shape[1] * Xdata_numpy['X'].shape[2])\n",
    "Xdata_numpy['X'][:,np.isnan(Xdata_numpy['X']).any(axis = 0)] = 0 # zero out any columns containing NaN\n",
    "\n",
    "#рисуем новую матрицу\n",
    "import matplotlib.pyplot as plt\n",
    "plt.imshow(Xdata_numpy['X'],aspect=\"auto\")\n",
    "plt.show();\n",
    "print()\n",
    "\n",
    "X=pd.DataFrame(Xdata_numpy['X'],index=examples_names, columns=string_name)\n",
    "#делим набор на обучающий и тестовый\n",
    "X_train, X_test, y_train, y_test = train_test_split(\n",
    "     X, Ydata, test_size=0.1428 \n",
    ")\n",
    "print(X_train.shape)\n",
    "print(y_train.shape)\n",
    "s=[]\n",
    "\n",
    "#начинаем применять\n",
    "from sklearn.cross_decomposition import PLSRegression\n",
    "from sklearn.model_selection import GridSearchCV\n",
    "parametrsNames=[{'ee':string_name2}]\n",
    "\n",
    "pls2 = PLSRegression()\n",
    "parametrsNames={\n",
    "    'copy': [True], \n",
    "    'max_iter': [11000], \n",
    "    'n_components': range(1,60), \n",
    "    'scale': [True], \n",
    "    'tol': [1e-06]\n",
    "}\n",
    "gridCought=GridSearchCV(pls2, parametrsNames)\n",
    "gridCought.fit(X_train,y_train)\n",
    "predictors=gridCought.predict(X_test)\n",
    "s=[np.mean((predictors-y_test)**2)]\n",
    "\n",
    "print(s)\n",
    "\n",
    "gridCought.best_params_\n",
    "\n",
    "\n"
   ]
  },
  {
   "cell_type": "code",
   "execution_count": 43,
   "metadata": {},
   "outputs": [
    {
     "ename": "SyntaxError",
     "evalue": "can't assign to literal (<ipython-input-43-c90f150a880e>, line 3)",
     "output_type": "error",
     "traceback": [
      "\u001b[1;36m  File \u001b[1;32m\"<ipython-input-43-c90f150a880e>\"\u001b[1;36m, line \u001b[1;32m3\u001b[0m\n\u001b[1;33m    cv=5, random_state= 0\u001b[0m\n\u001b[1;37m      ^\u001b[0m\n\u001b[1;31mSyntaxError\u001b[0m\u001b[1;31m:\u001b[0m can't assign to literal\n"
     ]
    }
   ],
   "source": [
    "ex=tl.to_nympy(estimator.weight_tensor_)\n",
    "gridCought.fit(X_train, y_train)\n",
    "cv=5, random_state= 0\n",
    "n_components=i,max_iter=10000"
   ]
  },
  {
   "cell_type": "code",
   "execution_count": null,
   "metadata": {},
   "outputs": [],
   "source": [
    "param_distributions=parametrsNames,\n",
    ", index=str(Xdata_numpy[\"excitation\"]),columns=str(Xdata_numpy[\"emission\"])\n",
    "for i in X_train:\n",
    "    Xmatrix.iloc[i,:,:]=pd.DataFrame(X_train[i,:,:], index=str(Xdata_numpy[\"emission\"]),columns=str(Xdata_numpy[\"excitation\"]))\n",
    "'emission':Xdata_numpy[\"emission\"],"
   ]
  }
 ],
 "metadata": {
  "kernelspec": {
   "display_name": "Python 3",
   "language": "python",
   "name": "python3"
  },
  "language_info": {
   "codemirror_mode": {
    "name": "ipython",
    "version": 3
   },
   "file_extension": ".py",
   "mimetype": "text/x-python",
   "name": "python",
   "nbconvert_exporter": "python",
   "pygments_lexer": "ipython3",
   "version": "3.7.4"
  }
 },
 "nbformat": 4,
 "nbformat_minor": 2
}
