{
 "cells": [
  {
   "cell_type": "code",
   "execution_count": 142,
   "metadata": {},
   "outputs": [
    {
     "name": "stdout",
     "output_type": "stream",
     "text": [
      "(206,)\n"
     ]
    },
    {
     "data": {
      "image/png": "[encoded data removed]",
      "text/plain": [
       "<Figure size 432x288 with 1 Axes>"
      ]
     },
     "metadata": {
      "needs_background": "light"
     },
     "output_type": "display_data"
    },
    {
     "name": "stdout",
     "output_type": "stream",
     "text": [
      "\n",
      "(25, 11330)\n",
      "(25,)\n",
      "{'copy': True, 'max_iter': 10000, 'n_components': 3, 'scale': False, 'tol': 1e-06}\n",
      "Правильность на тестовом наборе: 0.90\n"
     ]
    }
   ],
   "source": [
    "from gzip import open # NB: overrides standard open()\n",
    "import pickle as pkl\n",
    "import tensorly as tl\n",
    "from tensorly.base import tensor_to_vec,  partial_tensor_to_vec\n",
    "import numpy as np\n",
    "import pandas as pd\n",
    "import warnings \n",
    "import matplotlib.pyplot as plt\n",
    "from sklearn.model_selection import cross_val_score\n",
    "from sklearn.model_selection import cross_validate\n",
    "from sklearn.model_selection import train_test_split\n",
    "\n",
    "warnings.simplefilter('ignore') # отключим предупреждения Anaconda\n",
    "Xdata_numpy = pkl.load(open('C:/Users/admin/Desktop/88/X.pkl.gz', 'rb'))\n",
    "Ydata = pkl.load(open('C:/Users/admin/Desktop/88/y.pkl.gz', 'rb'))\n",
    "print(Xdata_numpy['emission'].shape)\n",
    "string_name=[]\n",
    "string_name2=[]\n",
    "k=0\n",
    "#создаю пространство имён для развёрнутого тензора\n",
    "for i in range(len(Xdata_numpy['emission'])):\n",
    "    for j in range(len(Xdata_numpy['excitation'])):\n",
    "        string_name+=[str(Xdata_numpy['emission'][i])+\" x \"+str(Xdata_numpy['excitation'][j])]\n",
    "        string_name2+=[k]\n",
    "        k+=1\n",
    "#создаём пространство образцов\n",
    "examples_names=[]\n",
    "v=[]\n",
    "for i in range(0,35):\n",
    "    examples_names+=[str(i)]\n",
    "    v+=[i]\n",
    "Xdata_numpy['X'].shape = (Xdata_numpy['X'].shape[0], Xdata_numpy['X'].shape[1] * Xdata_numpy['X'].shape[2])\n",
    "Xdata_numpy['X'][:,np.isnan(Xdata_numpy['X']).any(axis = 0)] = 0 # zero out any columns containing NaN\n",
    "\n",
    "#рисуем новую матрицу\n",
    "import matplotlib.pyplot as plt\n",
    "plt.imshow(Xdata_numpy['X'],aspect=\"auto\")\n",
    "plt.show();\n",
    "print()\n",
    "\n",
    "X=pd.DataFrame(Xdata_numpy['X'],index=examples_names, columns=string_name)\n",
    "#делим набор на обучающий и тестовый\n",
    "X_train, X_test, y_train, y_test = train_test_split(\n",
    "     X, Ydata.iloc[:,2], test_size=0.2857\n",
    ")\n",
    "print(X_train.shape)\n",
    "print(y_train.shape)\n",
    "s=[]\n",
    "\n",
    "#начинаем применять\n",
    "from sklearn.cross_decomposition import PLSRegression\n",
    "from sklearn.model_selection import GridSearchCV\n",
    "\n",
    "\n",
    "pls1 = PLSRegression()\n",
    "parametrsNames={\n",
    "    'copy': [True], \n",
    "    'max_iter': [10000], \n",
    "    'n_components': range(1,25), \n",
    "    'scale': [True,False], \n",
    "    'tol': [1e-06]\n",
    "}\n",
    "gridCought=GridSearchCV(pls1, parametrsNames, cv=5)\n",
    "gridCought.fit(X_train,y_train)\n",
    "predictors=gridCought.predict(X_test)\n",
    "\n",
    "\n",
    "\n",
    "print(gridCought.best_params_)\n",
    "print(\"Правильность на тестовом наборе: {:.2f}\".format(gridCought.score(X_test, y_test)))\n",
    "\n"
   ]
  },
  {
   "cell_type": "markdown",
   "metadata": {},
   "source": [
    "# Обработаем результаты"
   ]
  },
  {
   "cell_type": "code",
   "execution_count": 143,
   "metadata": {},
   "outputs": [],
   "source": [
    "cvres  = gridCought.cv_results_"
   ]
  },
  {
   "cell_type": "code",
   "execution_count": 144,
   "metadata": {},
   "outputs": [],
   "source": [
    "filew=dict()"
   ]
  },
  {
   "cell_type": "code",
   "execution_count": 145,
   "metadata": {},
   "outputs": [
    {
     "name": "stdout",
     "output_type": "stream",
     "text": [
      "0.29550135448593456 {'copy': True, 'max_iter': 10000, 'n_components': 1, 'scale': True, 'tol': 1e-06}\n",
      "0.7384220530734257 {'copy': True, 'max_iter': 10000, 'n_components': 1, 'scale': False, 'tol': 1e-06}\n",
      "0.6621341410780974 {'copy': True, 'max_iter': 10000, 'n_components': 2, 'scale': True, 'tol': 1e-06}\n",
      "0.874673771060669 {'copy': True, 'max_iter': 10000, 'n_components': 2, 'scale': False, 'tol': 1e-06}\n",
      "0.7943678716940477 {'copy': True, 'max_iter': 10000, 'n_components': 3, 'scale': True, 'tol': 1e-06}\n",
      "0.9097783380420725 {'copy': True, 'max_iter': 10000, 'n_components': 3, 'scale': False, 'tol': 1e-06}\n",
      "0.7127580234436323 {'copy': True, 'max_iter': 10000, 'n_components': 4, 'scale': True, 'tol': 1e-06}\n",
      "0.9076011670938047 {'copy': True, 'max_iter': 10000, 'n_components': 4, 'scale': False, 'tol': 1e-06}\n",
      "0.7720443887397735 {'copy': True, 'max_iter': 10000, 'n_components': 5, 'scale': True, 'tol': 1e-06}\n",
      "0.8808641438321027 {'copy': True, 'max_iter': 10000, 'n_components': 5, 'scale': False, 'tol': 1e-06}\n",
      "0.7668843210063798 {'copy': True, 'max_iter': 10000, 'n_components': 6, 'scale': True, 'tol': 1e-06}\n",
      "0.8453988315550989 {'copy': True, 'max_iter': 10000, 'n_components': 6, 'scale': False, 'tol': 1e-06}\n",
      "0.7954292234576168 {'copy': True, 'max_iter': 10000, 'n_components': 7, 'scale': True, 'tol': 1e-06}\n",
      "0.8240024984306497 {'copy': True, 'max_iter': 10000, 'n_components': 7, 'scale': False, 'tol': 1e-06}\n",
      "0.7428501121281811 {'copy': True, 'max_iter': 10000, 'n_components': 8, 'scale': True, 'tol': 1e-06}\n",
      "0.8409815681876371 {'copy': True, 'max_iter': 10000, 'n_components': 8, 'scale': False, 'tol': 1e-06}\n",
      "0.7337958652045603 {'copy': True, 'max_iter': 10000, 'n_components': 9, 'scale': True, 'tol': 1e-06}\n",
      "0.8407518698329031 {'copy': True, 'max_iter': 10000, 'n_components': 9, 'scale': False, 'tol': 1e-06}\n",
      "0.7305997155877074 {'copy': True, 'max_iter': 10000, 'n_components': 10, 'scale': True, 'tol': 1e-06}\n",
      "0.8409883093333472 {'copy': True, 'max_iter': 10000, 'n_components': 10, 'scale': False, 'tol': 1e-06}\n",
      "0.729867299654069 {'copy': True, 'max_iter': 10000, 'n_components': 11, 'scale': True, 'tol': 1e-06}\n",
      "0.8371676462393615 {'copy': True, 'max_iter': 10000, 'n_components': 11, 'scale': False, 'tol': 1e-06}\n",
      "0.7308377108985584 {'copy': True, 'max_iter': 10000, 'n_components': 12, 'scale': True, 'tol': 1e-06}\n",
      "0.8398417124694797 {'copy': True, 'max_iter': 10000, 'n_components': 12, 'scale': False, 'tol': 1e-06}\n",
      "0.7304937699108752 {'copy': True, 'max_iter': 10000, 'n_components': 13, 'scale': True, 'tol': 1e-06}\n",
      "0.8386370186490271 {'copy': True, 'max_iter': 10000, 'n_components': 13, 'scale': False, 'tol': 1e-06}\n",
      "0.7307174253122029 {'copy': True, 'max_iter': 10000, 'n_components': 14, 'scale': True, 'tol': 1e-06}\n",
      "0.8389631774074569 {'copy': True, 'max_iter': 10000, 'n_components': 14, 'scale': False, 'tol': 1e-06}\n",
      "0.7307374385844838 {'copy': True, 'max_iter': 10000, 'n_components': 15, 'scale': True, 'tol': 1e-06}\n",
      "0.8392562969783571 {'copy': True, 'max_iter': 10000, 'n_components': 15, 'scale': False, 'tol': 1e-06}\n",
      "0.7307323561417153 {'copy': True, 'max_iter': 10000, 'n_components': 16, 'scale': True, 'tol': 1e-06}\n",
      "0.8392446506127068 {'copy': True, 'max_iter': 10000, 'n_components': 16, 'scale': False, 'tol': 1e-06}\n",
      "0.7307307472638166 {'copy': True, 'max_iter': 10000, 'n_components': 17, 'scale': True, 'tol': 1e-06}\n",
      "0.8392266871358894 {'copy': True, 'max_iter': 10000, 'n_components': 17, 'scale': False, 'tol': 1e-06}\n",
      "0.7307306759445236 {'copy': True, 'max_iter': 10000, 'n_components': 18, 'scale': True, 'tol': 1e-06}\n",
      "0.8392270660420283 {'copy': True, 'max_iter': 10000, 'n_components': 18, 'scale': False, 'tol': 1e-06}\n",
      "0.7307306847368199 {'copy': True, 'max_iter': 10000, 'n_components': 19, 'scale': True, 'tol': 1e-06}\n",
      "0.8392269116982775 {'copy': True, 'max_iter': 10000, 'n_components': 19, 'scale': False, 'tol': 1e-06}\n",
      "0.7307306847368201 {'copy': True, 'max_iter': 10000, 'n_components': 20, 'scale': True, 'tol': 1e-06}\n",
      "0.8392269116982775 {'copy': True, 'max_iter': 10000, 'n_components': 20, 'scale': False, 'tol': 1e-06}\n",
      "0.7307306847368201 {'copy': True, 'max_iter': 10000, 'n_components': 21, 'scale': True, 'tol': 1e-06}\n",
      "0.8392269116982775 {'copy': True, 'max_iter': 10000, 'n_components': 21, 'scale': False, 'tol': 1e-06}\n",
      "0.7307306847368207 {'copy': True, 'max_iter': 10000, 'n_components': 22, 'scale': True, 'tol': 1e-06}\n",
      "0.8392269116982771 {'copy': True, 'max_iter': 10000, 'n_components': 22, 'scale': False, 'tol': 1e-06}\n",
      "0.7307306847368207 {'copy': True, 'max_iter': 10000, 'n_components': 23, 'scale': True, 'tol': 1e-06}\n",
      "0.8392269116982771 {'copy': True, 'max_iter': 10000, 'n_components': 23, 'scale': False, 'tol': 1e-06}\n",
      "0.7307306847368199 {'copy': True, 'max_iter': 10000, 'n_components': 24, 'scale': True, 'tol': 1e-06}\n",
      "0.8392269116982776 {'copy': True, 'max_iter': 10000, 'n_components': 24, 'scale': False, 'tol': 1e-06}\n"
     ]
    }
   ],
   "source": [
    "for mean_score,  params  in zip(cvres [ \"mean_test_score\" ], \n",
    "                                cvres [ \"params\" ]\n",
    "                                ): \n",
    "    filew[mean_score]=params\n",
    "    print (mean_score , params) "
   ]
  },
  {
   "cell_type": "code",
   "execution_count": 146,
   "metadata": {},
   "outputs": [],
   "source": [
    "ylow=gridCought.cv_results_[ \"mean_test_score\" ]"
   ]
  },
  {
   "cell_type": "code",
   "execution_count": 147,
   "metadata": {},
   "outputs": [],
   "source": [
    "xlow=parametrsNames[ \"n_components\" ]"
   ]
  },
  {
   "cell_type": "code",
   "execution_count": 148,
   "metadata": {},
   "outputs": [
    {
     "data": {
      "text/plain": [
       "1"
      ]
     },
     "execution_count": 148,
     "metadata": {},
     "output_type": "execute_result"
    }
   ],
   "source": [
    "xlow[0]"
   ]
  },
  {
   "cell_type": "markdown",
   "metadata": {},
   "source": [
    "#  Сохраним результаты ошибок на всякий случай"
   ]
  },
  {
   "cell_type": "code",
   "execution_count": 128,
   "metadata": {},
   "outputs": [],
   "source": [
    "import pickle as pkl\n",
    "from glob import glob\n",
    "from gzip import open # NB: overrides standard open()\n",
    "import os\n",
    "import math\n",
    "import functools"
   ]
  },
  {
   "cell_type": "code",
   "execution_count": 129,
   "metadata": {},
   "outputs": [],
   "source": [
    "ffile=pd.DataFrame(filew)"
   ]
  },
  {
   "cell_type": "code",
   "execution_count": 130,
   "metadata": {},
   "outputs": [],
   "source": [
    "ffile.to_pickle('C:/Users/admin/Desktop/88/mean_test_score_column_Tyr2.pkl.gz')"
   ]
  },
  {
   "cell_type": "code",
   "execution_count": 131,
   "metadata": {},
   "outputs": [
    {
     "data": {
      "text/html": [
       "<div>\n",
       "<style scoped>\n",
       "    .dataframe tbody tr th:only-of-type {\n",
       "        vertical-align: middle;\n",
       "    }\n",
       "\n",
       "    .dataframe tbody tr th {\n",
       "        vertical-align: top;\n",
       "    }\n",
       "\n",
       "    .dataframe thead th {\n",
       "        text-align: right;\n",
       "    }\n",
       "</style>\n",
       "<table border=\"1\" class=\"dataframe\">\n",
       "  <thead>\n",
       "    <tr style=\"text-align: right;\">\n",
       "      <th></th>\n",
       "      <th>-0.547385</th>\n",
       "      <th>0.552165</th>\n",
       "      <th>0.449467</th>\n",
       "      <th>0.591625</th>\n",
       "      <th>0.503556</th>\n",
       "      <th>0.514523</th>\n",
       "      <th>0.426540</th>\n",
       "      <th>0.513412</th>\n",
       "      <th>0.298903</th>\n",
       "      <th>0.563480</th>\n",
       "      <th>...</th>\n",
       "      <th>0.250236</th>\n",
       "      <th>0.438924</th>\n",
       "      <th>0.250238</th>\n",
       "      <th>0.438923</th>\n",
       "      <th>0.250237</th>\n",
       "      <th>0.438923</th>\n",
       "      <th>0.250238</th>\n",
       "      <th>0.438923</th>\n",
       "      <th>0.250239</th>\n",
       "      <th>0.438923</th>\n",
       "    </tr>\n",
       "  </thead>\n",
       "  <tbody>\n",
       "    <tr>\n",
       "      <td>copy</td>\n",
       "      <td>True</td>\n",
       "      <td>True</td>\n",
       "      <td>True</td>\n",
       "      <td>True</td>\n",
       "      <td>True</td>\n",
       "      <td>True</td>\n",
       "      <td>True</td>\n",
       "      <td>True</td>\n",
       "      <td>True</td>\n",
       "      <td>True</td>\n",
       "      <td>...</td>\n",
       "      <td>True</td>\n",
       "      <td>True</td>\n",
       "      <td>True</td>\n",
       "      <td>True</td>\n",
       "      <td>True</td>\n",
       "      <td>True</td>\n",
       "      <td>True</td>\n",
       "      <td>True</td>\n",
       "      <td>True</td>\n",
       "      <td>True</td>\n",
       "    </tr>\n",
       "    <tr>\n",
       "      <td>max_iter</td>\n",
       "      <td>30000</td>\n",
       "      <td>30000</td>\n",
       "      <td>30000</td>\n",
       "      <td>30000</td>\n",
       "      <td>30000</td>\n",
       "      <td>30000</td>\n",
       "      <td>30000</td>\n",
       "      <td>30000</td>\n",
       "      <td>30000</td>\n",
       "      <td>30000</td>\n",
       "      <td>...</td>\n",
       "      <td>30000</td>\n",
       "      <td>30000</td>\n",
       "      <td>30000</td>\n",
       "      <td>30000</td>\n",
       "      <td>30000</td>\n",
       "      <td>30000</td>\n",
       "      <td>30000</td>\n",
       "      <td>30000</td>\n",
       "      <td>30000</td>\n",
       "      <td>30000</td>\n",
       "    </tr>\n",
       "    <tr>\n",
       "      <td>n_components</td>\n",
       "      <td>1</td>\n",
       "      <td>1</td>\n",
       "      <td>2</td>\n",
       "      <td>2</td>\n",
       "      <td>3</td>\n",
       "      <td>3</td>\n",
       "      <td>4</td>\n",
       "      <td>4</td>\n",
       "      <td>5</td>\n",
       "      <td>5</td>\n",
       "      <td>...</td>\n",
       "      <td>21</td>\n",
       "      <td>21</td>\n",
       "      <td>22</td>\n",
       "      <td>22</td>\n",
       "      <td>23</td>\n",
       "      <td>23</td>\n",
       "      <td>24</td>\n",
       "      <td>24</td>\n",
       "      <td>25</td>\n",
       "      <td>25</td>\n",
       "    </tr>\n",
       "    <tr>\n",
       "      <td>scale</td>\n",
       "      <td>False</td>\n",
       "      <td>True</td>\n",
       "      <td>False</td>\n",
       "      <td>True</td>\n",
       "      <td>False</td>\n",
       "      <td>True</td>\n",
       "      <td>False</td>\n",
       "      <td>True</td>\n",
       "      <td>False</td>\n",
       "      <td>True</td>\n",
       "      <td>...</td>\n",
       "      <td>False</td>\n",
       "      <td>True</td>\n",
       "      <td>False</td>\n",
       "      <td>True</td>\n",
       "      <td>False</td>\n",
       "      <td>True</td>\n",
       "      <td>False</td>\n",
       "      <td>True</td>\n",
       "      <td>False</td>\n",
       "      <td>True</td>\n",
       "    </tr>\n",
       "    <tr>\n",
       "      <td>tol</td>\n",
       "      <td>1e-06</td>\n",
       "      <td>1e-06</td>\n",
       "      <td>1e-06</td>\n",
       "      <td>1e-06</td>\n",
       "      <td>1e-06</td>\n",
       "      <td>1e-06</td>\n",
       "      <td>1e-06</td>\n",
       "      <td>1e-06</td>\n",
       "      <td>1e-06</td>\n",
       "      <td>1e-06</td>\n",
       "      <td>...</td>\n",
       "      <td>1e-06</td>\n",
       "      <td>1e-06</td>\n",
       "      <td>1e-06</td>\n",
       "      <td>1e-06</td>\n",
       "      <td>1e-06</td>\n",
       "      <td>1e-06</td>\n",
       "      <td>1e-06</td>\n",
       "      <td>1e-06</td>\n",
       "      <td>1e-06</td>\n",
       "      <td>1e-06</td>\n",
       "    </tr>\n",
       "  </tbody>\n",
       "</table>\n",
       "<p>5 rows × 50 columns</p>\n",
       "</div>"
      ],
      "text/plain": [
       "             -0.547385  0.552165  0.449467  0.591625  0.503556  0.514523  \\\n",
       "copy              True      True      True      True      True      True   \n",
       "max_iter         30000     30000     30000     30000     30000     30000   \n",
       "n_components         1         1         2         2         3         3   \n",
       "scale            False      True     False      True     False      True   \n",
       "tol              1e-06     1e-06     1e-06     1e-06     1e-06     1e-06   \n",
       "\n",
       "              0.426540  0.513412  0.298903  0.563480  ...  0.250236  0.438924  \\\n",
       "copy              True      True      True      True  ...      True      True   \n",
       "max_iter         30000     30000     30000     30000  ...     30000     30000   \n",
       "n_components         4         4         5         5  ...        21        21   \n",
       "scale            False      True     False      True  ...     False      True   \n",
       "tol              1e-06     1e-06     1e-06     1e-06  ...     1e-06     1e-06   \n",
       "\n",
       "              0.250238  0.438923  0.250237  0.438923  0.250238  0.438923  \\\n",
       "copy              True      True      True      True      True      True   \n",
       "max_iter         30000     30000     30000     30000     30000     30000   \n",
       "n_components        22        22        23        23        24        24   \n",
       "scale            False      True     False      True     False      True   \n",
       "tol              1e-06     1e-06     1e-06     1e-06     1e-06     1e-06   \n",
       "\n",
       "              0.250239  0.438923  \n",
       "copy              True      True  \n",
       "max_iter         30000     30000  \n",
       "n_components        25        25  \n",
       "scale            False      True  \n",
       "tol              1e-06     1e-06  \n",
       "\n",
       "[5 rows x 50 columns]"
      ]
     },
     "execution_count": 131,
     "metadata": {},
     "output_type": "execute_result"
    }
   ],
   "source": [
    "ffile"
   ]
  },
  {
   "cell_type": "markdown",
   "metadata": {},
   "source": [
    "# Построим график зависимости ошибки от комбинации параметров"
   ]
  },
  {
   "cell_type": "code",
   "execution_count": 33,
   "metadata": {},
   "outputs": [
    {
     "data": {
      "image/png": "[encoded data removed]",
      "text/plain": [
       "<Figure size 864x504 with 1 Axes>"
      ]
     },
     "metadata": {
      "needs_background": "light"
     },
     "output_type": "display_data"
    }
   ],
   "source": [
    "import matplotlib as mpl\n",
    "mpl.rc('font',family='Times New Roman')\n",
    "plt.figure(figsize=(12,7))\n",
    "plt.plot(ylow,\".\",color=\"red\")\n",
    "plt.ylabel(\"Значение ошибки\" , fontsize=25,labelpad=12)\n",
    "plt.grid()\n",
    "plt.xlabel(\"Номер комбинации параметров\",  fontsize=25,labelpad=15)\n",
    "plt.title(\"Зависемость ошибки от значения параметров для Trp\", fontsize=28,loc=\"center\" ,pad=15)\n",
    "\n",
    "\n",
    "plt.yticks(fontsize=19)\n",
    "plt.xticks(fontsize=19)\n",
    "plt.savefig('Зависемость ошибки от параметров для PLS1_Trp2.jpeg', format='jpeg', dpi=100)\n",
    "plt.show();"
   ]
  },
  {
   "cell_type": "code",
   "execution_count": 142,
   "metadata": {},
   "outputs": [
    {
     "data": {
      "text/plain": [
       "{'copy': True, 'max_iter': 500, 'n_components': 2, 'scale': True, 'tol': 1e-06}"
      ]
     },
     "execution_count": 142,
     "metadata": {},
     "output_type": "execute_result"
    }
   ],
   "source": [
    "pls1.get_params()"
   ]
  },
  {
   "cell_type": "markdown",
   "metadata": {},
   "source": [
    "# Оценим правильность на тестовом наборе"
   ]
  },
  {
   "cell_type": "code",
   "execution_count": 115,
   "metadata": {},
   "outputs": [
    {
     "name": "stdout",
     "output_type": "stream",
     "text": [
      "Правильность на тестовом наборе: nan\n"
     ]
    }
   ],
   "source": [
    "print(\"Правильность на тестовом наборе: {:.2f}\".format(gridCought.score(X_test, y_test)))"
   ]
  },
  {
   "cell_type": "code",
   "execution_count": 116,
   "metadata": {},
   "outputs": [
    {
     "name": "stdout",
     "output_type": "stream",
     "text": [
      "Наилучшее значение кросс-валидац. правильности: 0.32\n"
     ]
    }
   ],
   "source": [
    "print(\"Наилучшее значение кросс-валидац. правильности: {:.2f}\".format(gridCought.best_score_))"
   ]
  },
  {
   "cell_type": "code",
   "execution_count": 117,
   "metadata": {},
   "outputs": [
    {
     "name": "stdout",
     "output_type": "stream",
     "text": [
      "3.0825621365425135\n"
     ]
    }
   ],
   "source": [
    "from  sklearn.metrics import  mean_squared_error\n",
    "final_mse = mean_squared_error (y_test,  predictors) \n",
    "final_rmse  =  np.sqrt(final_mse)  \n",
    "print(final_rmse)"
   ]
  },
  {
   "cell_type": "code",
   "execution_count": 118,
   "metadata": {},
   "outputs": [
    {
     "ename": "AttributeError",
     "evalue": "'GridSearchCV' object has no attribute 'accuracy_score'",
     "output_type": "error",
     "traceback": [
      "\u001b[1;31m---------------------------------------------------------------------------\u001b[0m",
      "\u001b[1;31mAttributeError\u001b[0m                            Traceback (most recent call last)",
      "\u001b[1;32m<ipython-input-118-7e1288b37008>\u001b[0m in \u001b[0;36m<module>\u001b[1;34m\u001b[0m\n\u001b[0;32m      1\u001b[0m \u001b[1;32mfrom\u001b[0m  \u001b[0msklearn\u001b[0m\u001b[1;33m.\u001b[0m\u001b[0mmetrics\u001b[0m \u001b[1;32mimport\u001b[0m \u001b[0maccuracy_score\u001b[0m\u001b[1;33m\u001b[0m\u001b[1;33m\u001b[0m\u001b[0m\n\u001b[1;32m----> 2\u001b[1;33m \u001b[0mprint\u001b[0m\u001b[1;33m(\u001b[0m\u001b[0mgridCought\u001b[0m\u001b[1;33m.\u001b[0m\u001b[0maccuracy_score\u001b[0m\u001b[1;33m(\u001b[0m\u001b[0my_test\u001b[0m\u001b[1;33m,\u001b[0m  \u001b[0mpredictors\u001b[0m\u001b[1;33m)\u001b[0m\u001b[1;33m)\u001b[0m\u001b[1;33m\u001b[0m\u001b[1;33m\u001b[0m\u001b[0m\n\u001b[0m",
      "\u001b[1;31mAttributeError\u001b[0m: 'GridSearchCV' object has no attribute 'accuracy_score'"
     ]
    }
   ],
   "source": [
    "from  sklearn.metrics import accuracy_score\n",
    "print(gridCought.accuracy_score(y_test,  predictors))"
   ]
  },
  {
   "cell_type": "code",
   "execution_count": 119,
   "metadata": {},
   "outputs": [
    {
     "name": "stdout",
     "output_type": "stream",
     "text": [
      "[[42.98438284]]\n",
      "31    39.901821\n",
      "Name: Gominy, dtype: float64\n"
     ]
    }
   ],
   "source": [
    "print(predictors)\n",
    "print(y_test)"
   ]
  },
  {
   "cell_type": "markdown",
   "metadata": {},
   "source": [
    "# Построим график для визуализации результатов"
   ]
  },
  {
   "cell_type": "code",
   "execution_count": 149,
   "metadata": {},
   "outputs": [
    {
     "data": {
      "image/png": "[encoded data removed]",
      "text/plain": [
       "<Figure size 432x288 with 1 Axes>"
      ]
     },
     "metadata": {
      "needs_background": "light"
     },
     "output_type": "display_data"
    }
   ],
   "source": [
    "b=[]\n",
    "for  i in range(0,5):\n",
    "    b+=[i]\n",
    "plt.plot(y_test,predictors, \".\",color=\"red\",label=\"предсказанные значения\")\n",
    "plt.plot(y_test,y_test,color=\"blue\", label=\"тестовые значения\")\n",
    "plt.legend()\n",
    "plt.grid(True)\n",
    "plt.title(\"График для столбца Gominy\")\n",
    "plt.show();"
   ]
  },
  {
   "cell_type": "code",
   "execution_count": 153,
   "metadata": {},
   "outputs": [],
   "source": [
    "area3x=np.arange(1,4.5,0.5)"
   ]
  },
  {
   "cell_type": "code",
   "execution_count": 154,
   "metadata": {},
   "outputs": [],
   "source": [
    "area3y=np.arange(0,5,0.5)"
   ]
  },
  {
   "cell_type": "code",
   "execution_count": 156,
   "metadata": {},
   "outputs": [
    {
     "data": {
      "image/png": "[encoded data removed]",
      "text/plain": [
       "<Figure size 1008x648 with 1 Axes>"
      ]
     },
     "metadata": {
      "needs_background": "light"
     },
     "output_type": "display_data"
    }
   ],
   "source": [
    "mpl.rc('font',family='Times New Roman')\n",
    "plt.figure(figsize=(14,9))\n",
    "plt.plot(y_test,predictors, \".\",color=\"red\",ms=50)\n",
    "plt.plot(y_test,y_test,color=\"blue\",lw=5)\n",
    "\n",
    "plt.ylabel(\"Предсказанные значения\" , fontsize=30,labelpad=12)\n",
    "plt.grid()\n",
    "plt.xlabel(\"Истинные значения\",  fontsize=30,labelpad=15)\n",
    "plt.title(\"График predicted-reference Trp\", fontsize=35,loc=\"center\" ,pad=15)\n",
    "\n",
    "\n",
    "plt.yticks(area3y,fontsize=24)\n",
    "plt.xticks(area3x,fontsize=24)\n",
    "plt.savefig('График predicted-reference Trp.jpeg', format='jpeg', dpi=1000)\n",
    "plt.show();"
   ]
  },
  {
   "cell_type": "code",
   "execution_count": 105,
   "metadata": {},
   "outputs": [],
   "source": [
    "?plt.plot"
   ]
  },
  {
   "cell_type": "code",
   "execution_count": null,
   "metadata": {},
   "outputs": [],
   "source": []
  }
 ],
 "metadata": {
  "kernelspec": {
   "display_name": "Python 3",
   "language": "python",
   "name": "python3"
  },
  "language_info": {
   "codemirror_mode": {
    "name": "ipython",
    "version": 3
   },
   "file_extension": ".py",
   "mimetype": "text/x-python",
   "name": "python",
   "nbconvert_exporter": "python",
   "pygments_lexer": "ipython3",
   "version": "3.7.4"
  }
 },
 "nbformat": 4,
 "nbformat_minor": 2
}
