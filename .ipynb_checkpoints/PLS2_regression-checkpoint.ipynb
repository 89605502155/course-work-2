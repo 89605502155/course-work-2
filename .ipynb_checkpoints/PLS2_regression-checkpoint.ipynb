{
 "cells": [
  {
   "cell_type": "code",
   "execution_count": 77,
   "metadata": {},
   "outputs": [
    {
     "name": "stdout",
     "output_type": "stream",
     "text": [
      "(206,)\n"
     ]
    },
    {
     "data": {
      "image/png": "[encoded data removed]",
      "text/plain": [
       "<Figure size 432x288 with 1 Axes>"
      ]
     },
     "metadata": {
      "needs_background": "light"
     },
     "output_type": "display_data"
    },
    {
     "name": "stdout",
     "output_type": "stream",
     "text": [
      "\n",
      "(30, 11330)\n",
      "(30, 3)\n",
      "Gominy    17.700965\n",
      "Tyr        0.152371\n",
      "Trp        0.091514\n",
      "dtype: float64\n",
      "nan {'copy': True, 'max_iter': 10000, 'n_components': 1, 'scale': True, 'tol': 1e-06}\n",
      "nan {'copy': True, 'max_iter': 10000, 'n_components': 2, 'scale': True, 'tol': 1e-06}\n",
      "nan {'copy': True, 'max_iter': 10000, 'n_components': 3, 'scale': True, 'tol': 1e-06}\n",
      "nan {'copy': True, 'max_iter': 10000, 'n_components': 4, 'scale': True, 'tol': 1e-06}\n",
      "nan {'copy': True, 'max_iter': 10000, 'n_components': 5, 'scale': True, 'tol': 1e-06}\n",
      "nan {'copy': True, 'max_iter': 10000, 'n_components': 6, 'scale': True, 'tol': 1e-06}\n",
      "nan {'copy': True, 'max_iter': 10000, 'n_components': 7, 'scale': True, 'tol': 1e-06}\n",
      "nan {'copy': True, 'max_iter': 10000, 'n_components': 8, 'scale': True, 'tol': 1e-06}\n",
      "nan {'copy': True, 'max_iter': 10000, 'n_components': 9, 'scale': True, 'tol': 1e-06}\n",
      "nan {'copy': True, 'max_iter': 10000, 'n_components': 10, 'scale': True, 'tol': 1e-06}\n",
      "nan {'copy': True, 'max_iter': 10000, 'n_components': 11, 'scale': True, 'tol': 1e-06}\n",
      "nan {'copy': True, 'max_iter': 10000, 'n_components': 12, 'scale': True, 'tol': 1e-06}\n",
      "nan {'copy': True, 'max_iter': 10000, 'n_components': 13, 'scale': True, 'tol': 1e-06}\n",
      "nan {'copy': True, 'max_iter': 10000, 'n_components': 14, 'scale': True, 'tol': 1e-06}\n",
      "nan {'copy': True, 'max_iter': 10000, 'n_components': 15, 'scale': True, 'tol': 1e-06}\n",
      "nan {'copy': True, 'max_iter': 10000, 'n_components': 16, 'scale': True, 'tol': 1e-06}\n",
      "nan {'copy': True, 'max_iter': 10000, 'n_components': 17, 'scale': True, 'tol': 1e-06}\n",
      "nan {'copy': True, 'max_iter': 10000, 'n_components': 18, 'scale': True, 'tol': 1e-06}\n",
      "nan {'copy': True, 'max_iter': 10000, 'n_components': 19, 'scale': True, 'tol': 1e-06}\n",
      "nan {'copy': True, 'max_iter': 10000, 'n_components': 20, 'scale': True, 'tol': 1e-06}\n",
      "nan {'copy': True, 'max_iter': 10000, 'n_components': 21, 'scale': True, 'tol': 1e-06}\n",
      "nan {'copy': True, 'max_iter': 10000, 'n_components': 22, 'scale': True, 'tol': 1e-06}\n",
      "nan {'copy': True, 'max_iter': 10000, 'n_components': 23, 'scale': True, 'tol': 1e-06}\n",
      "nan {'copy': True, 'max_iter': 10000, 'n_components': 24, 'scale': True, 'tol': 1e-06}\n",
      "nan {'copy': True, 'max_iter': 10000, 'n_components': 25, 'scale': True, 'tol': 1e-06}\n",
      "nan {'copy': True, 'max_iter': 10000, 'n_components': 26, 'scale': True, 'tol': 1e-06}\n",
      "nan {'copy': True, 'max_iter': 10000, 'n_components': 27, 'scale': True, 'tol': 1e-06}\n",
      "nan {'copy': True, 'max_iter': 10000, 'n_components': 28, 'scale': True, 'tol': 1e-06}\n",
      "nan {'copy': True, 'max_iter': 10000, 'n_components': 29, 'scale': True, 'tol': 1e-06}\n",
      "nan {'copy': True, 'max_iter': 10000, 'n_components': 30, 'scale': True, 'tol': 1e-06}\n",
      "nan {'copy': True, 'max_iter': 10000, 'n_components': 31, 'scale': True, 'tol': 1e-06}\n",
      "nan {'copy': True, 'max_iter': 10000, 'n_components': 32, 'scale': True, 'tol': 1e-06}\n",
      "nan {'copy': True, 'max_iter': 10000, 'n_components': 33, 'scale': True, 'tol': 1e-06}\n",
      "nan {'copy': True, 'max_iter': 10000, 'n_components': 34, 'scale': True, 'tol': 1e-06}\n",
      "nan {'copy': True, 'max_iter': 10000, 'n_components': 35, 'scale': True, 'tol': 1e-06}\n",
      "nan {'copy': True, 'max_iter': 10000, 'n_components': 36, 'scale': True, 'tol': 1e-06}\n",
      "nan {'copy': True, 'max_iter': 10000, 'n_components': 37, 'scale': True, 'tol': 1e-06}\n",
      "nan {'copy': True, 'max_iter': 10000, 'n_components': 38, 'scale': True, 'tol': 1e-06}\n",
      "nan {'copy': True, 'max_iter': 10000, 'n_components': 39, 'scale': True, 'tol': 1e-06}\n",
      "nan {'copy': True, 'max_iter': 10000, 'n_components': 40, 'scale': True, 'tol': 1e-06}\n",
      "nan {'copy': True, 'max_iter': 10000, 'n_components': 41, 'scale': True, 'tol': 1e-06}\n",
      "nan {'copy': True, 'max_iter': 10000, 'n_components': 42, 'scale': True, 'tol': 1e-06}\n",
      "nan {'copy': True, 'max_iter': 10000, 'n_components': 43, 'scale': True, 'tol': 1e-06}\n",
      "nan {'copy': True, 'max_iter': 10000, 'n_components': 44, 'scale': True, 'tol': 1e-06}\n",
      "nan {'copy': True, 'max_iter': 10000, 'n_components': 45, 'scale': True, 'tol': 1e-06}\n",
      "nan {'copy': True, 'max_iter': 10000, 'n_components': 46, 'scale': True, 'tol': 1e-06}\n",
      "nan {'copy': True, 'max_iter': 10000, 'n_components': 47, 'scale': True, 'tol': 1e-06}\n",
      "nan {'copy': True, 'max_iter': 10000, 'n_components': 48, 'scale': True, 'tol': 1e-06}\n",
      "nan {'copy': True, 'max_iter': 10000, 'n_components': 49, 'scale': True, 'tol': 1e-06}\n",
      "nan {'copy': True, 'max_iter': 10000, 'n_components': 50, 'scale': True, 'tol': 1e-06}\n",
      "nan {'copy': True, 'max_iter': 10000, 'n_components': 51, 'scale': True, 'tol': 1e-06}\n",
      "nan {'copy': True, 'max_iter': 10000, 'n_components': 52, 'scale': True, 'tol': 1e-06}\n",
      "nan {'copy': True, 'max_iter': 10000, 'n_components': 53, 'scale': True, 'tol': 1e-06}\n",
      "nan {'copy': True, 'max_iter': 10000, 'n_components': 54, 'scale': True, 'tol': 1e-06}\n",
      "nan {'copy': True, 'max_iter': 10000, 'n_components': 55, 'scale': True, 'tol': 1e-06}\n",
      "nan {'copy': True, 'max_iter': 10000, 'n_components': 56, 'scale': True, 'tol': 1e-06}\n",
      "nan {'copy': True, 'max_iter': 10000, 'n_components': 57, 'scale': True, 'tol': 1e-06}\n",
      "nan {'copy': True, 'max_iter': 10000, 'n_components': 58, 'scale': True, 'tol': 1e-06}\n",
      "nan {'copy': True, 'max_iter': 10000, 'n_components': 59, 'scale': True, 'tol': 1e-06}\n",
      "nan {'copy': True, 'max_iter': 10000, 'n_components': 60, 'scale': True, 'tol': 1e-06}\n",
      "nan {'copy': True, 'max_iter': 10000, 'n_components': 61, 'scale': True, 'tol': 1e-06}\n",
      "nan {'copy': True, 'max_iter': 10000, 'n_components': 62, 'scale': True, 'tol': 1e-06}\n",
      "nan {'copy': True, 'max_iter': 10000, 'n_components': 63, 'scale': True, 'tol': 1e-06}\n",
      "nan {'copy': True, 'max_iter': 10000, 'n_components': 64, 'scale': True, 'tol': 1e-06}\n",
      "nan {'copy': True, 'max_iter': 10000, 'n_components': 65, 'scale': True, 'tol': 1e-06}\n",
      "nan {'copy': True, 'max_iter': 10000, 'n_components': 66, 'scale': True, 'tol': 1e-06}\n",
      "nan {'copy': True, 'max_iter': 10000, 'n_components': 67, 'scale': True, 'tol': 1e-06}\n",
      "nan {'copy': True, 'max_iter': 10000, 'n_components': 68, 'scale': True, 'tol': 1e-06}\n",
      "nan {'copy': True, 'max_iter': 10000, 'n_components': 69, 'scale': True, 'tol': 1e-06}\n",
      "nan {'copy': True, 'max_iter': 10000, 'n_components': 70, 'scale': True, 'tol': 1e-06}\n",
      "nan {'copy': True, 'max_iter': 10000, 'n_components': 71, 'scale': True, 'tol': 1e-06}\n",
      "nan {'copy': True, 'max_iter': 10000, 'n_components': 72, 'scale': True, 'tol': 1e-06}\n",
      "nan {'copy': True, 'max_iter': 10000, 'n_components': 73, 'scale': True, 'tol': 1e-06}\n",
      "nan {'copy': True, 'max_iter': 10000, 'n_components': 74, 'scale': True, 'tol': 1e-06}\n",
      "nan {'copy': True, 'max_iter': 10000, 'n_components': 75, 'scale': True, 'tol': 1e-06}\n",
      "nan {'copy': True, 'max_iter': 10000, 'n_components': 76, 'scale': True, 'tol': 1e-06}\n",
      "nan {'copy': True, 'max_iter': 10000, 'n_components': 77, 'scale': True, 'tol': 1e-06}\n",
      "nan {'copy': True, 'max_iter': 10000, 'n_components': 78, 'scale': True, 'tol': 1e-06}\n",
      "nan {'copy': True, 'max_iter': 10000, 'n_components': 79, 'scale': True, 'tol': 1e-06}\n",
      "nan {'copy': True, 'max_iter': 10000, 'n_components': 80, 'scale': True, 'tol': 1e-06}\n",
      "nan {'copy': True, 'max_iter': 10000, 'n_components': 81, 'scale': True, 'tol': 1e-06}\n",
      "nan {'copy': True, 'max_iter': 10000, 'n_components': 82, 'scale': True, 'tol': 1e-06}\n",
      "nan {'copy': True, 'max_iter': 10000, 'n_components': 83, 'scale': True, 'tol': 1e-06}\n",
      "nan {'copy': True, 'max_iter': 10000, 'n_components': 84, 'scale': True, 'tol': 1e-06}\n",
      "nan {'copy': True, 'max_iter': 10000, 'n_components': 85, 'scale': True, 'tol': 1e-06}\n",
      "nan {'copy': True, 'max_iter': 10000, 'n_components': 86, 'scale': True, 'tol': 1e-06}\n",
      "nan {'copy': True, 'max_iter': 10000, 'n_components': 87, 'scale': True, 'tol': 1e-06}\n",
      "nan {'copy': True, 'max_iter': 10000, 'n_components': 88, 'scale': True, 'tol': 1e-06}\n",
      "nan {'copy': True, 'max_iter': 10000, 'n_components': 89, 'scale': True, 'tol': 1e-06}\n",
      "nan {'copy': True, 'max_iter': 10000, 'n_components': 90, 'scale': True, 'tol': 1e-06}\n",
      "nan {'copy': True, 'max_iter': 10000, 'n_components': 91, 'scale': True, 'tol': 1e-06}\n",
      "nan {'copy': True, 'max_iter': 10000, 'n_components': 92, 'scale': True, 'tol': 1e-06}\n",
      "nan {'copy': True, 'max_iter': 10000, 'n_components': 93, 'scale': True, 'tol': 1e-06}\n",
      "nan {'copy': True, 'max_iter': 10000, 'n_components': 94, 'scale': True, 'tol': 1e-06}\n",
      "nan {'copy': True, 'max_iter': 10000, 'n_components': 95, 'scale': True, 'tol': 1e-06}\n",
      "nan {'copy': True, 'max_iter': 10000, 'n_components': 96, 'scale': True, 'tol': 1e-06}\n",
      "nan {'copy': True, 'max_iter': 10000, 'n_components': 97, 'scale': True, 'tol': 1e-06}\n",
      "nan {'copy': True, 'max_iter': 10000, 'n_components': 98, 'scale': True, 'tol': 1e-06}\n",
      "nan {'copy': True, 'max_iter': 10000, 'n_components': 99, 'scale': True, 'tol': 1e-06}\n"
     ]
    }
   ],
   "source": [
    "from gzip import open # NB: overrides standard open()\n",
    "import pickle as pkl\n",
    "import tensorly as tl\n",
    "from tensorly.base import tensor_to_vec,  partial_tensor_to_vec\n",
    "import numpy as np\n",
    "import pandas as pd\n",
    "import warnings \n",
    "import matplotlib.pyplot as plt\n",
    "from sklearn.model_selection import cross_val_score\n",
    "from sklearn.model_selection import cross_validate\n",
    "from sklearn.model_selection import train_test_split\n",
    "\n",
    "warnings.simplefilter('ignore') # отключим предупреждения Anaconda\n",
    "Xdata_numpy = pkl.load(open('C:/Users/admin/Desktop/88/X.pkl.gz', 'rb'))\n",
    "Ydata = pkl.load(open('C:/Users/admin/Desktop/88/y.pkl.gz', 'rb'))\n",
    "print(Xdata_numpy['emission'].shape)\n",
    "string_name=[]\n",
    "string_name2=[]\n",
    "k=0\n",
    "#создаю пространство имён для развёрнутого тензора\n",
    "for i in range(len(Xdata_numpy['emission'])):\n",
    "    for j in range(len(Xdata_numpy['excitation'])):\n",
    "        string_name+=[str(Xdata_numpy['emission'][i])+\" x \"+str(Xdata_numpy['excitation'][j])]\n",
    "        string_name2+=[k]\n",
    "        k+=1\n",
    "#создаём пространство образцов\n",
    "examples_names=[]\n",
    "v=[]\n",
    "for i in range(0,35):\n",
    "    examples_names+=[str(i)]\n",
    "    v+=[i]\n",
    "Xdata_numpy['X'].shape = (Xdata_numpy['X'].shape[0], Xdata_numpy['X'].shape[1] * Xdata_numpy['X'].shape[2])\n",
    "Xdata_numpy['X'][:,np.isnan(Xdata_numpy['X']).any(axis = 0)] = 0 # zero out any columns containing NaN\n",
    "\n",
    "#рисуем новую матрицу\n",
    "import matplotlib.pyplot as plt\n",
    "plt.imshow(Xdata_numpy['X'],aspect=\"auto\")\n",
    "plt.show();\n",
    "print()\n",
    "\n",
    "X=pd.DataFrame(Xdata_numpy['X'],index=examples_names, columns=string_name)\n",
    "#делим набор на обучающий и тестовый\n",
    "X_train, X_test, y_train, y_test = train_test_split(\n",
    "     X, Ydata, test_size=0.1428 \n",
    ")\n",
    "print(X_train.shape)\n",
    "print(y_train.shape)\n",
    "s=[]\n",
    "\n",
    "#начинаем применять\n",
    "from sklearn.cross_decomposition import PLSRegression\n",
    "from sklearn.model_selection import GridSearchCV\n",
    "parametrsNames=[{'ee':string_name2}]\n",
    "\n",
    "pls2 = PLSRegression()\n",
    "parametrsNames={\n",
    "    'copy': [True], \n",
    "    'max_iter': [10000], \n",
    "    'n_components': range(1,100), \n",
    "    'scale': [True], \n",
    "    'tol': [1e-06]\n",
    "}\n",
    "gridCought=GridSearchCV(pls2, parametrsNames)\n",
    "gridCought.fit(X_train,y_train)\n",
    "predictors=gridCought.predict(X_test)\n",
    "s=np.mean((predictors-y_test)**2)\n",
    "\n",
    "print(s)\n",
    "\n",
    "print(gridCought.best_params_)\n",
    "\n",
    "cvres  =  gridCought.cv_results_ \n",
    "for mean_score,  params  in zip (cvres [ \"mean_test_score\" ], cvres [ \"params\" ] ): \n",
    "    print (np.sqrt(-mean_score),  params)\n"
   ]
  },
  {
   "cell_type": "code",
   "execution_count": 68,
   "metadata": {},
   "outputs": [
    {
     "data": {
      "text/plain": [
       "(5, 3)"
      ]
     },
     "execution_count": 68,
     "metadata": {},
     "output_type": "execute_result"
    }
   ],
   "source": [
    "predictors.shape"
   ]
  },
  {
   "cell_type": "code",
   "execution_count": 71,
   "metadata": {},
   "outputs": [
    {
     "data": {
      "text/plain": [
       "pandas.core.frame.DataFrame"
      ]
     },
     "execution_count": 71,
     "metadata": {},
     "output_type": "execute_result"
    }
   ],
   "source": [
    "type(y_test)"
   ]
  },
  {
   "cell_type": "code",
   "execution_count": 73,
   "metadata": {},
   "outputs": [
    {
     "name": "stdout",
     "output_type": "stream",
     "text": [
      "[48.71776277 39.30983219 39.72902876 49.42186995 35.0537506 ]\n",
      "18    43.272738\n",
      "20    34.193088\n",
      "26    36.909160\n",
      "0     45.446791\n",
      "8     35.354605\n",
      "Name: Gominy, dtype: float64\n"
     ]
    }
   ],
   "source": [
    "print(predictors[:,0])\n",
    "print(y_test.iloc[:,0])\n"
   ]
  },
  {
   "cell_type": "code",
   "execution_count": 80,
   "metadata": {},
   "outputs": [
    {
     "data": {
      "image/png": "[encoded data removed]",
      "text/plain": [
       "<Figure size 432x288 with 1 Axes>"
      ]
     },
     "metadata": {
      "needs_background": "light"
     },
     "output_type": "display_data"
    }
   ],
   "source": [
    "b=[]\n",
    "for  i in range(0,5):\n",
    "    b+=[i]\n",
    "plt.plot(b,predictors[:,0],color=\"red\",label=\"предсказанные значения\")\n",
    "plt.plot(b,y_test.iloc[:,0],color=\"blue\", label=\"тестовые значения\")\n",
    "plt.legend()\n",
    "plt.grid(True)\n",
    "plt.title(\"График для столбца Gominy\")\n",
    "plt.show();\n"
   ]
  },
  {
   "cell_type": "code",
   "execution_count": null,
   "metadata": {},
   "outputs": [],
   "source": []
  }
 ],
 "metadata": {
  "kernelspec": {
   "display_name": "Python 3",
   "language": "python",
   "name": "python3"
  },
  "language_info": {
   "codemirror_mode": {
    "name": "ipython",
    "version": 3
   },
   "file_extension": ".py",
   "mimetype": "text/x-python",
   "name": "python",
   "nbconvert_exporter": "python",
   "pygments_lexer": "ipython3",
   "version": "3.7.4"
  }
 },
 "nbformat": 4,
 "nbformat_minor": 2
}
