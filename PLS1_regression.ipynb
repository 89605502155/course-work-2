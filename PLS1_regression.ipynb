{
 "cells": [
  {
   "cell_type": "markdown",
   "metadata": {},
   "source": [
    "# Подготовительные работы"
   ]
  },
  {
   "cell_type": "code",
   "execution_count": 1,
   "metadata": {},
   "outputs": [],
   "source": [
    "import numpy as np"
   ]
  },
  {
   "cell_type": "code",
   "execution_count": 2,
   "metadata": {},
   "outputs": [],
   "source": [
    "log_space=np.logspace(-6,6,3,endpoint=True)"
   ]
  },
  {
   "cell_type": "code",
   "execution_count": 3,
   "metadata": {},
   "outputs": [],
   "source": [
    "from gzip import open # NB: overrides standard open()\n",
    "import pickle as pkl\n",
    "import tensorly as tl\n",
    "from tensorly.base import tensor_to_vec,  partial_tensor_to_vec\n",
    "import pandas as pd\n",
    "import warnings \n",
    "import matplotlib.pyplot as plt\n",
    "from sklearn.model_selection import cross_val_score\n",
    "from sklearn.model_selection import cross_validate\n",
    "from sklearn.model_selection import train_test_split\n",
    "from sklearn.cross_decomposition import PLSRegression\n",
    "from sklearn.model_selection import GridSearchCV\n",
    "import matplotlib as mpl\n",
    "from glob import glob\n",
    "import os\n",
    "import math\n",
    "import functools"
   ]
  },
  {
   "cell_type": "code",
   "execution_count": 4,
   "metadata": {},
   "outputs": [],
   "source": [
    "warnings.simplefilter('ignore') # отключим предупреждения Anaconda"
   ]
  },
  {
   "cell_type": "markdown",
   "metadata": {},
   "source": [
    "# Применяем алгоритм построения модели"
   ]
  },
  {
   "cell_type": "code",
   "execution_count": 5,
   "metadata": {},
   "outputs": [
    {
     "name": "stdout",
     "output_type": "stream",
     "text": [
      "(206,)\n"
     ]
    }
   ],
   "source": [
    "Xdata_numpy = pkl.load(open('C:/Users/admin/Desktop/88/X.pkl.gz', 'rb'))\n",
    "Ydata = pkl.load(open('C:/Users/admin/Desktop/88/y.pkl.gz', 'rb'))\n",
    "print(Xdata_numpy['emission'].shape)"
   ]
  },
  {
   "cell_type": "code",
   "execution_count": 6,
   "metadata": {},
   "outputs": [],
   "source": [
    "#разворачиваем тензор\n",
    "Xdata_numpy['X'].shape = (Xdata_numpy['X'].shape[0], Xdata_numpy['X'].shape[1] * Xdata_numpy['X'].shape[2])\n",
    "Xdata_numpy['X'][:,np.isnan(Xdata_numpy['X']).any(axis = 0)] = 0 # zero out any columns containing NaN"
   ]
  },
  {
   "cell_type": "code",
   "execution_count": 7,
   "metadata": {},
   "outputs": [
    {
     "name": "stdout",
     "output_type": "stream",
     "text": [
      "(25, 11330)\n",
      "(25,)\n"
     ]
    }
   ],
   "source": [
    "#делим набор на обучающий и тестовый\n",
    "X_train, X_test, y_train, y_test = train_test_split(\n",
    "     Xdata_numpy['X'], Ydata.iloc[:,2], test_size=0.2857\n",
    ")\n",
    "print(X_train.shape)\n",
    "print(y_train.shape)"
   ]
  },
  {
   "cell_type": "code",
   "execution_count": 8,
   "metadata": {},
   "outputs": [],
   "source": [
    "#начинаем применять\n",
    "pls1 = PLSRegression()\n",
    "parametrsNames={\n",
    "    'copy': [True], \n",
    "    'max_iter': [10000], \n",
    "    'n_components': range(1,85), \n",
    "    'scale': [True,False], \n",
    "    'tol': log_space\n",
    "}"
   ]
  },
  {
   "cell_type": "code",
   "execution_count": 9,
   "metadata": {},
   "outputs": [
    {
     "name": "stdout",
     "output_type": "stream",
     "text": [
      "{'copy': True, 'max_iter': 10000, 'n_components': 3, 'scale': False, 'tol': 1e-06}\n",
      "Правильность на тестовом наборе: 0.90\n"
     ]
    }
   ],
   "source": [
    "gridCought=GridSearchCV(pls1, parametrsNames, cv=5,return_train_score=True)\n",
    "gridCought.fit(X_train,y_train)\n",
    "predictors=gridCought.predict(X_test)\n",
    "\n",
    "print(gridCought.best_params_)\n",
    "print(\"Правильность на тестовом наборе: {:.2f}\".format(gridCought.score(X_test, y_test)))\n",
    "\n"
   ]
  },
  {
   "cell_type": "markdown",
   "metadata": {},
   "source": [
    "# Обработаем результаты"
   ]
  },
  {
   "cell_type": "code",
   "execution_count": 10,
   "metadata": {},
   "outputs": [],
   "source": [
    "cvres  = gridCought.cv_results_"
   ]
  },
  {
   "cell_type": "markdown",
   "metadata": {},
   "source": [
    "#### Попробуем сохранить результаты в пикль формате"
   ]
  },
  {
   "cell_type": "code",
   "execution_count": 11,
   "metadata": {},
   "outputs": [],
   "source": [
    "pkl.dump(cvres,open('C:/Users/admin/Desktop/88/PLS1_Trp.pkl.gz', 'wb'))"
   ]
  },
  {
   "cell_type": "code",
   "execution_count": 12,
   "metadata": {},
   "outputs": [],
   "source": [
    "pkl.dump(gridCought.best_params_,open('C:/Users/admin/Desktop/88/PLS1_bestparams_Trp.pkl.gz', 'wb'))"
   ]
  },
  {
   "cell_type": "code",
   "execution_count": 13,
   "metadata": {},
   "outputs": [],
   "source": [
    "pkl.dump(gridCought.best_estimator_,open('C:/Users/admin/Desktop/88/PLS1_bestestimator_Trp.pkl.gz', 'wb'))"
   ]
  },
  {
   "cell_type": "code",
   "execution_count": 14,
   "metadata": {},
   "outputs": [],
   "source": [
    "pkl.dump(gridCought.score,open('C:/Users/admin/Desktop/88/PLS1_bestscore_Trp.pkl.gz', 'wb'))"
   ]
  },
  {
   "cell_type": "code",
   "execution_count": 15,
   "metadata": {},
   "outputs": [],
   "source": [
    "pkl.dump(predictors,open('C:/Users/admin/Desktop/88/PLS1_predictors_Trp.pkl.gz', 'wb'))"
   ]
  },
  {
   "cell_type": "code",
   "execution_count": 16,
   "metadata": {},
   "outputs": [],
   "source": [
    "pkl.dump(y_test,open('C:/Users/admin/Desktop/88/PLS1_true_meaning_Trp.pkl.gz', 'wb'))"
   ]
  },
  {
   "cell_type": "code",
   "execution_count": 17,
   "metadata": {},
   "outputs": [],
   "source": [
    "pkl.dump(y_train,open('C:/Users/admin/Desktop/88/PLS1_train_y_meaning_Trp.pkl.gz', 'wb'))"
   ]
  },
  {
   "cell_type": "code",
   "execution_count": null,
   "metadata": {},
   "outputs": [],
   "source": []
  },
  {
   "cell_type": "code",
   "execution_count": null,
   "metadata": {},
   "outputs": [],
   "source": []
  },
  {
   "cell_type": "code",
   "execution_count": 18,
   "metadata": {},
   "outputs": [],
   "source": [
    "ylow=gridCought.cv_results_[ \"mean_test_score\" ]"
   ]
  },
  {
   "cell_type": "code",
   "execution_count": 19,
   "metadata": {},
   "outputs": [],
   "source": [
    "xlow2=cvres[ \"params\" ][45]['n_components']"
   ]
  },
  {
   "cell_type": "code",
   "execution_count": 20,
   "metadata": {},
   "outputs": [
    {
     "data": {
      "text/plain": [
       "8"
      ]
     },
     "execution_count": 20,
     "metadata": {},
     "output_type": "execute_result"
    }
   ],
   "source": [
    "xlow2"
   ]
  },
  {
   "cell_type": "code",
   "execution_count": 21,
   "metadata": {},
   "outputs": [],
   "source": [
    "xlow=parametrsNames['n_components']"
   ]
  },
  {
   "cell_type": "code",
   "execution_count": 22,
   "metadata": {},
   "outputs": [
    {
     "data": {
      "text/plain": [
       "range(1, 85)"
      ]
     },
     "execution_count": 22,
     "metadata": {},
     "output_type": "execute_result"
    }
   ],
   "source": [
    "xlow"
   ]
  },
  {
   "cell_type": "markdown",
   "metadata": {},
   "source": [
    "### train-score"
   ]
  },
  {
   "cell_type": "code",
   "execution_count": 23,
   "metadata": {},
   "outputs": [],
   "source": [
    "ylow2=gridCought.cv_results_[ \"mean_train_score\" ]"
   ]
  },
  {
   "cell_type": "markdown",
   "metadata": {},
   "source": [
    "### Строим метки оси ох"
   ]
  },
  {
   "cell_type": "code",
   "execution_count": 24,
   "metadata": {},
   "outputs": [],
   "source": [
    "xx=np.arange(-100,600,100)"
   ]
  },
  {
   "cell_type": "code",
   "execution_count": 25,
   "metadata": {},
   "outputs": [
    {
     "data": {
      "text/plain": [
       "array([-100,    0,  100,  200,  300,  400,  500])"
      ]
     },
     "execution_count": 25,
     "metadata": {},
     "output_type": "execute_result"
    }
   ],
   "source": [
    "xx"
   ]
  },
  {
   "cell_type": "code",
   "execution_count": 26,
   "metadata": {},
   "outputs": [],
   "source": [
    "xlab=[]"
   ]
  },
  {
   "cell_type": "code",
   "execution_count": 27,
   "metadata": {},
   "outputs": [],
   "source": [
    "for i in xx:\n",
    "    xlab+=[cvres[ \"params\" ][i]['n_components']]"
   ]
  },
  {
   "cell_type": "markdown",
   "metadata": {},
   "source": [
    "### Строим метки оси оу"
   ]
  },
  {
   "cell_type": "code",
   "execution_count": 35,
   "metadata": {},
   "outputs": [],
   "source": [
    "yy=np.linspace(0.0,1.2,7)"
   ]
  },
  {
   "cell_type": "code",
   "execution_count": 37,
   "metadata": {},
   "outputs": [],
   "source": [
    "yy=[0.0 , 0.2, 0.4, 0.6, 0.8, 1.0 , 1.2]"
   ]
  },
  {
   "cell_type": "markdown",
   "metadata": {},
   "source": [
    "# Графики нового образца"
   ]
  },
  {
   "cell_type": "code",
   "execution_count": 38,
   "metadata": {},
   "outputs": [
    {
     "data": {
      "text/plain": [
       "[68, 1, 17, 34, 51, 67, 84]"
      ]
     },
     "execution_count": 38,
     "metadata": {},
     "output_type": "execute_result"
    }
   ],
   "source": [
    "xlab"
   ]
  },
  {
   "cell_type": "code",
   "execution_count": 41,
   "metadata": {},
   "outputs": [
    {
     "data": {
      "image/png": "[encoded data removed]",
      "text/plain": [
       "<Figure size 864x504 with 1 Axes>"
      ]
     },
     "metadata": {
      "needs_background": "light"
     },
     "output_type": "display_data"
    }
   ],
   "source": [
    "mpl.rc('font',family='Times New Roman')\n",
    "fig, axs = plt.subplots(figsize=(12, 7))\n",
    "axs.plot(ylow,\".\",color=\"red\",ms=7,label=\"meam_test_score\")\n",
    "axs.plot(ylow2,\".\",color=\"blue\",ms=7,label=\"meam_train_score\")\n",
    "axs.set_ylabel('Score',  fontsize=25,labelpad=12)\n",
    "axs.grid(color=\"black\",linewidth=0.7)\n",
    "axs.set_xlabel(\"Количество компонент\",  fontsize=25,labelpad=15)\n",
    "axs.set_title(\"Зависимость score от числа компонент для Trp\", fontsize=28,loc=\"center\" ,pad=15)\n",
    "axs.tick_params(which='major', length=10, width=2)\n",
    "axs.set_xticklabels(xlab, fontsize=20)\n",
    "axs.set_yticklabels(yy, fontsize=20)\n",
    "axs.get_xaxis().set_tick_params(direction='in')\n",
    "axs.get_yaxis().set_tick_params(direction='in')\n",
    "axs.legend(fontsize=20, markerscale=5,handletextpad=0)\n",
    "\n",
    "plt.savefig('Зависимость ошибки от параметров для PLS1_Trp.png', format='png', dpi=1000)\n",
    "plt.show();"
   ]
  },
  {
   "cell_type": "code",
   "execution_count": 62,
   "metadata": {},
   "outputs": [
    {
     "name": "stdout",
     "output_type": "stream",
     "text": [
      "Object `fig.get_xaxis().set_tick_params` not found.\n"
     ]
    }
   ],
   "source": [
    "?fig.get_xaxis().set_tick_params"
   ]
  },
  {
   "cell_type": "markdown",
   "metadata": {},
   "source": [
    "# Предыдущий механизм построения графика"
   ]
  },
  {
   "cell_type": "code",
   "execution_count": 33,
   "metadata": {},
   "outputs": [
    {
     "data": {
      "image/png": "[encoded data removed]",
      "text/plain": [
       "<Figure size 864x504 with 1 Axes>"
      ]
     },
     "metadata": {
      "needs_background": "light"
     },
     "output_type": "display_data"
    }
   ],
   "source": [
    "import matplotlib as mpl\n",
    "mpl.rc('font',family='Times New Roman')\n",
    "plt.figure(figsize=(12,7))\n",
    "plt.plot(ylow,\".\",color=\"red\")\n",
    "plt.ylabel(\"Значение ошибки\" , fontsize=25,labelpad=12)\n",
    "plt.grid()\n",
    "plt.xlabel(\"Номер комбинации параметров\",  fontsize=25,labelpad=15)\n",
    "plt.title(\"Зависимость ошибки от значения параметров для Trp\", fontsize=28,loc=\"center\" ,pad=15)\n",
    "\n",
    "\n",
    "plt.yticks(fontsize=19)\n",
    "plt.xticks(fontsize=19)\n",
    "plt.savefig('Зависимость ошибки от параметров для PLS1_Trp2.jpeg', format='png', dpi=100)\n",
    "plt.show();"
   ]
  },
  {
   "cell_type": "code",
   "execution_count": 142,
   "metadata": {},
   "outputs": [
    {
     "data": {
      "text/plain": [
       "{'copy': True, 'max_iter': 500, 'n_components': 2, 'scale': True, 'tol': 1e-06}"
      ]
     },
     "execution_count": 142,
     "metadata": {},
     "output_type": "execute_result"
    }
   ],
   "source": [
    "pls1.get_params()"
   ]
  },
  {
   "cell_type": "markdown",
   "metadata": {},
   "source": [
    "# Оценим правильность на тестовом наборе"
   ]
  },
  {
   "cell_type": "code",
   "execution_count": 115,
   "metadata": {},
   "outputs": [
    {
     "name": "stdout",
     "output_type": "stream",
     "text": [
      "Правильность на тестовом наборе: nan\n"
     ]
    }
   ],
   "source": [
    "print(\"Правильность на тестовом наборе: {:.2f}\".format(gridCought.score(X_test, y_test)))"
   ]
  },
  {
   "cell_type": "code",
   "execution_count": 116,
   "metadata": {},
   "outputs": [
    {
     "name": "stdout",
     "output_type": "stream",
     "text": [
      "Наилучшее значение кросс-валидац. правильности: 0.32\n"
     ]
    }
   ],
   "source": [
    "print(\"Наилучшее значение кросс-валидац. правильности: {:.2f}\".format(gridCought.best_score_))"
   ]
  },
  {
   "cell_type": "code",
   "execution_count": 117,
   "metadata": {},
   "outputs": [
    {
     "name": "stdout",
     "output_type": "stream",
     "text": [
      "3.0825621365425135\n"
     ]
    }
   ],
   "source": [
    "from  sklearn.metrics import  mean_squared_error\n",
    "final_mse = mean_squared_error (y_test,  predictors) \n",
    "final_rmse  =  np.sqrt(final_mse)  \n",
    "print(final_rmse)"
   ]
  },
  {
   "cell_type": "code",
   "execution_count": 118,
   "metadata": {},
   "outputs": [
    {
     "ename": "AttributeError",
     "evalue": "'GridSearchCV' object has no attribute 'accuracy_score'",
     "output_type": "error",
     "traceback": [
      "\u001b[1;31m---------------------------------------------------------------------------\u001b[0m",
      "\u001b[1;31mAttributeError\u001b[0m                            Traceback (most recent call last)",
      "\u001b[1;32m<ipython-input-118-7e1288b37008>\u001b[0m in \u001b[0;36m<module>\u001b[1;34m\u001b[0m\n\u001b[0;32m      1\u001b[0m \u001b[1;32mfrom\u001b[0m  \u001b[0msklearn\u001b[0m\u001b[1;33m.\u001b[0m\u001b[0mmetrics\u001b[0m \u001b[1;32mimport\u001b[0m \u001b[0maccuracy_score\u001b[0m\u001b[1;33m\u001b[0m\u001b[1;33m\u001b[0m\u001b[0m\n\u001b[1;32m----> 2\u001b[1;33m \u001b[0mprint\u001b[0m\u001b[1;33m(\u001b[0m\u001b[0mgridCought\u001b[0m\u001b[1;33m.\u001b[0m\u001b[0maccuracy_score\u001b[0m\u001b[1;33m(\u001b[0m\u001b[0my_test\u001b[0m\u001b[1;33m,\u001b[0m  \u001b[0mpredictors\u001b[0m\u001b[1;33m)\u001b[0m\u001b[1;33m)\u001b[0m\u001b[1;33m\u001b[0m\u001b[1;33m\u001b[0m\u001b[0m\n\u001b[0m",
      "\u001b[1;31mAttributeError\u001b[0m: 'GridSearchCV' object has no attribute 'accuracy_score'"
     ]
    }
   ],
   "source": [
    "from  sklearn.metrics import accuracy_score\n",
    "print(gridCought.accuracy_score(y_test,  predictors))"
   ]
  },
  {
   "cell_type": "code",
   "execution_count": 119,
   "metadata": {},
   "outputs": [
    {
     "name": "stdout",
     "output_type": "stream",
     "text": [
      "[[42.98438284]]\n",
      "31    39.901821\n",
      "Name: Gominy, dtype: float64\n"
     ]
    }
   ],
   "source": [
    "print(predictors)\n",
    "print(y_test)"
   ]
  },
  {
   "cell_type": "markdown",
   "metadata": {},
   "source": [
    "# Построим график для визуализации результатов"
   ]
  },
  {
   "cell_type": "code",
   "execution_count": 81,
   "metadata": {},
   "outputs": [
    {
     "data": {
      "image/png": "[encoded data removed]",
      "text/plain": [
       "<Figure size 432x288 with 1 Axes>"
      ]
     },
     "metadata": {
      "needs_background": "light"
     },
     "output_type": "display_data"
    }
   ],
   "source": [
    "b=[]\n",
    "for  i in range(0,5):\n",
    "    b+=[i]\n",
    "plt.plot(y_test,predictors, \".\",color=\"red\",label=\"предсказанные значения\")\n",
    "plt.plot(y_test,y_test,color=\"blue\", label=\"тестовые значения\")\n",
    "plt.legend()\n",
    "plt.grid(True)\n",
    "plt.title(\"График для столбца Gominy\")\n",
    "plt.show();"
   ]
  },
  {
   "cell_type": "code",
   "execution_count": 153,
   "metadata": {},
   "outputs": [],
   "source": [
    "area3x=np.arange(1,4.5,0.5)"
   ]
  },
  {
   "cell_type": "code",
   "execution_count": 154,
   "metadata": {},
   "outputs": [],
   "source": [
    "area3y=np.arange(0,5,0.5)"
   ]
  },
  {
   "cell_type": "code",
   "execution_count": 156,
   "metadata": {},
   "outputs": [
    {
     "data": {
      "image/png": "[encoded data removed]",
      "text/plain": [
       "<Figure size 1008x648 with 1 Axes>"
      ]
     },
     "metadata": {
      "needs_background": "light"
     },
     "output_type": "display_data"
    }
   ],
   "source": [
    "mpl.rc('font',family='Times New Roman')\n",
    "plt.figure(figsize=(14,9))\n",
    "plt.plot(y_test,predictors, \".\",color=\"red\",ms=50)\n",
    "plt.plot(y_test,y_test,color=\"blue\",lw=5)\n",
    "\n",
    "plt.ylabel(\"Предсказанные значения\" , fontsize=30,labelpad=12)\n",
    "plt.grid()\n",
    "plt.xlabel(\"Истинные значения\",  fontsize=30,labelpad=15)\n",
    "plt.title(\"График predicted-reference Trp\", fontsize=35,loc=\"center\" ,pad=15)\n",
    "\n",
    "\n",
    "plt.yticks(area3y,fontsize=24)\n",
    "plt.xticks(area3x,fontsize=24)\n",
    "plt.savefig('График predicted-reference Trp.jpeg', format='png', dpi=1000)\n",
    "plt.show();"
   ]
  },
  {
   "cell_type": "code",
   "execution_count": 105,
   "metadata": {},
   "outputs": [],
   "source": [
    "?plt.plot"
   ]
  },
  {
   "cell_type": "markdown",
   "metadata": {},
   "source": [
    "# Возьмём матрицу нагрузок"
   ]
  },
  {
   "cell_type": "code",
   "execution_count": 170,
   "metadata": {},
   "outputs": [
    {
     "ename": "TypeError",
     "evalue": "getattr expected at least 2 arguments, got 1",
     "output_type": "error",
     "traceback": [
      "\u001b[1;31m---------------------------------------------------------------------------\u001b[0m",
      "\u001b[1;31mTypeError\u001b[0m                                 Traceback (most recent call last)",
      "\u001b[1;32m<ipython-input-170-b5ec4386c678>\u001b[0m in \u001b[0;36m<module>\u001b[1;34m\u001b[0m\n\u001b[1;32m----> 1\u001b[1;33m \u001b[0mgetattr\u001b[0m \u001b[1;33m(\u001b[0m\u001b[0mgridCought\u001b[0m\u001b[1;33m)\u001b[0m\u001b[1;33m\u001b[0m\u001b[1;33m\u001b[0m\u001b[0m\n\u001b[0m",
      "\u001b[1;31mTypeError\u001b[0m: getattr expected at least 2 arguments, got 1"
     ]
    }
   ],
   "source": []
  },
  {
   "cell_type": "code",
   "execution_count": 172,
   "metadata": {},
   "outputs": [],
   "source": [
    "?gridCought"
   ]
  },
  {
   "cell_type": "code",
   "execution_count": 171,
   "metadata": {},
   "outputs": [
    {
     "ename": "AttributeError",
     "evalue": "'GridSearchCV' object has no attribute 'coef_'",
     "output_type": "error",
     "traceback": [
      "\u001b[1;31m---------------------------------------------------------------------------\u001b[0m",
      "\u001b[1;31mAttributeError\u001b[0m                            Traceback (most recent call last)",
      "\u001b[1;32m<ipython-input-171-2831417a4fa9>\u001b[0m in \u001b[0;36m<module>\u001b[1;34m\u001b[0m\n\u001b[1;32m----> 1\u001b[1;33m \u001b[0mgridCought\u001b[0m\u001b[1;33m.\u001b[0m\u001b[0mcoef_\u001b[0m\u001b[1;33m\u001b[0m\u001b[1;33m\u001b[0m\u001b[0m\n\u001b[0m",
      "\u001b[1;31mAttributeError\u001b[0m: 'GridSearchCV' object has no attribute 'coef_'"
     ]
    }
   ],
   "source": [
    "gridCought.coef_"
   ]
  },
  {
   "cell_type": "markdown",
   "metadata": {},
   "source": []
  }
 ],
 "metadata": {
  "kernelspec": {
   "display_name": "Python 3",
   "language": "python",
   "name": "python3"
  },
  "language_info": {
   "codemirror_mode": {
    "name": "ipython",
    "version": 3
   },
   "file_extension": ".py",
   "mimetype": "text/x-python",
   "name": "python",
   "nbconvert_exporter": "python",
   "pygments_lexer": "ipython3",
   "version": "3.7.4"
  }
 },
 "nbformat": 4,
 "nbformat_minor": 2
}
