{
 "cells": [
  {
   "cell_type": "markdown",
   "metadata": {},
   "source": [
    "# Подготовительные работы"
   ]
  },
  {
   "cell_type": "code",
   "execution_count": 1,
   "metadata": {},
   "outputs": [],
   "source": [
    "import numpy as np"
   ]
  },
  {
   "cell_type": "code",
   "execution_count": 34,
   "metadata": {},
   "outputs": [],
   "source": [
    "log_space=np.logspace(-6,6,3,endpoint=True)"
   ]
  },
  {
   "cell_type": "code",
   "execution_count": 35,
   "metadata": {},
   "outputs": [],
   "source": [
    "from gzip import open # NB: overrides standard open()\n",
    "import pickle as pkl\n",
    "import tensorly as tl\n",
    "from tensorly.base import tensor_to_vec,  partial_tensor_to_vec\n",
    "import pandas as pd\n",
    "import warnings \n",
    "import matplotlib.pyplot as plt\n",
    "from sklearn.model_selection import cross_val_score\n",
    "from sklearn.model_selection import cross_validate\n",
    "from sklearn.model_selection import train_test_split\n",
    "from sklearn.cross_decomposition import PLSRegression\n",
    "from sklearn.model_selection import GridSearchCV\n",
    "import matplotlib.pyplot as plt\n",
    "import matplotlib as mpl"
   ]
  },
  {
   "cell_type": "code",
   "execution_count": 142,
   "metadata": {},
   "outputs": [],
   "source": [
    "warnings.simplefilter('ignore') # отключим предупреждения Anaconda"
   ]
  },
  {
   "cell_type": "markdown",
   "metadata": {},
   "source": [
    "# Применяем алгоритм построения модели"
   ]
  },
  {
   "cell_type": "code",
   "execution_count": 60,
   "metadata": {},
   "outputs": [
    {
     "name": "stdout",
     "output_type": "stream",
     "text": [
      "(206,)\n",
      "(25, 11330)\n",
      "(25,)\n",
      "{'copy': True, 'max_iter': 10000, 'n_components': 7, 'scale': True, 'tol': 1e-06}\n",
      "Правильность на тестовом наборе: 0.17\n"
     ]
    }
   ],
   "source": [
    "Xdata_numpy = pkl.load(open('C:/Users/admin/Desktop/88/X.pkl.gz', 'rb'))\n",
    "Ydata = pkl.load(open('C:/Users/admin/Desktop/88/y.pkl.gz', 'rb'))\n",
    "print(Xdata_numpy['emission'].shape)\n",
    "        \n",
    "#разворачиваем тензор\n",
    "Xdata_numpy['X'].shape = (Xdata_numpy['X'].shape[0], Xdata_numpy['X'].shape[1] * Xdata_numpy['X'].shape[2])\n",
    "Xdata_numpy['X'][:,np.isnan(Xdata_numpy['X']).any(axis = 0)] = 0 # zero out any columns containing NaN\n",
    "\n",
    "#делим набор на обучающий и тестовый\n",
    "X_train, X_test, y_train, y_test = train_test_split(\n",
    "     Xdata_numpy['X'], Ydata.iloc[:,0], test_size=0.2857\n",
    ")\n",
    "print(X_train.shape)\n",
    "print(y_train.shape)\n",
    "\n",
    "#начинаем применять\n",
    "pls1 = PLSRegression()\n",
    "parametrsNames={\n",
    "    'copy': [True], \n",
    "    'max_iter': [10000], \n",
    "    'n_components': range(1,85), \n",
    "    'scale': [True,False], \n",
    "    'tol': log_space\n",
    "}\n",
    "gridCought=GridSearchCV(pls1, parametrsNames, cv=5)\n",
    "gridCought.fit(X_train,y_train)\n",
    "predictors=gridCought.predict(X_test)\n",
    "\n",
    "print(gridCought.best_params_)\n",
    "print(\"Правильность на тестовом наборе: {:.2f}\".format(gridCought.score(X_test, y_test)))\n",
    "\n"
   ]
  },
  {
   "cell_type": "markdown",
   "metadata": {},
   "source": [
    "# Обработаем результаты"
   ]
  },
  {
   "cell_type": "code",
   "execution_count": 37,
   "metadata": {},
   "outputs": [],
   "source": [
    "cvres  = gridCought.cv_results_"
   ]
  },
  {
   "cell_type": "code",
   "execution_count": 38,
   "metadata": {},
   "outputs": [],
   "source": [
    "filew=dict()"
   ]
  },
  {
   "cell_type": "code",
   "execution_count": 39,
   "metadata": {},
   "outputs": [
    {
     "name": "stdout",
     "output_type": "stream",
     "text": [
      "-0.07261638471864135 {'copy': True, 'max_iter': 10000, 'n_components': 1, 'scale': True, 'tol': 1e-06}\n",
      "-0.07261638471864135 {'copy': True, 'max_iter': 10000, 'n_components': 1, 'scale': True, 'tol': 1.0}\n",
      "-0.07261638471864135 {'copy': True, 'max_iter': 10000, 'n_components': 1, 'scale': True, 'tol': 1000000.0}\n",
      "0.5957526716087521 {'copy': True, 'max_iter': 10000, 'n_components': 1, 'scale': False, 'tol': 1e-06}\n",
      "0.5957526716087521 {'copy': True, 'max_iter': 10000, 'n_components': 1, 'scale': False, 'tol': 1.0}\n",
      "0.5957526716087521 {'copy': True, 'max_iter': 10000, 'n_components': 1, 'scale': False, 'tol': 1000000.0}\n",
      "0.4126215197164577 {'copy': True, 'max_iter': 10000, 'n_components': 2, 'scale': True, 'tol': 1e-06}\n",
      "0.4126215197164577 {'copy': True, 'max_iter': 10000, 'n_components': 2, 'scale': True, 'tol': 1.0}\n",
      "0.4126215197164577 {'copy': True, 'max_iter': 10000, 'n_components': 2, 'scale': True, 'tol': 1000000.0}\n",
      "0.756530495512503 {'copy': True, 'max_iter': 10000, 'n_components': 2, 'scale': False, 'tol': 1e-06}\n",
      "0.756530495512503 {'copy': True, 'max_iter': 10000, 'n_components': 2, 'scale': False, 'tol': 1.0}\n",
      "0.756530495512503 {'copy': True, 'max_iter': 10000, 'n_components': 2, 'scale': False, 'tol': 1000000.0}\n",
      "0.5977907306183551 {'copy': True, 'max_iter': 10000, 'n_components': 3, 'scale': True, 'tol': 1e-06}\n",
      "0.5977907306183551 {'copy': True, 'max_iter': 10000, 'n_components': 3, 'scale': True, 'tol': 1.0}\n",
      "0.5977907306183551 {'copy': True, 'max_iter': 10000, 'n_components': 3, 'scale': True, 'tol': 1000000.0}\n",
      "0.7931720867450034 {'copy': True, 'max_iter': 10000, 'n_components': 3, 'scale': False, 'tol': 1e-06}\n",
      "0.7931720867450034 {'copy': True, 'max_iter': 10000, 'n_components': 3, 'scale': False, 'tol': 1.0}\n",
      "0.7931720867450034 {'copy': True, 'max_iter': 10000, 'n_components': 3, 'scale': False, 'tol': 1000000.0}\n",
      "0.581640172884928 {'copy': True, 'max_iter': 10000, 'n_components': 4, 'scale': True, 'tol': 1e-06}\n",
      "0.581640172884928 {'copy': True, 'max_iter': 10000, 'n_components': 4, 'scale': True, 'tol': 1.0}\n",
      "0.581640172884928 {'copy': True, 'max_iter': 10000, 'n_components': 4, 'scale': True, 'tol': 1000000.0}\n",
      "0.7572352229628829 {'copy': True, 'max_iter': 10000, 'n_components': 4, 'scale': False, 'tol': 1e-06}\n",
      "0.7572352229628829 {'copy': True, 'max_iter': 10000, 'n_components': 4, 'scale': False, 'tol': 1.0}\n",
      "0.7572352229628829 {'copy': True, 'max_iter': 10000, 'n_components': 4, 'scale': False, 'tol': 1000000.0}\n",
      "0.5444844923905068 {'copy': True, 'max_iter': 10000, 'n_components': 5, 'scale': True, 'tol': 1e-06}\n",
      "0.5444844923905068 {'copy': True, 'max_iter': 10000, 'n_components': 5, 'scale': True, 'tol': 1.0}\n",
      "0.5444844923905068 {'copy': True, 'max_iter': 10000, 'n_components': 5, 'scale': True, 'tol': 1000000.0}\n",
      "0.5720538595259889 {'copy': True, 'max_iter': 10000, 'n_components': 5, 'scale': False, 'tol': 1e-06}\n",
      "0.5720538595259889 {'copy': True, 'max_iter': 10000, 'n_components': 5, 'scale': False, 'tol': 1.0}\n",
      "0.5720538595259889 {'copy': True, 'max_iter': 10000, 'n_components': 5, 'scale': False, 'tol': 1000000.0}\n",
      "0.5061694797900784 {'copy': True, 'max_iter': 10000, 'n_components': 6, 'scale': True, 'tol': 1e-06}\n",
      "0.5061694797900784 {'copy': True, 'max_iter': 10000, 'n_components': 6, 'scale': True, 'tol': 1.0}\n",
      "0.5061694797900784 {'copy': True, 'max_iter': 10000, 'n_components': 6, 'scale': True, 'tol': 1000000.0}\n",
      "0.4805848961444217 {'copy': True, 'max_iter': 10000, 'n_components': 6, 'scale': False, 'tol': 1e-06}\n",
      "0.4805848961444217 {'copy': True, 'max_iter': 10000, 'n_components': 6, 'scale': False, 'tol': 1.0}\n",
      "0.4805848961444217 {'copy': True, 'max_iter': 10000, 'n_components': 6, 'scale': False, 'tol': 1000000.0}\n",
      "0.44843654600535277 {'copy': True, 'max_iter': 10000, 'n_components': 7, 'scale': True, 'tol': 1e-06}\n",
      "0.44843654600535277 {'copy': True, 'max_iter': 10000, 'n_components': 7, 'scale': True, 'tol': 1.0}\n",
      "0.44843654600535277 {'copy': True, 'max_iter': 10000, 'n_components': 7, 'scale': True, 'tol': 1000000.0}\n",
      "0.405610027572377 {'copy': True, 'max_iter': 10000, 'n_components': 7, 'scale': False, 'tol': 1e-06}\n",
      "0.405610027572377 {'copy': True, 'max_iter': 10000, 'n_components': 7, 'scale': False, 'tol': 1.0}\n",
      "0.405610027572377 {'copy': True, 'max_iter': 10000, 'n_components': 7, 'scale': False, 'tol': 1000000.0}\n",
      "0.32506518388295497 {'copy': True, 'max_iter': 10000, 'n_components': 8, 'scale': True, 'tol': 1e-06}\n",
      "0.32506518388295497 {'copy': True, 'max_iter': 10000, 'n_components': 8, 'scale': True, 'tol': 1.0}\n",
      "0.32506518388295497 {'copy': True, 'max_iter': 10000, 'n_components': 8, 'scale': True, 'tol': 1000000.0}\n",
      "0.4026173838795114 {'copy': True, 'max_iter': 10000, 'n_components': 8, 'scale': False, 'tol': 1e-06}\n",
      "0.4026173838795114 {'copy': True, 'max_iter': 10000, 'n_components': 8, 'scale': False, 'tol': 1.0}\n",
      "0.4026173838795114 {'copy': True, 'max_iter': 10000, 'n_components': 8, 'scale': False, 'tol': 1000000.0}\n",
      "0.28757236189598395 {'copy': True, 'max_iter': 10000, 'n_components': 9, 'scale': True, 'tol': 1e-06}\n",
      "0.28757236189598395 {'copy': True, 'max_iter': 10000, 'n_components': 9, 'scale': True, 'tol': 1.0}\n",
      "0.28757236189598395 {'copy': True, 'max_iter': 10000, 'n_components': 9, 'scale': True, 'tol': 1000000.0}\n",
      "0.40746384953818066 {'copy': True, 'max_iter': 10000, 'n_components': 9, 'scale': False, 'tol': 1e-06}\n",
      "0.40746384953818066 {'copy': True, 'max_iter': 10000, 'n_components': 9, 'scale': False, 'tol': 1.0}\n",
      "0.40746384953818066 {'copy': True, 'max_iter': 10000, 'n_components': 9, 'scale': False, 'tol': 1000000.0}\n",
      "0.2920791262954641 {'copy': True, 'max_iter': 10000, 'n_components': 10, 'scale': True, 'tol': 1e-06}\n",
      "0.2920791262954641 {'copy': True, 'max_iter': 10000, 'n_components': 10, 'scale': True, 'tol': 1.0}\n",
      "0.2920791262954641 {'copy': True, 'max_iter': 10000, 'n_components': 10, 'scale': True, 'tol': 1000000.0}\n",
      "0.41597362177495173 {'copy': True, 'max_iter': 10000, 'n_components': 10, 'scale': False, 'tol': 1e-06}\n",
      "0.41597362177495173 {'copy': True, 'max_iter': 10000, 'n_components': 10, 'scale': False, 'tol': 1.0}\n",
      "0.41597362177495173 {'copy': True, 'max_iter': 10000, 'n_components': 10, 'scale': False, 'tol': 1000000.0}\n",
      "0.2950761153315252 {'copy': True, 'max_iter': 10000, 'n_components': 11, 'scale': True, 'tol': 1e-06}\n",
      "0.2950761153315252 {'copy': True, 'max_iter': 10000, 'n_components': 11, 'scale': True, 'tol': 1.0}\n",
      "0.2950761153315252 {'copy': True, 'max_iter': 10000, 'n_components': 11, 'scale': True, 'tol': 1000000.0}\n",
      "0.40570132646517865 {'copy': True, 'max_iter': 10000, 'n_components': 11, 'scale': False, 'tol': 1e-06}\n",
      "0.40570132646517865 {'copy': True, 'max_iter': 10000, 'n_components': 11, 'scale': False, 'tol': 1.0}\n",
      "0.40570132646517865 {'copy': True, 'max_iter': 10000, 'n_components': 11, 'scale': False, 'tol': 1000000.0}\n",
      "0.29337884861714825 {'copy': True, 'max_iter': 10000, 'n_components': 12, 'scale': True, 'tol': 1e-06}\n",
      "0.29337884861714825 {'copy': True, 'max_iter': 10000, 'n_components': 12, 'scale': True, 'tol': 1.0}\n",
      "0.29337884861714825 {'copy': True, 'max_iter': 10000, 'n_components': 12, 'scale': True, 'tol': 1000000.0}\n",
      "0.4131832326887497 {'copy': True, 'max_iter': 10000, 'n_components': 12, 'scale': False, 'tol': 1e-06}\n",
      "0.4131832326887497 {'copy': True, 'max_iter': 10000, 'n_components': 12, 'scale': False, 'tol': 1.0}\n",
      "0.4131832326887497 {'copy': True, 'max_iter': 10000, 'n_components': 12, 'scale': False, 'tol': 1000000.0}\n",
      "0.29327831795608406 {'copy': True, 'max_iter': 10000, 'n_components': 13, 'scale': True, 'tol': 1e-06}\n",
      "0.29327831795608406 {'copy': True, 'max_iter': 10000, 'n_components': 13, 'scale': True, 'tol': 1.0}\n",
      "0.29327831795608406 {'copy': True, 'max_iter': 10000, 'n_components': 13, 'scale': True, 'tol': 1000000.0}\n",
      "0.4111410383068943 {'copy': True, 'max_iter': 10000, 'n_components': 13, 'scale': False, 'tol': 1e-06}\n",
      "0.4111410383068943 {'copy': True, 'max_iter': 10000, 'n_components': 13, 'scale': False, 'tol': 1.0}\n",
      "0.4111410383068943 {'copy': True, 'max_iter': 10000, 'n_components': 13, 'scale': False, 'tol': 1000000.0}\n",
      "0.2931992047221098 {'copy': True, 'max_iter': 10000, 'n_components': 14, 'scale': True, 'tol': 1e-06}\n",
      "0.2931992047221098 {'copy': True, 'max_iter': 10000, 'n_components': 14, 'scale': True, 'tol': 1.0}\n",
      "0.2931992047221098 {'copy': True, 'max_iter': 10000, 'n_components': 14, 'scale': True, 'tol': 1000000.0}\n",
      "0.40966971825663195 {'copy': True, 'max_iter': 10000, 'n_components': 14, 'scale': False, 'tol': 1e-06}\n",
      "0.40966971825663195 {'copy': True, 'max_iter': 10000, 'n_components': 14, 'scale': False, 'tol': 1.0}\n",
      "0.40966971825663195 {'copy': True, 'max_iter': 10000, 'n_components': 14, 'scale': False, 'tol': 1000000.0}\n",
      "0.2932061884692066 {'copy': True, 'max_iter': 10000, 'n_components': 15, 'scale': True, 'tol': 1e-06}\n",
      "0.2932061884692066 {'copy': True, 'max_iter': 10000, 'n_components': 15, 'scale': True, 'tol': 1.0}\n",
      "0.2932061884692066 {'copy': True, 'max_iter': 10000, 'n_components': 15, 'scale': True, 'tol': 1000000.0}\n",
      "0.4094060155958146 {'copy': True, 'max_iter': 10000, 'n_components': 15, 'scale': False, 'tol': 1e-06}\n",
      "0.4094060155958146 {'copy': True, 'max_iter': 10000, 'n_components': 15, 'scale': False, 'tol': 1.0}\n",
      "0.4094060155958146 {'copy': True, 'max_iter': 10000, 'n_components': 15, 'scale': False, 'tol': 1000000.0}\n",
      "0.2932682824095761 {'copy': True, 'max_iter': 10000, 'n_components': 16, 'scale': True, 'tol': 1e-06}\n",
      "0.2932682824095761 {'copy': True, 'max_iter': 10000, 'n_components': 16, 'scale': True, 'tol': 1.0}\n",
      "0.2932682824095761 {'copy': True, 'max_iter': 10000, 'n_components': 16, 'scale': True, 'tol': 1000000.0}\n",
      "0.4093731643735308 {'copy': True, 'max_iter': 10000, 'n_components': 16, 'scale': False, 'tol': 1e-06}\n",
      "0.4093731643735308 {'copy': True, 'max_iter': 10000, 'n_components': 16, 'scale': False, 'tol': 1.0}\n",
      "0.4093731643735308 {'copy': True, 'max_iter': 10000, 'n_components': 16, 'scale': False, 'tol': 1000000.0}\n",
      "0.29326347774289924 {'copy': True, 'max_iter': 10000, 'n_components': 17, 'scale': True, 'tol': 1e-06}\n",
      "0.29326347774289924 {'copy': True, 'max_iter': 10000, 'n_components': 17, 'scale': True, 'tol': 1.0}\n",
      "0.29326347774289924 {'copy': True, 'max_iter': 10000, 'n_components': 17, 'scale': True, 'tol': 1000000.0}\n",
      "0.40936578064968965 {'copy': True, 'max_iter': 10000, 'n_components': 17, 'scale': False, 'tol': 1e-06}\n",
      "0.40936578064968965 {'copy': True, 'max_iter': 10000, 'n_components': 17, 'scale': False, 'tol': 1.0}\n",
      "0.40936578064968965 {'copy': True, 'max_iter': 10000, 'n_components': 17, 'scale': False, 'tol': 1000000.0}\n",
      "0.2932636074387353 {'copy': True, 'max_iter': 10000, 'n_components': 18, 'scale': True, 'tol': 1e-06}\n",
      "0.2932636074387353 {'copy': True, 'max_iter': 10000, 'n_components': 18, 'scale': True, 'tol': 1.0}\n",
      "0.2932636074387353 {'copy': True, 'max_iter': 10000, 'n_components': 18, 'scale': True, 'tol': 1000000.0}\n",
      "0.4093729882215176 {'copy': True, 'max_iter': 10000, 'n_components': 18, 'scale': False, 'tol': 1e-06}\n",
      "0.4093729882215176 {'copy': True, 'max_iter': 10000, 'n_components': 18, 'scale': False, 'tol': 1.0}\n",
      "0.4093729882215176 {'copy': True, 'max_iter': 10000, 'n_components': 18, 'scale': False, 'tol': 1000000.0}\n",
      "0.2932635984910498 {'copy': True, 'max_iter': 10000, 'n_components': 19, 'scale': True, 'tol': 1e-06}\n",
      "0.2932635984910498 {'copy': True, 'max_iter': 10000, 'n_components': 19, 'scale': True, 'tol': 1.0}\n",
      "0.2932635984910498 {'copy': True, 'max_iter': 10000, 'n_components': 19, 'scale': True, 'tol': 1000000.0}\n",
      "0.4093729281098575 {'copy': True, 'max_iter': 10000, 'n_components': 19, 'scale': False, 'tol': 1e-06}\n",
      "0.4093729281098575 {'copy': True, 'max_iter': 10000, 'n_components': 19, 'scale': False, 'tol': 1.0}\n",
      "0.4093729281098575 {'copy': True, 'max_iter': 10000, 'n_components': 19, 'scale': False, 'tol': 1000000.0}\n",
      "0.29326359849104944 {'copy': True, 'max_iter': 10000, 'n_components': 20, 'scale': True, 'tol': 1e-06}\n",
      "0.29326359849104944 {'copy': True, 'max_iter': 10000, 'n_components': 20, 'scale': True, 'tol': 1.0}\n",
      "0.29326359849104944 {'copy': True, 'max_iter': 10000, 'n_components': 20, 'scale': True, 'tol': 1000000.0}\n",
      "0.40937292810985726 {'copy': True, 'max_iter': 10000, 'n_components': 20, 'scale': False, 'tol': 1e-06}\n",
      "0.40937292810985726 {'copy': True, 'max_iter': 10000, 'n_components': 20, 'scale': False, 'tol': 1.0}\n",
      "0.40937292810985726 {'copy': True, 'max_iter': 10000, 'n_components': 20, 'scale': False, 'tol': 1000000.0}\n",
      "0.2932635984910494 {'copy': True, 'max_iter': 10000, 'n_components': 21, 'scale': True, 'tol': 1e-06}\n",
      "0.2932635984910494 {'copy': True, 'max_iter': 10000, 'n_components': 21, 'scale': True, 'tol': 1.0}\n",
      "0.2932635984910494 {'copy': True, 'max_iter': 10000, 'n_components': 21, 'scale': True, 'tol': 1000000.0}\n",
      "0.40937292810985726 {'copy': True, 'max_iter': 10000, 'n_components': 21, 'scale': False, 'tol': 1e-06}\n",
      "0.40937292810985726 {'copy': True, 'max_iter': 10000, 'n_components': 21, 'scale': False, 'tol': 1.0}\n",
      "0.40937292810985726 {'copy': True, 'max_iter': 10000, 'n_components': 21, 'scale': False, 'tol': 1000000.0}\n",
      "0.2932635984910506 {'copy': True, 'max_iter': 10000, 'n_components': 22, 'scale': True, 'tol': 1e-06}\n",
      "0.2932635984910506 {'copy': True, 'max_iter': 10000, 'n_components': 22, 'scale': True, 'tol': 1.0}\n",
      "0.2932635984910506 {'copy': True, 'max_iter': 10000, 'n_components': 22, 'scale': True, 'tol': 1000000.0}\n",
      "0.4093729281098578 {'copy': True, 'max_iter': 10000, 'n_components': 22, 'scale': False, 'tol': 1e-06}\n",
      "0.4093729281098578 {'copy': True, 'max_iter': 10000, 'n_components': 22, 'scale': False, 'tol': 1.0}\n",
      "0.4093729281098578 {'copy': True, 'max_iter': 10000, 'n_components': 22, 'scale': False, 'tol': 1000000.0}\n",
      "0.2932635984910506 {'copy': True, 'max_iter': 10000, 'n_components': 23, 'scale': True, 'tol': 1e-06}\n",
      "0.2932635984910506 {'copy': True, 'max_iter': 10000, 'n_components': 23, 'scale': True, 'tol': 1.0}\n",
      "0.2932635984910506 {'copy': True, 'max_iter': 10000, 'n_components': 23, 'scale': True, 'tol': 1000000.0}\n",
      "0.4093729281098578 {'copy': True, 'max_iter': 10000, 'n_components': 23, 'scale': False, 'tol': 1e-06}\n",
      "0.4093729281098578 {'copy': True, 'max_iter': 10000, 'n_components': 23, 'scale': False, 'tol': 1.0}\n",
      "0.4093729281098578 {'copy': True, 'max_iter': 10000, 'n_components': 23, 'scale': False, 'tol': 1000000.0}\n",
      "0.29326359849104955 {'copy': True, 'max_iter': 10000, 'n_components': 24, 'scale': True, 'tol': 1e-06}\n",
      "0.29326359849104955 {'copy': True, 'max_iter': 10000, 'n_components': 24, 'scale': True, 'tol': 1.0}\n",
      "0.29326359849104955 {'copy': True, 'max_iter': 10000, 'n_components': 24, 'scale': True, 'tol': 1000000.0}\n",
      "0.40937292810985926 {'copy': True, 'max_iter': 10000, 'n_components': 24, 'scale': False, 'tol': 1e-06}\n",
      "0.40937292810985926 {'copy': True, 'max_iter': 10000, 'n_components': 24, 'scale': False, 'tol': 1.0}\n",
      "0.40937292810985926 {'copy': True, 'max_iter': 10000, 'n_components': 24, 'scale': False, 'tol': 1000000.0}\n",
      "0.29326359849104955 {'copy': True, 'max_iter': 10000, 'n_components': 25, 'scale': True, 'tol': 1e-06}\n",
      "0.29326359849104955 {'copy': True, 'max_iter': 10000, 'n_components': 25, 'scale': True, 'tol': 1.0}\n",
      "0.29326359849104955 {'copy': True, 'max_iter': 10000, 'n_components': 25, 'scale': True, 'tol': 1000000.0}\n",
      "0.40937292810985926 {'copy': True, 'max_iter': 10000, 'n_components': 25, 'scale': False, 'tol': 1e-06}\n",
      "0.40937292810985926 {'copy': True, 'max_iter': 10000, 'n_components': 25, 'scale': False, 'tol': 1.0}\n",
      "0.40937292810985926 {'copy': True, 'max_iter': 10000, 'n_components': 25, 'scale': False, 'tol': 1000000.0}\n",
      "0.2932635984910503 {'copy': True, 'max_iter': 10000, 'n_components': 26, 'scale': True, 'tol': 1e-06}\n",
      "0.2932635984910503 {'copy': True, 'max_iter': 10000, 'n_components': 26, 'scale': True, 'tol': 1.0}\n",
      "0.2932635984910503 {'copy': True, 'max_iter': 10000, 'n_components': 26, 'scale': True, 'tol': 1000000.0}\n",
      "0.4093729281098584 {'copy': True, 'max_iter': 10000, 'n_components': 26, 'scale': False, 'tol': 1e-06}\n",
      "0.4093729281098584 {'copy': True, 'max_iter': 10000, 'n_components': 26, 'scale': False, 'tol': 1.0}\n",
      "0.4093729281098584 {'copy': True, 'max_iter': 10000, 'n_components': 26, 'scale': False, 'tol': 1000000.0}\n",
      "0.2932635984910503 {'copy': True, 'max_iter': 10000, 'n_components': 27, 'scale': True, 'tol': 1e-06}\n",
      "0.2932635984910503 {'copy': True, 'max_iter': 10000, 'n_components': 27, 'scale': True, 'tol': 1.0}\n",
      "0.2932635984910503 {'copy': True, 'max_iter': 10000, 'n_components': 27, 'scale': True, 'tol': 1000000.0}\n",
      "0.4093729281098584 {'copy': True, 'max_iter': 10000, 'n_components': 27, 'scale': False, 'tol': 1e-06}\n",
      "0.4093729281098584 {'copy': True, 'max_iter': 10000, 'n_components': 27, 'scale': False, 'tol': 1.0}\n",
      "0.4093729281098584 {'copy': True, 'max_iter': 10000, 'n_components': 27, 'scale': False, 'tol': 1000000.0}\n",
      "0.2932635984910503 {'copy': True, 'max_iter': 10000, 'n_components': 28, 'scale': True, 'tol': 1e-06}\n",
      "0.2932635984910503 {'copy': True, 'max_iter': 10000, 'n_components': 28, 'scale': True, 'tol': 1.0}\n",
      "0.2932635984910503 {'copy': True, 'max_iter': 10000, 'n_components': 28, 'scale': True, 'tol': 1000000.0}\n",
      "0.4093729281098584 {'copy': True, 'max_iter': 10000, 'n_components': 28, 'scale': False, 'tol': 1e-06}\n",
      "0.4093729281098584 {'copy': True, 'max_iter': 10000, 'n_components': 28, 'scale': False, 'tol': 1.0}\n",
      "0.4093729281098584 {'copy': True, 'max_iter': 10000, 'n_components': 28, 'scale': False, 'tol': 1000000.0}\n",
      "0.2932635984910503 {'copy': True, 'max_iter': 10000, 'n_components': 29, 'scale': True, 'tol': 1e-06}\n",
      "0.2932635984910503 {'copy': True, 'max_iter': 10000, 'n_components': 29, 'scale': True, 'tol': 1.0}\n",
      "0.2932635984910503 {'copy': True, 'max_iter': 10000, 'n_components': 29, 'scale': True, 'tol': 1000000.0}\n",
      "0.4093729281098584 {'copy': True, 'max_iter': 10000, 'n_components': 29, 'scale': False, 'tol': 1e-06}\n",
      "0.4093729281098584 {'copy': True, 'max_iter': 10000, 'n_components': 29, 'scale': False, 'tol': 1.0}\n",
      "0.4093729281098584 {'copy': True, 'max_iter': 10000, 'n_components': 29, 'scale': False, 'tol': 1000000.0}\n",
      "0.2932635984910503 {'copy': True, 'max_iter': 10000, 'n_components': 30, 'scale': True, 'tol': 1e-06}\n",
      "0.2932635984910503 {'copy': True, 'max_iter': 10000, 'n_components': 30, 'scale': True, 'tol': 1.0}\n",
      "0.2932635984910503 {'copy': True, 'max_iter': 10000, 'n_components': 30, 'scale': True, 'tol': 1000000.0}\n",
      "0.4093729281098584 {'copy': True, 'max_iter': 10000, 'n_components': 30, 'scale': False, 'tol': 1e-06}\n",
      "0.4093729281098584 {'copy': True, 'max_iter': 10000, 'n_components': 30, 'scale': False, 'tol': 1.0}\n",
      "0.4093729281098584 {'copy': True, 'max_iter': 10000, 'n_components': 30, 'scale': False, 'tol': 1000000.0}\n",
      "0.2932635984910503 {'copy': True, 'max_iter': 10000, 'n_components': 31, 'scale': True, 'tol': 1e-06}\n",
      "0.2932635984910503 {'copy': True, 'max_iter': 10000, 'n_components': 31, 'scale': True, 'tol': 1.0}\n",
      "0.2932635984910503 {'copy': True, 'max_iter': 10000, 'n_components': 31, 'scale': True, 'tol': 1000000.0}\n",
      "0.4093729281098584 {'copy': True, 'max_iter': 10000, 'n_components': 31, 'scale': False, 'tol': 1e-06}\n",
      "0.4093729281098584 {'copy': True, 'max_iter': 10000, 'n_components': 31, 'scale': False, 'tol': 1.0}\n",
      "0.4093729281098584 {'copy': True, 'max_iter': 10000, 'n_components': 31, 'scale': False, 'tol': 1000000.0}\n",
      "0.2932635984910503 {'copy': True, 'max_iter': 10000, 'n_components': 32, 'scale': True, 'tol': 1e-06}\n",
      "0.2932635984910503 {'copy': True, 'max_iter': 10000, 'n_components': 32, 'scale': True, 'tol': 1.0}\n",
      "0.2932635984910503 {'copy': True, 'max_iter': 10000, 'n_components': 32, 'scale': True, 'tol': 1000000.0}\n",
      "0.4093729281098584 {'copy': True, 'max_iter': 10000, 'n_components': 32, 'scale': False, 'tol': 1e-06}\n",
      "0.4093729281098584 {'copy': True, 'max_iter': 10000, 'n_components': 32, 'scale': False, 'tol': 1.0}\n",
      "0.4093729281098584 {'copy': True, 'max_iter': 10000, 'n_components': 32, 'scale': False, 'tol': 1000000.0}\n",
      "0.2932635984910528 {'copy': True, 'max_iter': 10000, 'n_components': 33, 'scale': True, 'tol': 1e-06}\n",
      "0.2932635984910528 {'copy': True, 'max_iter': 10000, 'n_components': 33, 'scale': True, 'tol': 1.0}\n",
      "0.2932635984910528 {'copy': True, 'max_iter': 10000, 'n_components': 33, 'scale': True, 'tol': 1000000.0}\n",
      "0.40937292810985865 {'copy': True, 'max_iter': 10000, 'n_components': 33, 'scale': False, 'tol': 1e-06}\n",
      "0.40937292810985865 {'copy': True, 'max_iter': 10000, 'n_components': 33, 'scale': False, 'tol': 1.0}\n",
      "0.40937292810985865 {'copy': True, 'max_iter': 10000, 'n_components': 33, 'scale': False, 'tol': 1000000.0}\n",
      "0.2932635984910528 {'copy': True, 'max_iter': 10000, 'n_components': 34, 'scale': True, 'tol': 1e-06}\n",
      "0.2932635984910528 {'copy': True, 'max_iter': 10000, 'n_components': 34, 'scale': True, 'tol': 1.0}\n",
      "0.2932635984910528 {'copy': True, 'max_iter': 10000, 'n_components': 34, 'scale': True, 'tol': 1000000.0}\n",
      "0.40937292810985865 {'copy': True, 'max_iter': 10000, 'n_components': 34, 'scale': False, 'tol': 1e-06}\n",
      "0.40937292810985865 {'copy': True, 'max_iter': 10000, 'n_components': 34, 'scale': False, 'tol': 1.0}\n",
      "0.40937292810985865 {'copy': True, 'max_iter': 10000, 'n_components': 34, 'scale': False, 'tol': 1000000.0}\n",
      "0.2932635984910528 {'copy': True, 'max_iter': 10000, 'n_components': 35, 'scale': True, 'tol': 1e-06}\n",
      "0.2932635984910528 {'copy': True, 'max_iter': 10000, 'n_components': 35, 'scale': True, 'tol': 1.0}\n",
      "0.2932635984910528 {'copy': True, 'max_iter': 10000, 'n_components': 35, 'scale': True, 'tol': 1000000.0}\n",
      "0.40937292810985865 {'copy': True, 'max_iter': 10000, 'n_components': 35, 'scale': False, 'tol': 1e-06}\n",
      "0.40937292810985865 {'copy': True, 'max_iter': 10000, 'n_components': 35, 'scale': False, 'tol': 1.0}\n",
      "0.40937292810985865 {'copy': True, 'max_iter': 10000, 'n_components': 35, 'scale': False, 'tol': 1000000.0}\n",
      "0.2932635984910528 {'copy': True, 'max_iter': 10000, 'n_components': 36, 'scale': True, 'tol': 1e-06}\n",
      "0.2932635984910528 {'copy': True, 'max_iter': 10000, 'n_components': 36, 'scale': True, 'tol': 1.0}\n",
      "0.2932635984910528 {'copy': True, 'max_iter': 10000, 'n_components': 36, 'scale': True, 'tol': 1000000.0}\n",
      "0.40937292810985865 {'copy': True, 'max_iter': 10000, 'n_components': 36, 'scale': False, 'tol': 1e-06}\n",
      "0.40937292810985865 {'copy': True, 'max_iter': 10000, 'n_components': 36, 'scale': False, 'tol': 1.0}\n",
      "0.40937292810985865 {'copy': True, 'max_iter': 10000, 'n_components': 36, 'scale': False, 'tol': 1000000.0}\n",
      "0.2932635984910528 {'copy': True, 'max_iter': 10000, 'n_components': 37, 'scale': True, 'tol': 1e-06}\n",
      "0.2932635984910528 {'copy': True, 'max_iter': 10000, 'n_components': 37, 'scale': True, 'tol': 1.0}\n",
      "0.2932635984910528 {'copy': True, 'max_iter': 10000, 'n_components': 37, 'scale': True, 'tol': 1000000.0}\n",
      "0.40937292810985865 {'copy': True, 'max_iter': 10000, 'n_components': 37, 'scale': False, 'tol': 1e-06}\n",
      "0.40937292810985865 {'copy': True, 'max_iter': 10000, 'n_components': 37, 'scale': False, 'tol': 1.0}\n",
      "0.40937292810985865 {'copy': True, 'max_iter': 10000, 'n_components': 37, 'scale': False, 'tol': 1000000.0}\n",
      "0.2932635984910528 {'copy': True, 'max_iter': 10000, 'n_components': 38, 'scale': True, 'tol': 1e-06}\n",
      "0.2932635984910528 {'copy': True, 'max_iter': 10000, 'n_components': 38, 'scale': True, 'tol': 1.0}\n",
      "0.2932635984910528 {'copy': True, 'max_iter': 10000, 'n_components': 38, 'scale': True, 'tol': 1000000.0}\n",
      "0.40937292810985865 {'copy': True, 'max_iter': 10000, 'n_components': 38, 'scale': False, 'tol': 1e-06}\n",
      "0.40937292810985865 {'copy': True, 'max_iter': 10000, 'n_components': 38, 'scale': False, 'tol': 1.0}\n",
      "0.40937292810985865 {'copy': True, 'max_iter': 10000, 'n_components': 38, 'scale': False, 'tol': 1000000.0}\n",
      "0.2932635984910528 {'copy': True, 'max_iter': 10000, 'n_components': 39, 'scale': True, 'tol': 1e-06}\n",
      "0.2932635984910528 {'copy': True, 'max_iter': 10000, 'n_components': 39, 'scale': True, 'tol': 1.0}\n",
      "0.2932635984910528 {'copy': True, 'max_iter': 10000, 'n_components': 39, 'scale': True, 'tol': 1000000.0}\n",
      "0.40937292810985865 {'copy': True, 'max_iter': 10000, 'n_components': 39, 'scale': False, 'tol': 1e-06}\n",
      "0.40937292810985865 {'copy': True, 'max_iter': 10000, 'n_components': 39, 'scale': False, 'tol': 1.0}\n",
      "0.40937292810985865 {'copy': True, 'max_iter': 10000, 'n_components': 39, 'scale': False, 'tol': 1000000.0}\n",
      "0.2932635984910528 {'copy': True, 'max_iter': 10000, 'n_components': 40, 'scale': True, 'tol': 1e-06}\n",
      "0.2932635984910528 {'copy': True, 'max_iter': 10000, 'n_components': 40, 'scale': True, 'tol': 1.0}\n",
      "0.2932635984910528 {'copy': True, 'max_iter': 10000, 'n_components': 40, 'scale': True, 'tol': 1000000.0}\n",
      "0.40937292810985865 {'copy': True, 'max_iter': 10000, 'n_components': 40, 'scale': False, 'tol': 1e-06}\n",
      "0.40937292810985865 {'copy': True, 'max_iter': 10000, 'n_components': 40, 'scale': False, 'tol': 1.0}\n",
      "0.40937292810985865 {'copy': True, 'max_iter': 10000, 'n_components': 40, 'scale': False, 'tol': 1000000.0}\n",
      "0.2932635984910528 {'copy': True, 'max_iter': 10000, 'n_components': 41, 'scale': True, 'tol': 1e-06}\n",
      "0.2932635984910528 {'copy': True, 'max_iter': 10000, 'n_components': 41, 'scale': True, 'tol': 1.0}\n",
      "0.2932635984910528 {'copy': True, 'max_iter': 10000, 'n_components': 41, 'scale': True, 'tol': 1000000.0}\n",
      "0.40937292810985865 {'copy': True, 'max_iter': 10000, 'n_components': 41, 'scale': False, 'tol': 1e-06}\n",
      "0.40937292810985865 {'copy': True, 'max_iter': 10000, 'n_components': 41, 'scale': False, 'tol': 1.0}\n",
      "0.40937292810985865 {'copy': True, 'max_iter': 10000, 'n_components': 41, 'scale': False, 'tol': 1000000.0}\n",
      "0.2932635984910528 {'copy': True, 'max_iter': 10000, 'n_components': 42, 'scale': True, 'tol': 1e-06}\n",
      "0.2932635984910528 {'copy': True, 'max_iter': 10000, 'n_components': 42, 'scale': True, 'tol': 1.0}\n",
      "0.2932635984910528 {'copy': True, 'max_iter': 10000, 'n_components': 42, 'scale': True, 'tol': 1000000.0}\n",
      "0.40937292810985865 {'copy': True, 'max_iter': 10000, 'n_components': 42, 'scale': False, 'tol': 1e-06}\n",
      "0.40937292810985865 {'copy': True, 'max_iter': 10000, 'n_components': 42, 'scale': False, 'tol': 1.0}\n",
      "0.40937292810985865 {'copy': True, 'max_iter': 10000, 'n_components': 42, 'scale': False, 'tol': 1000000.0}\n",
      "0.2932635984910528 {'copy': True, 'max_iter': 10000, 'n_components': 43, 'scale': True, 'tol': 1e-06}\n",
      "0.2932635984910528 {'copy': True, 'max_iter': 10000, 'n_components': 43, 'scale': True, 'tol': 1.0}\n",
      "0.2932635984910528 {'copy': True, 'max_iter': 10000, 'n_components': 43, 'scale': True, 'tol': 1000000.0}\n",
      "0.40937292810985865 {'copy': True, 'max_iter': 10000, 'n_components': 43, 'scale': False, 'tol': 1e-06}\n",
      "0.40937292810985865 {'copy': True, 'max_iter': 10000, 'n_components': 43, 'scale': False, 'tol': 1.0}\n",
      "0.40937292810985865 {'copy': True, 'max_iter': 10000, 'n_components': 43, 'scale': False, 'tol': 1000000.0}\n",
      "0.2932635984910528 {'copy': True, 'max_iter': 10000, 'n_components': 44, 'scale': True, 'tol': 1e-06}\n",
      "0.2932635984910528 {'copy': True, 'max_iter': 10000, 'n_components': 44, 'scale': True, 'tol': 1.0}\n",
      "0.2932635984910528 {'copy': True, 'max_iter': 10000, 'n_components': 44, 'scale': True, 'tol': 1000000.0}\n",
      "0.40937292810985865 {'copy': True, 'max_iter': 10000, 'n_components': 44, 'scale': False, 'tol': 1e-06}\n",
      "0.40937292810985865 {'copy': True, 'max_iter': 10000, 'n_components': 44, 'scale': False, 'tol': 1.0}\n",
      "0.40937292810985865 {'copy': True, 'max_iter': 10000, 'n_components': 44, 'scale': False, 'tol': 1000000.0}\n",
      "0.2932635984910528 {'copy': True, 'max_iter': 10000, 'n_components': 45, 'scale': True, 'tol': 1e-06}\n",
      "0.2932635984910528 {'copy': True, 'max_iter': 10000, 'n_components': 45, 'scale': True, 'tol': 1.0}\n",
      "0.2932635984910528 {'copy': True, 'max_iter': 10000, 'n_components': 45, 'scale': True, 'tol': 1000000.0}\n",
      "0.40937292810985865 {'copy': True, 'max_iter': 10000, 'n_components': 45, 'scale': False, 'tol': 1e-06}\n",
      "0.40937292810985865 {'copy': True, 'max_iter': 10000, 'n_components': 45, 'scale': False, 'tol': 1.0}\n",
      "0.40937292810985865 {'copy': True, 'max_iter': 10000, 'n_components': 45, 'scale': False, 'tol': 1000000.0}\n",
      "0.2932635984910528 {'copy': True, 'max_iter': 10000, 'n_components': 46, 'scale': True, 'tol': 1e-06}\n",
      "0.2932635984910528 {'copy': True, 'max_iter': 10000, 'n_components': 46, 'scale': True, 'tol': 1.0}\n",
      "0.2932635984910528 {'copy': True, 'max_iter': 10000, 'n_components': 46, 'scale': True, 'tol': 1000000.0}\n",
      "0.40937292810985865 {'copy': True, 'max_iter': 10000, 'n_components': 46, 'scale': False, 'tol': 1e-06}\n",
      "0.40937292810985865 {'copy': True, 'max_iter': 10000, 'n_components': 46, 'scale': False, 'tol': 1.0}\n",
      "0.40937292810985865 {'copy': True, 'max_iter': 10000, 'n_components': 46, 'scale': False, 'tol': 1000000.0}\n",
      "0.2932635984910528 {'copy': True, 'max_iter': 10000, 'n_components': 47, 'scale': True, 'tol': 1e-06}\n",
      "0.2932635984910528 {'copy': True, 'max_iter': 10000, 'n_components': 47, 'scale': True, 'tol': 1.0}\n",
      "0.2932635984910528 {'copy': True, 'max_iter': 10000, 'n_components': 47, 'scale': True, 'tol': 1000000.0}\n",
      "0.40937292810985865 {'copy': True, 'max_iter': 10000, 'n_components': 47, 'scale': False, 'tol': 1e-06}\n",
      "0.40937292810985865 {'copy': True, 'max_iter': 10000, 'n_components': 47, 'scale': False, 'tol': 1.0}\n",
      "0.40937292810985865 {'copy': True, 'max_iter': 10000, 'n_components': 47, 'scale': False, 'tol': 1000000.0}\n",
      "0.2932635984910511 {'copy': True, 'max_iter': 10000, 'n_components': 48, 'scale': True, 'tol': 1e-06}\n",
      "0.2932635984910511 {'copy': True, 'max_iter': 10000, 'n_components': 48, 'scale': True, 'tol': 1.0}\n",
      "0.2932635984910511 {'copy': True, 'max_iter': 10000, 'n_components': 48, 'scale': True, 'tol': 1000000.0}\n",
      "0.40937292810985776 {'copy': True, 'max_iter': 10000, 'n_components': 48, 'scale': False, 'tol': 1e-06}\n",
      "0.40937292810985776 {'copy': True, 'max_iter': 10000, 'n_components': 48, 'scale': False, 'tol': 1.0}\n",
      "0.40937292810985776 {'copy': True, 'max_iter': 10000, 'n_components': 48, 'scale': False, 'tol': 1000000.0}\n",
      "0.2932635984910513 {'copy': True, 'max_iter': 10000, 'n_components': 49, 'scale': True, 'tol': 1e-06}\n",
      "0.2932635984910513 {'copy': True, 'max_iter': 10000, 'n_components': 49, 'scale': True, 'tol': 1.0}\n",
      "0.2932635984910513 {'copy': True, 'max_iter': 10000, 'n_components': 49, 'scale': True, 'tol': 1000000.0}\n",
      "0.4093729281098586 {'copy': True, 'max_iter': 10000, 'n_components': 49, 'scale': False, 'tol': 1e-06}\n",
      "0.4093729281098586 {'copy': True, 'max_iter': 10000, 'n_components': 49, 'scale': False, 'tol': 1.0}\n",
      "0.4093729281098586 {'copy': True, 'max_iter': 10000, 'n_components': 49, 'scale': False, 'tol': 1000000.0}\n",
      "0.2932635984910513 {'copy': True, 'max_iter': 10000, 'n_components': 50, 'scale': True, 'tol': 1e-06}\n",
      "0.2932635984910513 {'copy': True, 'max_iter': 10000, 'n_components': 50, 'scale': True, 'tol': 1.0}\n",
      "0.2932635984910513 {'copy': True, 'max_iter': 10000, 'n_components': 50, 'scale': True, 'tol': 1000000.0}\n",
      "0.4093729281098586 {'copy': True, 'max_iter': 10000, 'n_components': 50, 'scale': False, 'tol': 1e-06}\n",
      "0.4093729281098586 {'copy': True, 'max_iter': 10000, 'n_components': 50, 'scale': False, 'tol': 1.0}\n",
      "0.4093729281098586 {'copy': True, 'max_iter': 10000, 'n_components': 50, 'scale': False, 'tol': 1000000.0}\n",
      "0.2932635984910513 {'copy': True, 'max_iter': 10000, 'n_components': 51, 'scale': True, 'tol': 1e-06}\n",
      "0.2932635984910513 {'copy': True, 'max_iter': 10000, 'n_components': 51, 'scale': True, 'tol': 1.0}\n",
      "0.2932635984910513 {'copy': True, 'max_iter': 10000, 'n_components': 51, 'scale': True, 'tol': 1000000.0}\n",
      "0.4093729281098586 {'copy': True, 'max_iter': 10000, 'n_components': 51, 'scale': False, 'tol': 1e-06}\n",
      "0.4093729281098586 {'copy': True, 'max_iter': 10000, 'n_components': 51, 'scale': False, 'tol': 1.0}\n",
      "0.4093729281098586 {'copy': True, 'max_iter': 10000, 'n_components': 51, 'scale': False, 'tol': 1000000.0}\n",
      "0.2932635984910513 {'copy': True, 'max_iter': 10000, 'n_components': 52, 'scale': True, 'tol': 1e-06}\n",
      "0.2932635984910513 {'copy': True, 'max_iter': 10000, 'n_components': 52, 'scale': True, 'tol': 1.0}\n",
      "0.2932635984910513 {'copy': True, 'max_iter': 10000, 'n_components': 52, 'scale': True, 'tol': 1000000.0}\n",
      "0.4093729281098586 {'copy': True, 'max_iter': 10000, 'n_components': 52, 'scale': False, 'tol': 1e-06}\n",
      "0.4093729281098586 {'copy': True, 'max_iter': 10000, 'n_components': 52, 'scale': False, 'tol': 1.0}\n",
      "0.4093729281098586 {'copy': True, 'max_iter': 10000, 'n_components': 52, 'scale': False, 'tol': 1000000.0}\n",
      "0.2932635984910513 {'copy': True, 'max_iter': 10000, 'n_components': 53, 'scale': True, 'tol': 1e-06}\n",
      "0.2932635984910513 {'copy': True, 'max_iter': 10000, 'n_components': 53, 'scale': True, 'tol': 1.0}\n",
      "0.2932635984910513 {'copy': True, 'max_iter': 10000, 'n_components': 53, 'scale': True, 'tol': 1000000.0}\n",
      "0.4093729281098586 {'copy': True, 'max_iter': 10000, 'n_components': 53, 'scale': False, 'tol': 1e-06}\n",
      "0.4093729281098586 {'copy': True, 'max_iter': 10000, 'n_components': 53, 'scale': False, 'tol': 1.0}\n",
      "0.4093729281098586 {'copy': True, 'max_iter': 10000, 'n_components': 53, 'scale': False, 'tol': 1000000.0}\n",
      "0.2932635984910513 {'copy': True, 'max_iter': 10000, 'n_components': 54, 'scale': True, 'tol': 1e-06}\n",
      "0.2932635984910513 {'copy': True, 'max_iter': 10000, 'n_components': 54, 'scale': True, 'tol': 1.0}\n",
      "0.2932635984910513 {'copy': True, 'max_iter': 10000, 'n_components': 54, 'scale': True, 'tol': 1000000.0}\n",
      "0.4093729281098586 {'copy': True, 'max_iter': 10000, 'n_components': 54, 'scale': False, 'tol': 1e-06}\n",
      "0.4093729281098586 {'copy': True, 'max_iter': 10000, 'n_components': 54, 'scale': False, 'tol': 1.0}\n",
      "0.4093729281098586 {'copy': True, 'max_iter': 10000, 'n_components': 54, 'scale': False, 'tol': 1000000.0}\n",
      "0.2932635984910513 {'copy': True, 'max_iter': 10000, 'n_components': 55, 'scale': True, 'tol': 1e-06}\n",
      "0.2932635984910513 {'copy': True, 'max_iter': 10000, 'n_components': 55, 'scale': True, 'tol': 1.0}\n",
      "0.2932635984910513 {'copy': True, 'max_iter': 10000, 'n_components': 55, 'scale': True, 'tol': 1000000.0}\n",
      "0.4093729281098586 {'copy': True, 'max_iter': 10000, 'n_components': 55, 'scale': False, 'tol': 1e-06}\n",
      "0.4093729281098586 {'copy': True, 'max_iter': 10000, 'n_components': 55, 'scale': False, 'tol': 1.0}\n",
      "0.4093729281098586 {'copy': True, 'max_iter': 10000, 'n_components': 55, 'scale': False, 'tol': 1000000.0}\n",
      "0.2932635984910513 {'copy': True, 'max_iter': 10000, 'n_components': 56, 'scale': True, 'tol': 1e-06}\n",
      "0.2932635984910513 {'copy': True, 'max_iter': 10000, 'n_components': 56, 'scale': True, 'tol': 1.0}\n",
      "0.2932635984910513 {'copy': True, 'max_iter': 10000, 'n_components': 56, 'scale': True, 'tol': 1000000.0}\n",
      "0.4093729281098586 {'copy': True, 'max_iter': 10000, 'n_components': 56, 'scale': False, 'tol': 1e-06}\n",
      "0.4093729281098586 {'copy': True, 'max_iter': 10000, 'n_components': 56, 'scale': False, 'tol': 1.0}\n",
      "0.4093729281098586 {'copy': True, 'max_iter': 10000, 'n_components': 56, 'scale': False, 'tol': 1000000.0}\n",
      "0.2932635984910513 {'copy': True, 'max_iter': 10000, 'n_components': 57, 'scale': True, 'tol': 1e-06}\n",
      "0.2932635984910513 {'copy': True, 'max_iter': 10000, 'n_components': 57, 'scale': True, 'tol': 1.0}\n",
      "0.2932635984910513 {'copy': True, 'max_iter': 10000, 'n_components': 57, 'scale': True, 'tol': 1000000.0}\n",
      "0.4093729281098586 {'copy': True, 'max_iter': 10000, 'n_components': 57, 'scale': False, 'tol': 1e-06}\n",
      "0.4093729281098586 {'copy': True, 'max_iter': 10000, 'n_components': 57, 'scale': False, 'tol': 1.0}\n",
      "0.4093729281098586 {'copy': True, 'max_iter': 10000, 'n_components': 57, 'scale': False, 'tol': 1000000.0}\n",
      "0.2932635984910513 {'copy': True, 'max_iter': 10000, 'n_components': 58, 'scale': True, 'tol': 1e-06}\n",
      "0.2932635984910513 {'copy': True, 'max_iter': 10000, 'n_components': 58, 'scale': True, 'tol': 1.0}\n",
      "0.2932635984910513 {'copy': True, 'max_iter': 10000, 'n_components': 58, 'scale': True, 'tol': 1000000.0}\n",
      "0.4093729281098586 {'copy': True, 'max_iter': 10000, 'n_components': 58, 'scale': False, 'tol': 1e-06}\n",
      "0.4093729281098586 {'copy': True, 'max_iter': 10000, 'n_components': 58, 'scale': False, 'tol': 1.0}\n",
      "0.4093729281098586 {'copy': True, 'max_iter': 10000, 'n_components': 58, 'scale': False, 'tol': 1000000.0}\n",
      "0.2932635984910513 {'copy': True, 'max_iter': 10000, 'n_components': 59, 'scale': True, 'tol': 1e-06}\n",
      "0.2932635984910513 {'copy': True, 'max_iter': 10000, 'n_components': 59, 'scale': True, 'tol': 1.0}\n",
      "0.2932635984910513 {'copy': True, 'max_iter': 10000, 'n_components': 59, 'scale': True, 'tol': 1000000.0}\n",
      "0.4093729281098586 {'copy': True, 'max_iter': 10000, 'n_components': 59, 'scale': False, 'tol': 1e-06}\n",
      "0.4093729281098586 {'copy': True, 'max_iter': 10000, 'n_components': 59, 'scale': False, 'tol': 1.0}\n",
      "0.4093729281098586 {'copy': True, 'max_iter': 10000, 'n_components': 59, 'scale': False, 'tol': 1000000.0}\n",
      "0.2932635984910513 {'copy': True, 'max_iter': 10000, 'n_components': 60, 'scale': True, 'tol': 1e-06}\n",
      "0.2932635984910513 {'copy': True, 'max_iter': 10000, 'n_components': 60, 'scale': True, 'tol': 1.0}\n",
      "0.2932635984910513 {'copy': True, 'max_iter': 10000, 'n_components': 60, 'scale': True, 'tol': 1000000.0}\n",
      "0.4093729281098586 {'copy': True, 'max_iter': 10000, 'n_components': 60, 'scale': False, 'tol': 1e-06}\n",
      "0.4093729281098586 {'copy': True, 'max_iter': 10000, 'n_components': 60, 'scale': False, 'tol': 1.0}\n",
      "0.4093729281098586 {'copy': True, 'max_iter': 10000, 'n_components': 60, 'scale': False, 'tol': 1000000.0}\n",
      "0.2932635984910513 {'copy': True, 'max_iter': 10000, 'n_components': 61, 'scale': True, 'tol': 1e-06}\n",
      "0.2932635984910513 {'copy': True, 'max_iter': 10000, 'n_components': 61, 'scale': True, 'tol': 1.0}\n",
      "0.2932635984910513 {'copy': True, 'max_iter': 10000, 'n_components': 61, 'scale': True, 'tol': 1000000.0}\n",
      "0.4093729281098586 {'copy': True, 'max_iter': 10000, 'n_components': 61, 'scale': False, 'tol': 1e-06}\n",
      "0.4093729281098586 {'copy': True, 'max_iter': 10000, 'n_components': 61, 'scale': False, 'tol': 1.0}\n",
      "0.4093729281098586 {'copy': True, 'max_iter': 10000, 'n_components': 61, 'scale': False, 'tol': 1000000.0}\n",
      "0.2932635984910513 {'copy': True, 'max_iter': 10000, 'n_components': 62, 'scale': True, 'tol': 1e-06}\n",
      "0.2932635984910513 {'copy': True, 'max_iter': 10000, 'n_components': 62, 'scale': True, 'tol': 1.0}\n",
      "0.2932635984910513 {'copy': True, 'max_iter': 10000, 'n_components': 62, 'scale': True, 'tol': 1000000.0}\n",
      "0.4093729281098586 {'copy': True, 'max_iter': 10000, 'n_components': 62, 'scale': False, 'tol': 1e-06}\n",
      "0.4093729281098586 {'copy': True, 'max_iter': 10000, 'n_components': 62, 'scale': False, 'tol': 1.0}\n",
      "0.4093729281098586 {'copy': True, 'max_iter': 10000, 'n_components': 62, 'scale': False, 'tol': 1000000.0}\n",
      "0.2932635984910513 {'copy': True, 'max_iter': 10000, 'n_components': 63, 'scale': True, 'tol': 1e-06}\n",
      "0.2932635984910513 {'copy': True, 'max_iter': 10000, 'n_components': 63, 'scale': True, 'tol': 1.0}\n",
      "0.2932635984910513 {'copy': True, 'max_iter': 10000, 'n_components': 63, 'scale': True, 'tol': 1000000.0}\n",
      "0.4093729281098586 {'copy': True, 'max_iter': 10000, 'n_components': 63, 'scale': False, 'tol': 1e-06}\n",
      "0.4093729281098586 {'copy': True, 'max_iter': 10000, 'n_components': 63, 'scale': False, 'tol': 1.0}\n",
      "0.4093729281098586 {'copy': True, 'max_iter': 10000, 'n_components': 63, 'scale': False, 'tol': 1000000.0}\n",
      "0.2932635984910513 {'copy': True, 'max_iter': 10000, 'n_components': 64, 'scale': True, 'tol': 1e-06}\n",
      "0.2932635984910513 {'copy': True, 'max_iter': 10000, 'n_components': 64, 'scale': True, 'tol': 1.0}\n",
      "0.2932635984910513 {'copy': True, 'max_iter': 10000, 'n_components': 64, 'scale': True, 'tol': 1000000.0}\n",
      "0.4093729281098586 {'copy': True, 'max_iter': 10000, 'n_components': 64, 'scale': False, 'tol': 1e-06}\n",
      "0.4093729281098586 {'copy': True, 'max_iter': 10000, 'n_components': 64, 'scale': False, 'tol': 1.0}\n",
      "0.4093729281098586 {'copy': True, 'max_iter': 10000, 'n_components': 64, 'scale': False, 'tol': 1000000.0}\n",
      "0.2932635984910513 {'copy': True, 'max_iter': 10000, 'n_components': 65, 'scale': True, 'tol': 1e-06}\n",
      "0.2932635984910513 {'copy': True, 'max_iter': 10000, 'n_components': 65, 'scale': True, 'tol': 1.0}\n",
      "0.2932635984910513 {'copy': True, 'max_iter': 10000, 'n_components': 65, 'scale': True, 'tol': 1000000.0}\n",
      "0.40937292810985837 {'copy': True, 'max_iter': 10000, 'n_components': 65, 'scale': False, 'tol': 1e-06}\n",
      "0.40937292810985837 {'copy': True, 'max_iter': 10000, 'n_components': 65, 'scale': False, 'tol': 1.0}\n",
      "0.40937292810985837 {'copy': True, 'max_iter': 10000, 'n_components': 65, 'scale': False, 'tol': 1000000.0}\n",
      "0.2932635984910506 {'copy': True, 'max_iter': 10000, 'n_components': 66, 'scale': True, 'tol': 1e-06}\n",
      "0.2932635984910506 {'copy': True, 'max_iter': 10000, 'n_components': 66, 'scale': True, 'tol': 1.0}\n",
      "0.2932635984910506 {'copy': True, 'max_iter': 10000, 'n_components': 66, 'scale': True, 'tol': 1000000.0}\n",
      "0.4093729281098586 {'copy': True, 'max_iter': 10000, 'n_components': 66, 'scale': False, 'tol': 1e-06}\n",
      "0.4093729281098586 {'copy': True, 'max_iter': 10000, 'n_components': 66, 'scale': False, 'tol': 1.0}\n",
      "0.4093729281098586 {'copy': True, 'max_iter': 10000, 'n_components': 66, 'scale': False, 'tol': 1000000.0}\n",
      "0.2932635984910506 {'copy': True, 'max_iter': 10000, 'n_components': 67, 'scale': True, 'tol': 1e-06}\n",
      "0.2932635984910506 {'copy': True, 'max_iter': 10000, 'n_components': 67, 'scale': True, 'tol': 1.0}\n",
      "0.2932635984910506 {'copy': True, 'max_iter': 10000, 'n_components': 67, 'scale': True, 'tol': 1000000.0}\n",
      "0.4093729281098586 {'copy': True, 'max_iter': 10000, 'n_components': 67, 'scale': False, 'tol': 1e-06}\n",
      "0.4093729281098586 {'copy': True, 'max_iter': 10000, 'n_components': 67, 'scale': False, 'tol': 1.0}\n",
      "0.4093729281098586 {'copy': True, 'max_iter': 10000, 'n_components': 67, 'scale': False, 'tol': 1000000.0}\n",
      "0.2932635984910506 {'copy': True, 'max_iter': 10000, 'n_components': 68, 'scale': True, 'tol': 1e-06}\n",
      "0.2932635984910506 {'copy': True, 'max_iter': 10000, 'n_components': 68, 'scale': True, 'tol': 1.0}\n",
      "0.2932635984910506 {'copy': True, 'max_iter': 10000, 'n_components': 68, 'scale': True, 'tol': 1000000.0}\n",
      "0.4093729281098586 {'copy': True, 'max_iter': 10000, 'n_components': 68, 'scale': False, 'tol': 1e-06}\n",
      "0.4093729281098586 {'copy': True, 'max_iter': 10000, 'n_components': 68, 'scale': False, 'tol': 1.0}\n",
      "0.4093729281098586 {'copy': True, 'max_iter': 10000, 'n_components': 68, 'scale': False, 'tol': 1000000.0}\n",
      "0.2932635984910506 {'copy': True, 'max_iter': 10000, 'n_components': 69, 'scale': True, 'tol': 1e-06}\n",
      "0.2932635984910506 {'copy': True, 'max_iter': 10000, 'n_components': 69, 'scale': True, 'tol': 1.0}\n",
      "0.2932635984910506 {'copy': True, 'max_iter': 10000, 'n_components': 69, 'scale': True, 'tol': 1000000.0}\n",
      "0.4093729281098586 {'copy': True, 'max_iter': 10000, 'n_components': 69, 'scale': False, 'tol': 1e-06}\n",
      "0.4093729281098586 {'copy': True, 'max_iter': 10000, 'n_components': 69, 'scale': False, 'tol': 1.0}\n",
      "0.4093729281098586 {'copy': True, 'max_iter': 10000, 'n_components': 69, 'scale': False, 'tol': 1000000.0}\n",
      "0.2932635984910506 {'copy': True, 'max_iter': 10000, 'n_components': 70, 'scale': True, 'tol': 1e-06}\n",
      "0.2932635984910506 {'copy': True, 'max_iter': 10000, 'n_components': 70, 'scale': True, 'tol': 1.0}\n",
      "0.2932635984910506 {'copy': True, 'max_iter': 10000, 'n_components': 70, 'scale': True, 'tol': 1000000.0}\n",
      "0.4093729281098586 {'copy': True, 'max_iter': 10000, 'n_components': 70, 'scale': False, 'tol': 1e-06}\n",
      "0.4093729281098586 {'copy': True, 'max_iter': 10000, 'n_components': 70, 'scale': False, 'tol': 1.0}\n",
      "0.4093729281098586 {'copy': True, 'max_iter': 10000, 'n_components': 70, 'scale': False, 'tol': 1000000.0}\n",
      "0.2932635984910506 {'copy': True, 'max_iter': 10000, 'n_components': 71, 'scale': True, 'tol': 1e-06}\n",
      "0.2932635984910506 {'copy': True, 'max_iter': 10000, 'n_components': 71, 'scale': True, 'tol': 1.0}\n",
      "0.2932635984910506 {'copy': True, 'max_iter': 10000, 'n_components': 71, 'scale': True, 'tol': 1000000.0}\n",
      "0.4093729281098586 {'copy': True, 'max_iter': 10000, 'n_components': 71, 'scale': False, 'tol': 1e-06}\n",
      "0.4093729281098586 {'copy': True, 'max_iter': 10000, 'n_components': 71, 'scale': False, 'tol': 1.0}\n",
      "0.4093729281098586 {'copy': True, 'max_iter': 10000, 'n_components': 71, 'scale': False, 'tol': 1000000.0}\n",
      "0.2932635984910506 {'copy': True, 'max_iter': 10000, 'n_components': 72, 'scale': True, 'tol': 1e-06}\n",
      "0.2932635984910506 {'copy': True, 'max_iter': 10000, 'n_components': 72, 'scale': True, 'tol': 1.0}\n",
      "0.2932635984910506 {'copy': True, 'max_iter': 10000, 'n_components': 72, 'scale': True, 'tol': 1000000.0}\n",
      "0.4093729281098586 {'copy': True, 'max_iter': 10000, 'n_components': 72, 'scale': False, 'tol': 1e-06}\n",
      "0.4093729281098586 {'copy': True, 'max_iter': 10000, 'n_components': 72, 'scale': False, 'tol': 1.0}\n",
      "0.4093729281098586 {'copy': True, 'max_iter': 10000, 'n_components': 72, 'scale': False, 'tol': 1000000.0}\n",
      "0.2932635984910506 {'copy': True, 'max_iter': 10000, 'n_components': 73, 'scale': True, 'tol': 1e-06}\n",
      "0.2932635984910506 {'copy': True, 'max_iter': 10000, 'n_components': 73, 'scale': True, 'tol': 1.0}\n",
      "0.2932635984910506 {'copy': True, 'max_iter': 10000, 'n_components': 73, 'scale': True, 'tol': 1000000.0}\n",
      "0.4093729281098586 {'copy': True, 'max_iter': 10000, 'n_components': 73, 'scale': False, 'tol': 1e-06}\n",
      "0.4093729281098586 {'copy': True, 'max_iter': 10000, 'n_components': 73, 'scale': False, 'tol': 1.0}\n",
      "0.4093729281098586 {'copy': True, 'max_iter': 10000, 'n_components': 73, 'scale': False, 'tol': 1000000.0}\n",
      "0.2932635984910506 {'copy': True, 'max_iter': 10000, 'n_components': 74, 'scale': True, 'tol': 1e-06}\n",
      "0.2932635984910506 {'copy': True, 'max_iter': 10000, 'n_components': 74, 'scale': True, 'tol': 1.0}\n",
      "0.2932635984910506 {'copy': True, 'max_iter': 10000, 'n_components': 74, 'scale': True, 'tol': 1000000.0}\n",
      "0.4093729281098586 {'copy': True, 'max_iter': 10000, 'n_components': 74, 'scale': False, 'tol': 1e-06}\n",
      "0.4093729281098586 {'copy': True, 'max_iter': 10000, 'n_components': 74, 'scale': False, 'tol': 1.0}\n",
      "0.4093729281098586 {'copy': True, 'max_iter': 10000, 'n_components': 74, 'scale': False, 'tol': 1000000.0}\n",
      "0.2932635984910506 {'copy': True, 'max_iter': 10000, 'n_components': 75, 'scale': True, 'tol': 1e-06}\n",
      "0.2932635984910506 {'copy': True, 'max_iter': 10000, 'n_components': 75, 'scale': True, 'tol': 1.0}\n",
      "0.2932635984910506 {'copy': True, 'max_iter': 10000, 'n_components': 75, 'scale': True, 'tol': 1000000.0}\n",
      "0.4093729281098586 {'copy': True, 'max_iter': 10000, 'n_components': 75, 'scale': False, 'tol': 1e-06}\n",
      "0.4093729281098586 {'copy': True, 'max_iter': 10000, 'n_components': 75, 'scale': False, 'tol': 1.0}\n",
      "0.4093729281098586 {'copy': True, 'max_iter': 10000, 'n_components': 75, 'scale': False, 'tol': 1000000.0}\n",
      "0.2932635984910506 {'copy': True, 'max_iter': 10000, 'n_components': 76, 'scale': True, 'tol': 1e-06}\n",
      "0.2932635984910506 {'copy': True, 'max_iter': 10000, 'n_components': 76, 'scale': True, 'tol': 1.0}\n",
      "0.2932635984910506 {'copy': True, 'max_iter': 10000, 'n_components': 76, 'scale': True, 'tol': 1000000.0}\n",
      "0.4093729281098586 {'copy': True, 'max_iter': 10000, 'n_components': 76, 'scale': False, 'tol': 1e-06}\n",
      "0.4093729281098586 {'copy': True, 'max_iter': 10000, 'n_components': 76, 'scale': False, 'tol': 1.0}\n",
      "0.4093729281098586 {'copy': True, 'max_iter': 10000, 'n_components': 76, 'scale': False, 'tol': 1000000.0}\n",
      "0.2932635984910506 {'copy': True, 'max_iter': 10000, 'n_components': 77, 'scale': True, 'tol': 1e-06}\n",
      "0.2932635984910506 {'copy': True, 'max_iter': 10000, 'n_components': 77, 'scale': True, 'tol': 1.0}\n",
      "0.2932635984910506 {'copy': True, 'max_iter': 10000, 'n_components': 77, 'scale': True, 'tol': 1000000.0}\n",
      "0.4093729281098586 {'copy': True, 'max_iter': 10000, 'n_components': 77, 'scale': False, 'tol': 1e-06}\n",
      "0.4093729281098586 {'copy': True, 'max_iter': 10000, 'n_components': 77, 'scale': False, 'tol': 1.0}\n",
      "0.4093729281098586 {'copy': True, 'max_iter': 10000, 'n_components': 77, 'scale': False, 'tol': 1000000.0}\n",
      "0.2932635984910506 {'copy': True, 'max_iter': 10000, 'n_components': 78, 'scale': True, 'tol': 1e-06}\n",
      "0.2932635984910506 {'copy': True, 'max_iter': 10000, 'n_components': 78, 'scale': True, 'tol': 1.0}\n",
      "0.2932635984910506 {'copy': True, 'max_iter': 10000, 'n_components': 78, 'scale': True, 'tol': 1000000.0}\n",
      "0.4093729281098586 {'copy': True, 'max_iter': 10000, 'n_components': 78, 'scale': False, 'tol': 1e-06}\n",
      "0.4093729281098586 {'copy': True, 'max_iter': 10000, 'n_components': 78, 'scale': False, 'tol': 1.0}\n",
      "0.4093729281098586 {'copy': True, 'max_iter': 10000, 'n_components': 78, 'scale': False, 'tol': 1000000.0}\n",
      "0.2932635984910506 {'copy': True, 'max_iter': 10000, 'n_components': 79, 'scale': True, 'tol': 1e-06}\n",
      "0.2932635984910506 {'copy': True, 'max_iter': 10000, 'n_components': 79, 'scale': True, 'tol': 1.0}\n",
      "0.2932635984910506 {'copy': True, 'max_iter': 10000, 'n_components': 79, 'scale': True, 'tol': 1000000.0}\n",
      "0.4093729281098586 {'copy': True, 'max_iter': 10000, 'n_components': 79, 'scale': False, 'tol': 1e-06}\n",
      "0.4093729281098586 {'copy': True, 'max_iter': 10000, 'n_components': 79, 'scale': False, 'tol': 1.0}\n",
      "0.4093729281098586 {'copy': True, 'max_iter': 10000, 'n_components': 79, 'scale': False, 'tol': 1000000.0}\n",
      "0.2932635984910506 {'copy': True, 'max_iter': 10000, 'n_components': 80, 'scale': True, 'tol': 1e-06}\n",
      "0.2932635984910506 {'copy': True, 'max_iter': 10000, 'n_components': 80, 'scale': True, 'tol': 1.0}\n",
      "0.2932635984910506 {'copy': True, 'max_iter': 10000, 'n_components': 80, 'scale': True, 'tol': 1000000.0}\n",
      "0.4093729281098586 {'copy': True, 'max_iter': 10000, 'n_components': 80, 'scale': False, 'tol': 1e-06}\n",
      "0.4093729281098586 {'copy': True, 'max_iter': 10000, 'n_components': 80, 'scale': False, 'tol': 1.0}\n",
      "0.4093729281098586 {'copy': True, 'max_iter': 10000, 'n_components': 80, 'scale': False, 'tol': 1000000.0}\n",
      "0.2932635984910506 {'copy': True, 'max_iter': 10000, 'n_components': 81, 'scale': True, 'tol': 1e-06}\n",
      "0.2932635984910506 {'copy': True, 'max_iter': 10000, 'n_components': 81, 'scale': True, 'tol': 1.0}\n",
      "0.2932635984910506 {'copy': True, 'max_iter': 10000, 'n_components': 81, 'scale': True, 'tol': 1000000.0}\n",
      "0.4093729281098586 {'copy': True, 'max_iter': 10000, 'n_components': 81, 'scale': False, 'tol': 1e-06}\n",
      "0.4093729281098586 {'copy': True, 'max_iter': 10000, 'n_components': 81, 'scale': False, 'tol': 1.0}\n",
      "0.4093729281098586 {'copy': True, 'max_iter': 10000, 'n_components': 81, 'scale': False, 'tol': 1000000.0}\n",
      "0.2932635984910506 {'copy': True, 'max_iter': 10000, 'n_components': 82, 'scale': True, 'tol': 1e-06}\n",
      "0.2932635984910506 {'copy': True, 'max_iter': 10000, 'n_components': 82, 'scale': True, 'tol': 1.0}\n",
      "0.2932635984910506 {'copy': True, 'max_iter': 10000, 'n_components': 82, 'scale': True, 'tol': 1000000.0}\n",
      "0.4093729281098586 {'copy': True, 'max_iter': 10000, 'n_components': 82, 'scale': False, 'tol': 1e-06}\n",
      "0.4093729281098586 {'copy': True, 'max_iter': 10000, 'n_components': 82, 'scale': False, 'tol': 1.0}\n",
      "0.4093729281098586 {'copy': True, 'max_iter': 10000, 'n_components': 82, 'scale': False, 'tol': 1000000.0}\n",
      "0.2932635984910506 {'copy': True, 'max_iter': 10000, 'n_components': 83, 'scale': True, 'tol': 1e-06}\n",
      "0.2932635984910506 {'copy': True, 'max_iter': 10000, 'n_components': 83, 'scale': True, 'tol': 1.0}\n",
      "0.2932635984910506 {'copy': True, 'max_iter': 10000, 'n_components': 83, 'scale': True, 'tol': 1000000.0}\n",
      "0.4093729281098586 {'copy': True, 'max_iter': 10000, 'n_components': 83, 'scale': False, 'tol': 1e-06}\n",
      "0.4093729281098586 {'copy': True, 'max_iter': 10000, 'n_components': 83, 'scale': False, 'tol': 1.0}\n",
      "0.4093729281098586 {'copy': True, 'max_iter': 10000, 'n_components': 83, 'scale': False, 'tol': 1000000.0}\n",
      "0.2932635984910506 {'copy': True, 'max_iter': 10000, 'n_components': 84, 'scale': True, 'tol': 1e-06}\n",
      "0.2932635984910506 {'copy': True, 'max_iter': 10000, 'n_components': 84, 'scale': True, 'tol': 1.0}\n",
      "0.2932635984910506 {'copy': True, 'max_iter': 10000, 'n_components': 84, 'scale': True, 'tol': 1000000.0}\n",
      "0.4093729281098586 {'copy': True, 'max_iter': 10000, 'n_components': 84, 'scale': False, 'tol': 1e-06}\n",
      "0.4093729281098586 {'copy': True, 'max_iter': 10000, 'n_components': 84, 'scale': False, 'tol': 1.0}\n",
      "0.4093729281098586 {'copy': True, 'max_iter': 10000, 'n_components': 84, 'scale': False, 'tol': 1000000.0}\n"
     ]
    }
   ],
   "source": [
    "for mean_score,  params  in zip(cvres [ \"mean_test_score\" ], \n",
    "                                cvres [ \"params\" ]\n",
    "                                ): \n",
    "    filew[mean_score]=params\n",
    "    print (mean_score , params) "
   ]
  },
  {
   "cell_type": "code",
   "execution_count": 41,
   "metadata": {},
   "outputs": [],
   "source": [
    "ylow=gridCought.cv_results_[ \"mean_test_score\" ]"
   ]
  },
  {
   "cell_type": "code",
   "execution_count": 80,
   "metadata": {},
   "outputs": [],
   "source": [
    "xlow2=cvres[ \"params\" ][45]['n_components']"
   ]
  },
  {
   "cell_type": "code",
   "execution_count": 81,
   "metadata": {},
   "outputs": [
    {
     "data": {
      "text/plain": [
       "8"
      ]
     },
     "execution_count": 81,
     "metadata": {},
     "output_type": "execute_result"
    }
   ],
   "source": [
    "xlow2"
   ]
  },
  {
   "cell_type": "code",
   "execution_count": 82,
   "metadata": {},
   "outputs": [],
   "source": [
    "xlow=parametrsNames['n_components']"
   ]
  },
  {
   "cell_type": "code",
   "execution_count": 83,
   "metadata": {},
   "outputs": [
    {
     "data": {
      "text/plain": [
       "range(1, 85)"
      ]
     },
     "execution_count": 83,
     "metadata": {},
     "output_type": "execute_result"
    }
   ],
   "source": [
    "xlow"
   ]
  },
  {
   "cell_type": "markdown",
   "metadata": {},
   "source": [
    "### Строим метки оси ох"
   ]
  },
  {
   "cell_type": "code",
   "execution_count": 135,
   "metadata": {},
   "outputs": [],
   "source": [
    "xx=np.arange(-100,600,100)"
   ]
  },
  {
   "cell_type": "code",
   "execution_count": 141,
   "metadata": {},
   "outputs": [
    {
     "data": {
      "text/plain": [
       "array([-100,    0,  100,  200,  300,  400,  500])"
      ]
     },
     "execution_count": 141,
     "metadata": {},
     "output_type": "execute_result"
    }
   ],
   "source": [
    "xx"
   ]
  },
  {
   "cell_type": "code",
   "execution_count": 136,
   "metadata": {},
   "outputs": [],
   "source": [
    "xlab=[]"
   ]
  },
  {
   "cell_type": "code",
   "execution_count": 137,
   "metadata": {},
   "outputs": [],
   "source": [
    "for i in xx:\n",
    "    xlab+=[cvres[ \"params\" ][i]['n_components']]"
   ]
  },
  {
   "cell_type": "markdown",
   "metadata": {},
   "source": [
    "### Строим метки оси оу"
   ]
  },
  {
   "cell_type": "code",
   "execution_count": 138,
   "metadata": {},
   "outputs": [],
   "source": [
    "yy=np.array([-0.2,0.0,0.2,0.4,0.6,0.8,1.0])"
   ]
  },
  {
   "cell_type": "code",
   "execution_count": 139,
   "metadata": {},
   "outputs": [
    {
     "data": {
      "text/plain": [
       "array([-0.2,  0. ,  0.2,  0.4,  0.6,  0.8,  1. ])"
      ]
     },
     "execution_count": 139,
     "metadata": {},
     "output_type": "execute_result"
    }
   ],
   "source": [
    "yy"
   ]
  },
  {
   "cell_type": "markdown",
   "metadata": {},
   "source": [
    "# Графики нового образца"
   ]
  },
  {
   "cell_type": "code",
   "execution_count": 140,
   "metadata": {},
   "outputs": [
    {
     "data": {
      "text/plain": [
       "[68, 1, 17, 34, 51, 67, 84]"
      ]
     },
     "execution_count": 140,
     "metadata": {},
     "output_type": "execute_result"
    }
   ],
   "source": [
    "xlab"
   ]
  },
  {
   "cell_type": "code",
   "execution_count": 134,
   "metadata": {},
   "outputs": [
    {
     "data": {
      "image/png": "[encoded data removed]",
      "text/plain": [
       "<Figure size 864x504 with 1 Axes>"
      ]
     },
     "metadata": {
      "needs_background": "light"
     },
     "output_type": "display_data"
    }
   ],
   "source": [
    "mpl.rc('font',family='Times New Roman')\n",
    "fig, axs = plt.subplots(figsize=(12, 7))\n",
    "axs.plot(ylow,\".\",color=\"red\",ms=7)\n",
    "axs.set_ylabel(\"Значение ошибки\" , fontsize=25,labelpad=12)\n",
    "axs.grid(color=\"black\",linewidth=0.7)\n",
    "axs.set_xlabel(\"Количество компонент\",  fontsize=25,labelpad=15)\n",
    "axs.set_title(\"Зависимость ошибки от значения параметров для Gominy\", fontsize=28,loc=\"center\" ,pad=15)\n",
    "axs.tick_params(which='major', length=10, width=2)\n",
    "axs.set_xticklabels(xlab, fontsize=20)\n",
    "axs.set_yticklabels(yy, fontsize=20)\n",
    "axs.get_xaxis().set_tick_params(direction='in')\n",
    "axs.get_yaxis().set_tick_params(direction='in')\n",
    "plt.savefig('Зависимость ошибки от параметров для PLS1_Gominy.png', format='png', dpi=100)\n",
    "plt.show();"
   ]
  },
  {
   "cell_type": "code",
   "execution_count": 62,
   "metadata": {},
   "outputs": [
    {
     "name": "stdout",
     "output_type": "stream",
     "text": [
      "Object `fig.get_xaxis().set_tick_params` not found.\n"
     ]
    }
   ],
   "source": [
    "?fig.get_xaxis().set_tick_params"
   ]
  },
  {
   "cell_type": "markdown",
   "metadata": {},
   "source": [
    "#  Сохраним результаты ошибок на всякий случай"
   ]
  },
  {
   "cell_type": "code",
   "execution_count": 28,
   "metadata": {},
   "outputs": [],
   "source": [
    "import pickle as pkl\n",
    "from glob import glob\n",
    "from gzip import open # NB: overrides standard open()\n",
    "import os\n",
    "import math\n",
    "import functools"
   ]
  },
  {
   "cell_type": "code",
   "execution_count": 29,
   "metadata": {},
   "outputs": [],
   "source": [
    "ffile=pd.DataFrame(filew)"
   ]
  },
  {
   "cell_type": "code",
   "execution_count": 30,
   "metadata": {},
   "outputs": [],
   "source": [
    "ffile.to_pickle('C:/Users/admin/Desktop/88/mean_test_score_column_Gominy1.1.pkl.gz')"
   ]
  },
  {
   "cell_type": "code",
   "execution_count": 31,
   "metadata": {},
   "outputs": [
    {
     "data": {
      "text/html": [
       "<div>\n",
       "<style scoped>\n",
       "    .dataframe tbody tr th:only-of-type {\n",
       "        vertical-align: middle;\n",
       "    }\n",
       "\n",
       "    .dataframe tbody tr th {\n",
       "        vertical-align: top;\n",
       "    }\n",
       "\n",
       "    .dataframe thead th {\n",
       "        text-align: right;\n",
       "    }\n",
       "</style>\n",
       "<table border=\"1\" class=\"dataframe\">\n",
       "  <thead>\n",
       "    <tr style=\"text-align: right;\">\n",
       "      <th></th>\n",
       "      <th>0.130016</th>\n",
       "      <th>0.667182</th>\n",
       "      <th>0.639334</th>\n",
       "      <th>0.804065</th>\n",
       "      <th>0.707449</th>\n",
       "      <th>0.879008</th>\n",
       "      <th>0.745955</th>\n",
       "      <th>0.866107</th>\n",
       "      <th>0.813072</th>\n",
       "      <th>0.902997</th>\n",
       "      <th>...</th>\n",
       "      <th>0.843968</th>\n",
       "      <th>0.770950</th>\n",
       "      <th>0.843968</th>\n",
       "      <th>0.770952</th>\n",
       "      <th>0.843968</th>\n",
       "      <th>0.770952</th>\n",
       "      <th>0.843968</th>\n",
       "      <th>0.770952</th>\n",
       "      <th>0.843968</th>\n",
       "      <th>0.770952</th>\n",
       "    </tr>\n",
       "  </thead>\n",
       "  <tbody>\n",
       "    <tr>\n",
       "      <td>copy</td>\n",
       "      <td>True</td>\n",
       "      <td>True</td>\n",
       "      <td>True</td>\n",
       "      <td>True</td>\n",
       "      <td>True</td>\n",
       "      <td>True</td>\n",
       "      <td>True</td>\n",
       "      <td>True</td>\n",
       "      <td>True</td>\n",
       "      <td>True</td>\n",
       "      <td>...</td>\n",
       "      <td>True</td>\n",
       "      <td>True</td>\n",
       "      <td>True</td>\n",
       "      <td>True</td>\n",
       "      <td>True</td>\n",
       "      <td>True</td>\n",
       "      <td>True</td>\n",
       "      <td>True</td>\n",
       "      <td>True</td>\n",
       "      <td>True</td>\n",
       "    </tr>\n",
       "    <tr>\n",
       "      <td>max_iter</td>\n",
       "      <td>10000</td>\n",
       "      <td>10000</td>\n",
       "      <td>10000</td>\n",
       "      <td>10000</td>\n",
       "      <td>10000</td>\n",
       "      <td>10000</td>\n",
       "      <td>10000</td>\n",
       "      <td>10000</td>\n",
       "      <td>10000</td>\n",
       "      <td>10000</td>\n",
       "      <td>...</td>\n",
       "      <td>10000</td>\n",
       "      <td>10000</td>\n",
       "      <td>10000</td>\n",
       "      <td>10000</td>\n",
       "      <td>10000</td>\n",
       "      <td>10000</td>\n",
       "      <td>10000</td>\n",
       "      <td>10000</td>\n",
       "      <td>10000</td>\n",
       "      <td>10000</td>\n",
       "    </tr>\n",
       "    <tr>\n",
       "      <td>n_components</td>\n",
       "      <td>1</td>\n",
       "      <td>1</td>\n",
       "      <td>2</td>\n",
       "      <td>2</td>\n",
       "      <td>3</td>\n",
       "      <td>3</td>\n",
       "      <td>4</td>\n",
       "      <td>4</td>\n",
       "      <td>5</td>\n",
       "      <td>5</td>\n",
       "      <td>...</td>\n",
       "      <td>18</td>\n",
       "      <td>18</td>\n",
       "      <td>19</td>\n",
       "      <td>19</td>\n",
       "      <td>21</td>\n",
       "      <td>21</td>\n",
       "      <td>23</td>\n",
       "      <td>23</td>\n",
       "      <td>24</td>\n",
       "      <td>24</td>\n",
       "    </tr>\n",
       "    <tr>\n",
       "      <td>scale</td>\n",
       "      <td>True</td>\n",
       "      <td>False</td>\n",
       "      <td>True</td>\n",
       "      <td>False</td>\n",
       "      <td>True</td>\n",
       "      <td>False</td>\n",
       "      <td>True</td>\n",
       "      <td>False</td>\n",
       "      <td>True</td>\n",
       "      <td>False</td>\n",
       "      <td>...</td>\n",
       "      <td>True</td>\n",
       "      <td>False</td>\n",
       "      <td>True</td>\n",
       "      <td>False</td>\n",
       "      <td>True</td>\n",
       "      <td>False</td>\n",
       "      <td>True</td>\n",
       "      <td>False</td>\n",
       "      <td>True</td>\n",
       "      <td>False</td>\n",
       "    </tr>\n",
       "    <tr>\n",
       "      <td>tol</td>\n",
       "      <td>1e+06</td>\n",
       "      <td>1e+06</td>\n",
       "      <td>1e+06</td>\n",
       "      <td>1e+06</td>\n",
       "      <td>1e+06</td>\n",
       "      <td>1e+06</td>\n",
       "      <td>1e+06</td>\n",
       "      <td>1e+06</td>\n",
       "      <td>1e+06</td>\n",
       "      <td>1e+06</td>\n",
       "      <td>...</td>\n",
       "      <td>1e+06</td>\n",
       "      <td>1e+06</td>\n",
       "      <td>1e+06</td>\n",
       "      <td>1e+06</td>\n",
       "      <td>1e+06</td>\n",
       "      <td>1e+06</td>\n",
       "      <td>1e+06</td>\n",
       "      <td>1e+06</td>\n",
       "      <td>1e+06</td>\n",
       "      <td>1e+06</td>\n",
       "    </tr>\n",
       "  </tbody>\n",
       "</table>\n",
       "<p>5 rows × 44 columns</p>\n",
       "</div>"
      ],
      "text/plain": [
       "             0.130016 0.667182 0.639334 0.804065 0.707449 0.879008 0.745955  \\\n",
       "copy             True     True     True     True     True     True     True   \n",
       "max_iter        10000    10000    10000    10000    10000    10000    10000   \n",
       "n_components        1        1        2        2        3        3        4   \n",
       "scale            True    False     True    False     True    False     True   \n",
       "tol             1e+06    1e+06    1e+06    1e+06    1e+06    1e+06    1e+06   \n",
       "\n",
       "             0.866107 0.813072 0.902997  ... 0.843968 0.770950 0.843968  \\\n",
       "copy             True     True     True  ...     True     True     True   \n",
       "max_iter        10000    10000    10000  ...    10000    10000    10000   \n",
       "n_components        4        5        5  ...       18       18       19   \n",
       "scale           False     True    False  ...     True    False     True   \n",
       "tol             1e+06    1e+06    1e+06  ...    1e+06    1e+06    1e+06   \n",
       "\n",
       "             0.770952 0.843968 0.770952 0.843968 0.770952 0.843968 0.770952  \n",
       "copy             True     True     True     True     True     True     True  \n",
       "max_iter        10000    10000    10000    10000    10000    10000    10000  \n",
       "n_components       19       21       21       23       23       24       24  \n",
       "scale           False     True    False     True    False     True    False  \n",
       "tol             1e+06    1e+06    1e+06    1e+06    1e+06    1e+06    1e+06  \n",
       "\n",
       "[5 rows x 44 columns]"
      ]
     },
     "execution_count": 31,
     "metadata": {},
     "output_type": "execute_result"
    }
   ],
   "source": [
    "ffile"
   ]
  },
  {
   "cell_type": "markdown",
   "metadata": {},
   "source": [
    "# Предыдущий механизм построения графика"
   ]
  },
  {
   "cell_type": "code",
   "execution_count": 33,
   "metadata": {},
   "outputs": [
    {
     "data": {
      "image/png": "[encoded data removed]",
      "text/plain": [
       "<Figure size 864x504 with 1 Axes>"
      ]
     },
     "metadata": {
      "needs_background": "light"
     },
     "output_type": "display_data"
    }
   ],
   "source": [
    "import matplotlib as mpl\n",
    "mpl.rc('font',family='Times New Roman')\n",
    "plt.figure(figsize=(12,7))\n",
    "plt.plot(ylow,\".\",color=\"red\")\n",
    "plt.ylabel(\"Значение ошибки\" , fontsize=25,labelpad=12)\n",
    "plt.grid()\n",
    "plt.xlabel(\"Номер комбинации параметров\",  fontsize=25,labelpad=15)\n",
    "plt.title(\"Зависимость ошибки от значения параметров для Trp\", fontsize=28,loc=\"center\" ,pad=15)\n",
    "\n",
    "\n",
    "plt.yticks(fontsize=19)\n",
    "plt.xticks(fontsize=19)\n",
    "plt.savefig('Зависимость ошибки от параметров для PLS1_Trp2.jpeg', format='png', dpi=100)\n",
    "plt.show();"
   ]
  },
  {
   "cell_type": "code",
   "execution_count": 142,
   "metadata": {},
   "outputs": [
    {
     "data": {
      "text/plain": [
       "{'copy': True, 'max_iter': 500, 'n_components': 2, 'scale': True, 'tol': 1e-06}"
      ]
     },
     "execution_count": 142,
     "metadata": {},
     "output_type": "execute_result"
    }
   ],
   "source": [
    "pls1.get_params()"
   ]
  },
  {
   "cell_type": "markdown",
   "metadata": {},
   "source": [
    "# Оценим правильность на тестовом наборе"
   ]
  },
  {
   "cell_type": "code",
   "execution_count": 115,
   "metadata": {},
   "outputs": [
    {
     "name": "stdout",
     "output_type": "stream",
     "text": [
      "Правильность на тестовом наборе: nan\n"
     ]
    }
   ],
   "source": [
    "print(\"Правильность на тестовом наборе: {:.2f}\".format(gridCought.score(X_test, y_test)))"
   ]
  },
  {
   "cell_type": "code",
   "execution_count": 116,
   "metadata": {},
   "outputs": [
    {
     "name": "stdout",
     "output_type": "stream",
     "text": [
      "Наилучшее значение кросс-валидац. правильности: 0.32\n"
     ]
    }
   ],
   "source": [
    "print(\"Наилучшее значение кросс-валидац. правильности: {:.2f}\".format(gridCought.best_score_))"
   ]
  },
  {
   "cell_type": "code",
   "execution_count": 117,
   "metadata": {},
   "outputs": [
    {
     "name": "stdout",
     "output_type": "stream",
     "text": [
      "3.0825621365425135\n"
     ]
    }
   ],
   "source": [
    "from  sklearn.metrics import  mean_squared_error\n",
    "final_mse = mean_squared_error (y_test,  predictors) \n",
    "final_rmse  =  np.sqrt(final_mse)  \n",
    "print(final_rmse)"
   ]
  },
  {
   "cell_type": "code",
   "execution_count": 118,
   "metadata": {},
   "outputs": [
    {
     "ename": "AttributeError",
     "evalue": "'GridSearchCV' object has no attribute 'accuracy_score'",
     "output_type": "error",
     "traceback": [
      "\u001b[1;31m---------------------------------------------------------------------------\u001b[0m",
      "\u001b[1;31mAttributeError\u001b[0m                            Traceback (most recent call last)",
      "\u001b[1;32m<ipython-input-118-7e1288b37008>\u001b[0m in \u001b[0;36m<module>\u001b[1;34m\u001b[0m\n\u001b[0;32m      1\u001b[0m \u001b[1;32mfrom\u001b[0m  \u001b[0msklearn\u001b[0m\u001b[1;33m.\u001b[0m\u001b[0mmetrics\u001b[0m \u001b[1;32mimport\u001b[0m \u001b[0maccuracy_score\u001b[0m\u001b[1;33m\u001b[0m\u001b[1;33m\u001b[0m\u001b[0m\n\u001b[1;32m----> 2\u001b[1;33m \u001b[0mprint\u001b[0m\u001b[1;33m(\u001b[0m\u001b[0mgridCought\u001b[0m\u001b[1;33m.\u001b[0m\u001b[0maccuracy_score\u001b[0m\u001b[1;33m(\u001b[0m\u001b[0my_test\u001b[0m\u001b[1;33m,\u001b[0m  \u001b[0mpredictors\u001b[0m\u001b[1;33m)\u001b[0m\u001b[1;33m)\u001b[0m\u001b[1;33m\u001b[0m\u001b[1;33m\u001b[0m\u001b[0m\n\u001b[0m",
      "\u001b[1;31mAttributeError\u001b[0m: 'GridSearchCV' object has no attribute 'accuracy_score'"
     ]
    }
   ],
   "source": [
    "from  sklearn.metrics import accuracy_score\n",
    "print(gridCought.accuracy_score(y_test,  predictors))"
   ]
  },
  {
   "cell_type": "code",
   "execution_count": 119,
   "metadata": {},
   "outputs": [
    {
     "name": "stdout",
     "output_type": "stream",
     "text": [
      "[[42.98438284]]\n",
      "31    39.901821\n",
      "Name: Gominy, dtype: float64\n"
     ]
    }
   ],
   "source": [
    "print(predictors)\n",
    "print(y_test)"
   ]
  },
  {
   "cell_type": "markdown",
   "metadata": {},
   "source": [
    "# Построим график для визуализации результатов"
   ]
  },
  {
   "cell_type": "code",
   "execution_count": 149,
   "metadata": {},
   "outputs": [
    {
     "data": {
      "image/png": "[encoded data removed]",
      "text/plain": [
       "<Figure size 432x288 with 1 Axes>"
      ]
     },
     "metadata": {
      "needs_background": "light"
     },
     "output_type": "display_data"
    }
   ],
   "source": [
    "b=[]\n",
    "for  i in range(0,5):\n",
    "    b+=[i]\n",
    "plt.plot(y_test,predictors, \".\",color=\"red\",label=\"предсказанные значения\")\n",
    "plt.plot(y_test,y_test,color=\"blue\", label=\"тестовые значения\")\n",
    "plt.legend()\n",
    "plt.grid(True)\n",
    "plt.title(\"График для столбца Gominy\")\n",
    "plt.show();"
   ]
  },
  {
   "cell_type": "code",
   "execution_count": 153,
   "metadata": {},
   "outputs": [],
   "source": [
    "area3x=np.arange(1,4.5,0.5)"
   ]
  },
  {
   "cell_type": "code",
   "execution_count": 154,
   "metadata": {},
   "outputs": [],
   "source": [
    "area3y=np.arange(0,5,0.5)"
   ]
  },
  {
   "cell_type": "code",
   "execution_count": 156,
   "metadata": {},
   "outputs": [
    {
     "data": {
      "image/png": "[encoded data removed]",
      "text/plain": [
       "<Figure size 1008x648 with 1 Axes>"
      ]
     },
     "metadata": {
      "needs_background": "light"
     },
     "output_type": "display_data"
    }
   ],
   "source": [
    "mpl.rc('font',family='Times New Roman')\n",
    "plt.figure(figsize=(14,9))\n",
    "plt.plot(y_test,predictors, \".\",color=\"red\",ms=50)\n",
    "plt.plot(y_test,y_test,color=\"blue\",lw=5)\n",
    "\n",
    "plt.ylabel(\"Предсказанные значения\" , fontsize=30,labelpad=12)\n",
    "plt.grid()\n",
    "plt.xlabel(\"Истинные значения\",  fontsize=30,labelpad=15)\n",
    "plt.title(\"График predicted-reference Trp\", fontsize=35,loc=\"center\" ,pad=15)\n",
    "\n",
    "\n",
    "plt.yticks(area3y,fontsize=24)\n",
    "plt.xticks(area3x,fontsize=24)\n",
    "plt.savefig('График predicted-reference Trp.jpeg', format='png', dpi=1000)\n",
    "plt.show();"
   ]
  },
  {
   "cell_type": "code",
   "execution_count": 105,
   "metadata": {},
   "outputs": [],
   "source": [
    "?plt.plot"
   ]
  },
  {
   "cell_type": "markdown",
   "metadata": {},
   "source": [
    "# Возьмём матрицу нагрузок"
   ]
  },
  {
   "cell_type": "code",
   "execution_count": 170,
   "metadata": {},
   "outputs": [
    {
     "ename": "TypeError",
     "evalue": "getattr expected at least 2 arguments, got 1",
     "output_type": "error",
     "traceback": [
      "\u001b[1;31m---------------------------------------------------------------------------\u001b[0m",
      "\u001b[1;31mTypeError\u001b[0m                                 Traceback (most recent call last)",
      "\u001b[1;32m<ipython-input-170-b5ec4386c678>\u001b[0m in \u001b[0;36m<module>\u001b[1;34m\u001b[0m\n\u001b[1;32m----> 1\u001b[1;33m \u001b[0mgetattr\u001b[0m \u001b[1;33m(\u001b[0m\u001b[0mgridCought\u001b[0m\u001b[1;33m)\u001b[0m\u001b[1;33m\u001b[0m\u001b[1;33m\u001b[0m\u001b[0m\n\u001b[0m",
      "\u001b[1;31mTypeError\u001b[0m: getattr expected at least 2 arguments, got 1"
     ]
    }
   ],
   "source": []
  },
  {
   "cell_type": "code",
   "execution_count": 172,
   "metadata": {},
   "outputs": [],
   "source": [
    "?gridCought"
   ]
  },
  {
   "cell_type": "code",
   "execution_count": 171,
   "metadata": {},
   "outputs": [
    {
     "ename": "AttributeError",
     "evalue": "'GridSearchCV' object has no attribute 'coef_'",
     "output_type": "error",
     "traceback": [
      "\u001b[1;31m---------------------------------------------------------------------------\u001b[0m",
      "\u001b[1;31mAttributeError\u001b[0m                            Traceback (most recent call last)",
      "\u001b[1;32m<ipython-input-171-2831417a4fa9>\u001b[0m in \u001b[0;36m<module>\u001b[1;34m\u001b[0m\n\u001b[1;32m----> 1\u001b[1;33m \u001b[0mgridCought\u001b[0m\u001b[1;33m.\u001b[0m\u001b[0mcoef_\u001b[0m\u001b[1;33m\u001b[0m\u001b[1;33m\u001b[0m\u001b[0m\n\u001b[0m",
      "\u001b[1;31mAttributeError\u001b[0m: 'GridSearchCV' object has no attribute 'coef_'"
     ]
    }
   ],
   "source": [
    "gridCought.coef_"
   ]
  },
  {
   "cell_type": "markdown",
   "metadata": {},
   "source": []
  }
 ],
 "metadata": {
  "kernelspec": {
   "display_name": "Python 3",
   "language": "python",
   "name": "python3"
  },
  "language_info": {
   "codemirror_mode": {
    "name": "ipython",
    "version": 3
   },
   "file_extension": ".py",
   "mimetype": "text/x-python",
   "name": "python",
   "nbconvert_exporter": "python",
   "pygments_lexer": "ipython3",
   "version": "3.7.4"
  }
 },
 "nbformat": 4,
 "nbformat_minor": 2
}
