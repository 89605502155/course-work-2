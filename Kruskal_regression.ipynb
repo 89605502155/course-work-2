{
 "cells": [
  {
   "cell_type": "code",
   "execution_count": 34,
   "metadata": {},
   "outputs": [
    {
     "name": "stdout",
     "output_type": "stream",
     "text": [
      "<class 'numpy.ndarray'>\n",
      "(30, 3)\n",
      "\n",
      "Converged in 1201 iterations\n",
      "\n",
      "Converged in 626 iterations\n",
      "\n",
      "Converged in 239 iterations\n",
      "\n",
      "Converged in 2111 iterations\n",
      "\n",
      "Converged in 1708 iterations\n",
      "\n",
      "Converged in 1429 iterations\n",
      "{'n_iter_max': 10000, 'reg_W': 4, 'tol': 1e-07, 'weight_rank': 1}\n"
     ]
    }
   ],
   "source": [
    "from gzip import open # NB: overrides standard open()\n",
    "import pickle as pkl\n",
    "import tensorly as tl\n",
    "from tensorly.base import tensor_to_vec,  partial_tensor_to_vec\n",
    "import numpy as np\n",
    "import pandas as pd\n",
    "import warnings \n",
    "import matplotlib.pyplot as plt\n",
    "from sklearn.model_selection import cross_val_score\n",
    "from sklearn.model_selection import cross_validate\n",
    "from sklearn.model_selection import train_test_split\n",
    "\n",
    "warnings.simplefilter('ignore') # отключим предупреждения Anaconda\n",
    "Xdata_numpy = pkl.load(open('C:/Users/admin/Desktop/88/X.pkl.gz', 'rb'))\n",
    "Ydata = pkl.load(open('C:/Users/admin/Desktop/88/y.pkl.gz', 'rb'))\n",
    "\n",
    "print(type(Xdata_numpy[\"X\"]))\n",
    "\n",
    "#делим набор на обучающий и тестовый\n",
    "X_train, X_test, y_train, y_test = train_test_split(\n",
    "     Xdata_numpy[\"X\"], Ydata, test_size=0.1428 \n",
    ")\n",
    "\n",
    "print( y_train.shape)\n",
    "# прописываем класс регрессии\n",
    "from sklearn.base import BaseEstimator\n",
    "from sklearn.metrics import r2_score\n",
    "from tensorly.regression.kruskal_regression import KruskalRegressor\n",
    "\n",
    "class WrappedKruskalRegressor(BaseEstimator):\n",
    "\tdef __init__(self, weight_rank = 1, tol = 1e-6, reg_W = 1, n_iter_max = 100):\n",
    "\t\tself.weight_rank = weight_rank\n",
    "\t\tself.tol = tol\n",
    "\t\tself.reg_W = reg_W\n",
    "\t\tself.n_iter_max = n_iter_max\n",
    "\t\n",
    "\tdef fit(self, X, y = None):\n",
    "\t\tself._model = KruskalRegressor(self.weight_rank, self.tol, self.reg_W, self.n_iter_max)\n",
    "\t\tself._model.fit(X, y)\n",
    "\t\tif self._model.n_iterations_ == self.n_iter_max:\n",
    "\t\t\traise Exception('{} did not converge'.format(self))\n",
    "\t\treturn self\n",
    "\t\n",
    "\tdef predict(self, X):\n",
    "\t\treturn self._model.predict(X)\n",
    "\t\n",
    "\tdef score(self, X, y):\n",
    "\t\treturn r2_score(y, self.predict(X))\n",
    "\n",
    "\n",
    "#начинаем применять\n",
    "\n",
    "from sklearn.model_selection import GridSearchCV\n",
    "regressioModel=WrappedKruskalRegressor()\n",
    "parametrsNames={'n_iter_max': [10000],\n",
    "                'reg_W': [4],\n",
    "                'tol': [1e-07],\n",
    "                'weight_rank': [1]\n",
    "               }\n",
    "\n",
    "gridCought=GridSearchCV(regressioModel, parametrsNames, cv=5)\n",
    "gridCought.fit(X_train,y_train.iloc[:,0])\n",
    "predictors=gridCought.predict(X_test)\n",
    "\n",
    "print(gridCought.best_params_)\n",
    "\n"
   ]
  },
  {
   "cell_type": "code",
   "execution_count": 35,
   "metadata": {},
   "outputs": [
    {
     "name": "stdout",
     "output_type": "stream",
     "text": [
      "[38.55745196 50.99921082 43.95510836 37.97775635 26.60611008]\n"
     ]
    }
   ],
   "source": [
    "print(predictors)"
   ]
  },
  {
   "cell_type": "code",
   "execution_count": 36,
   "metadata": {},
   "outputs": [
    {
     "name": "stdout",
     "output_type": "stream",
     "text": [
      "34    35.695793\n",
      "7     44.049334\n",
      "12    44.546831\n",
      "26    36.909160\n",
      "28    21.411182\n",
      "Name: Gominy, dtype: float64\n"
     ]
    }
   ],
   "source": [
    "print(y_test.iloc[:,0])"
   ]
  },
  {
   "cell_type": "code",
   "execution_count": 37,
   "metadata": {},
   "outputs": [
    {
     "name": "stdout",
     "output_type": "stream",
     "text": [
      "Правильность на тестовом наборе: 0.76\n"
     ]
    }
   ],
   "source": [
    "\n",
    "print(\"Правильность на тестовом наборе: {:.2f}\".format(gridCought.score(X_test, y_test.iloc[:,0])))"
   ]
  },
  {
   "cell_type": "code",
   "execution_count": 38,
   "metadata": {},
   "outputs": [
    {
     "name": "stdout",
     "output_type": "stream",
     "text": [
      "4.122358342503212\n"
     ]
    }
   ],
   "source": [
    "from  sklearn.metrics import  mean_squared_error #среднеквадратичная ошибка\n",
    "final_mse = mean_squared_error (y_test.iloc[:,0],  predictors) \n",
    "final_rmse  =  np.sqrt(final_mse)  \n",
    "print(final_rmse)"
   ]
  },
  {
   "cell_type": "code",
   "execution_count": 39,
   "metadata": {},
   "outputs": [
    {
     "data": {
      "image/png": "[encoded data removed]",
      "text/plain": [
       "<Figure size 432x288 with 1 Axes>"
      ]
     },
     "metadata": {
      "needs_background": "light"
     },
     "output_type": "display_data"
    }
   ],
   "source": [
    "b=[]\n",
    "for  i in range(0,5):\n",
    "    b+=[i]\n",
    "plt.plot(b,predictors,color=\"red\",label=\"предсказанные значения\")\n",
    "plt.plot(b,y_test.iloc[:,0],color=\"blue\", label=\"тестовые значения\")\n",
    "plt.legend()\n",
    "plt.grid(True)\n",
    "plt.title(\"График для столбца Gominy\")\n",
    "plt.show();"
   ]
  },
  {
   "cell_type": "code",
   "execution_count": null,
   "metadata": {},
   "outputs": [],
   "source": []
  }
 ],
 "metadata": {
  "kernelspec": {
   "display_name": "Python 3",
   "language": "python",
   "name": "python3"
  },
  "language_info": {
   "codemirror_mode": {
    "name": "ipython",
    "version": 3
   },
   "file_extension": ".py",
   "mimetype": "text/x-python",
   "name": "python",
   "nbconvert_exporter": "python",
   "pygments_lexer": "ipython3",
   "version": "3.7.4"
  }
 },
 "nbformat": 4,
 "nbformat_minor": 2
}
