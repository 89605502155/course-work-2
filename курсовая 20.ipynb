{
 "cells": [
  {
   "cell_type": "code",
   "execution_count": 74,
   "metadata": {},
   "outputs": [
    {
     "name": "stdout",
     "output_type": "stream",
     "text": [
      "\n",
      "['01.txt', '02.txt', '03.txt', '04.txt', '05.txt', '06.txt', '07.txt', '08.txt', '09.txt', '10.txt', '11.txt', '12.txt', '13.txt', '14.txt', '15.txt', '16.txt', '17.txt', '18.txt', '19.txt', '20.txt', '21.txt', '22.txt', '23.txt', '24.txt', '25.txt', '26.txt', '27.txt', '28.txt', '29.txt', '30.txt', '31.txt', '32.txt', '33.txt', '34.txt', '35.txt']\n"
     ]
    },
    {
     "data": {
      "image/png": "[encoded data removed]",
      "text/plain": [
       "<Figure size 432x288 with 1 Axes>"
      ]
     },
     "metadata": {
      "needs_background": "light"
     },
     "output_type": "display_data"
    },
    {
     "name": "stdout",
     "output_type": "stream",
     "text": [
      "0.08784441677666652\n",
      "                  230               235               240               245  \\\n",
      "240 1.061636327830110 0.000000000000000 0.000000000000000 0.000000000000000   \n",
      "242 0.905183090581729 0.000000000000000 0.000000000000000 0.000000000000000   \n",
      "244 0.000000000000000 0.000000000000000 0.000000000000000 0.000000000000000   \n",
      "246 0.000000000000000 1.237236902681990 0.000000000000000 0.000000000000000   \n",
      "248 0.000000000000000 0.955519988390079 0.000000000000000 0.000000000000000   \n",
      "..                ...               ...               ...               ...   \n",
      "642 0.000000000000000 0.000000000000000 0.000000000000000 0.000000000000000   \n",
      "644 0.000000000000000 0.000000000000000 0.000000000000000 0.000000000000000   \n",
      "646 0.000000000000000 0.000000000000000 0.000000000000000 0.000000000000000   \n",
      "648 0.000000000000000 0.000000000000000 0.000000000000000 0.000000000000000   \n",
      "650 0.000000000000000 0.000000000000000 0.000000000000000 0.000000000000000   \n",
      "\n",
      "                  250               255               260               265  \\\n",
      "240 0.000000000000000 0.000000000000000 0.000000000000000 0.000000000000000   \n",
      "242 0.000000000000000 0.000000000000000 0.000000000000000 0.000000000000000   \n",
      "244 0.000000000000000 0.000000000000000 0.000000000000000 0.000000000000000   \n",
      "246 0.000000000000000 0.000000000000000 0.000000000000000 0.000000000000000   \n",
      "248 0.000000000000000 0.000000000000000 0.000000000000000 0.000000000000000   \n",
      "..                ...               ...               ...               ...   \n",
      "642 0.000000000000000 0.000000000000000 0.000000000000000 0.000000000000000   \n",
      "644 0.000000000000000 0.000000000000000 0.000000000000000 0.000000000000000   \n",
      "646 0.000000000000000 0.000000000000000 0.000000000000000 0.000000000000000   \n",
      "648 0.000000000000000 0.000000000000000 0.000000000000000 0.000000000000000   \n",
      "650 0.000000000000000 0.000000000000000 0.000000000000000 0.000000000000000   \n",
      "\n",
      "                  270               275  ...               455  \\\n",
      "240 0.000000000000000 0.000000000000000  ... 0.000000000000000   \n",
      "242 0.000000000000000 0.000000000000000  ... 0.000000000000000   \n",
      "244 0.000000000000000 0.000000000000000  ... 0.000000000000000   \n",
      "246 0.000000000000000 0.000000000000000  ... 0.000000000000000   \n",
      "248 0.000000000000000 0.000000000000000  ... 0.000000000000000   \n",
      "..                ...               ...  ...               ...   \n",
      "642 0.000000000000000 0.000000000000000  ... 0.000000000000000   \n",
      "644 0.000000000000000 0.000000000000000  ... 0.000000000000000   \n",
      "646 0.000000000000000 0.000000000000000  ... 0.000000000000000   \n",
      "648 0.000000000000000 0.000000000000000  ... 0.000000000000000   \n",
      "650 0.000000000000000 0.000000000000000  ... 0.000000000000000   \n",
      "\n",
      "                  460               465               470               475  \\\n",
      "240 0.000000000000000 0.000000000000000 0.000000000000000 0.000000000000000   \n",
      "242 0.000000000000000 0.000000000000000 0.000000000000000 0.000000000000000   \n",
      "244 0.000000000000000 0.000000000000000 0.000000000000000 0.000000000000000   \n",
      "246 0.000000000000000 0.000000000000000 0.000000000000000 0.000000000000000   \n",
      "248 0.000000000000000 0.000000000000000 0.000000000000000 0.000000000000000   \n",
      "..                ...               ...               ...               ...   \n",
      "642 0.000000000000000 0.000000000000000 0.000000000000000 0.000000000000000   \n",
      "644 0.000000000000000 0.000000000000000 0.000000000000000 0.000000000000000   \n",
      "646 0.000000000000000 0.000000000000000 0.000000000000000 0.000000000000000   \n",
      "648 0.000000000000000 0.000000000000000 0.000000000000000 0.000000000000000   \n",
      "650 0.000000000000000 0.000000000000000 0.000000000000000 0.000000000000000   \n",
      "\n",
      "                  480               485               490               495  \\\n",
      "240 0.000000000000000 0.000000000000000 0.000000000000000 0.000000000000000   \n",
      "242 0.000000000000000 0.000000000000000 0.000000000000000 0.000000000000000   \n",
      "244 0.000000000000000 0.000000000000000 0.000000000000000 0.000000000000000   \n",
      "246 0.000000000000000 0.000000000000000 0.000000000000000 0.000000000000000   \n",
      "248 0.000000000000000 0.000000000000000 0.000000000000000 0.000000000000000   \n",
      "..                ...               ...               ...               ...   \n",
      "642 0.000000000000000 0.000000000000000 0.000000000000000 0.000000000000000   \n",
      "644 0.000000000000000 0.000000000000000 0.000000000000000 0.000000000000000   \n",
      "646 0.000000000000000 0.000000000000000 0.000000000000000 0.000000000000000   \n",
      "648 0.000000000000000 0.000000000000000 0.000000000000000 0.000000000000000   \n",
      "650 0.000000000000000 0.000000000000000 0.000000000000000 0.000000000000000   \n",
      "\n",
      "                  500  \n",
      "240 0.000000000000000  \n",
      "242 0.000000000000000  \n",
      "244 0.000000000000000  \n",
      "246 0.000000000000000  \n",
      "248 0.000000000000000  \n",
      "..                ...  \n",
      "642 0.000000000000000  \n",
      "644 0.000000000000000  \n",
      "646 0.007273182783366  \n",
      "648 0.008786092302726  \n",
      "650 0.000000000000000  \n",
      "\n",
      "[206 rows x 55 columns]\n",
      "\n",
      "(35, 206, 55)\n"
     ]
    }
   ],
   "source": [
    "import numpy as np\n",
    "import pandas as pd\n",
    "import tensorly as tl\n",
    "import os\n",
    "import matplotlib.pyplot as plt\n",
    "y =pd.read_csv('C:/Users/admin/Desktop/курсовая 2.0/y.txt', sep= '\\t')\n",
    "y =  y.fillna(0) #заменяю Nan на 0\n",
    "y = y.replace(',','.', regex=True) #меняю ',' на '.'\n",
    "y = y.astype(float) #конвертирую из string в float\n",
    "y=y.assign(Gominy=y[[\"Pahokee peat\",\"Nordic aquatic\",\"Suwanee river\",\"Elliot soil\",\"Disser\"]].sum(1)) #складываю столбцы\n",
    "y=y.drop([\"Pahokee peat\",\"Nordic aquatic\",\"Suwanee river\",\"Elliot soil\",\"Disser\"], axis=1) #удаляю ненужные столбцы\n",
    "y = y[['Gominy'] + y.columns[:-1].tolist()] #меняю порядок столбцов так, чтобы первым был Gominy\n",
    "pd.set_option('display.float_format', '{:.15f}'.format) #контроль длинны вывода float\n",
    "print()\n",
    "fds = sorted(os.listdir('C:/Users/admin/Desktop/курсовая 2.0/X — копия/')) #формируем список файлов x для считывания в цикле\n",
    "print(fds)\n",
    "k = 0\n",
    "t=np.zeros([35,206,55]) #инициализирую массив нулей\n",
    "while k < 35:\n",
    "    x = pd.read_csv('C:/Users/admin/Desktop/курсовая 2.0/X — копия/'+fds[k],sep='\\t')\n",
    "    x = x.fillna(0)\n",
    "    x = x.replace(',','.', regex=True) #меняю ',' на '.'\n",
    "    x = x.astype(float) #конвертирую из string в float\n",
    "    da=np.mean(x)\n",
    "    gh=np.copy(x)\n",
    "    colums=list(x.columns.values) #установил имена колонок\n",
    "    rows=list(x.index.values)  #установил имена строчек\n",
    "    x[x<=(da*1.1)]=0\n",
    "    \n",
    "    t[k]+=x\n",
    "    y1=y.iloc[k:k+1,:].values #делю у на строки\n",
    "    k = k + 1\n",
    "plt.imshow(x, aspect=\"auto\")\n",
    "plt.show()   \n",
    "dak=np.mean(t)\n",
    "\n",
    "print(dak)\n",
    "print(x)\n",
    "print()\n",
    "print(np.shape(tt))\n",
    "   "
   ]
  },
  {
   "cell_type": "code",
   "execution_count": null,
   "metadata": {},
   "outputs": [],
   "source": [
    "np.empty"
   ]
  },
  {
   "cell_type": "code",
   "execution_count": null,
   "metadata": {},
   "outputs": [],
   "source": []
  }
 ],
 "metadata": {
  "kernelspec": {
   "display_name": "Python 3",
   "language": "python",
   "name": "python3"
  },
  "language_info": {
   "codemirror_mode": {
    "name": "ipython",
    "version": 3
   },
   "file_extension": ".py",
   "mimetype": "text/x-python",
   "name": "python",
   "nbconvert_exporter": "python",
   "pygments_lexer": "ipython3",
   "version": "3.7.4"
  }
 },
 "nbformat": 4,
 "nbformat_minor": 2
}
