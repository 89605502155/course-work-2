{
 "cells": [
  {
   "cell_type": "code",
   "execution_count": 9,
   "metadata": {},
   "outputs": [
    {
     "name": "stdout",
     "output_type": "stream",
     "text": [
      "\n",
      "['01.txt', '02.txt', '03.txt', '04.txt', '05.txt', '06.txt', '07.txt', '08.txt', '09.txt', '10.txt', '11.txt', '12.txt', '13.txt', '14.txt', '15.txt', '16.txt', '17.txt', '18.txt', '19.txt', '20.txt', '21.txt', '22.txt', '23.txt', '24.txt', '25.txt', '26.txt', '27.txt', '28.txt', '29.txt', '30.txt', '31.txt', '32.txt', '33.txt', '34.txt', '35.txt']\n"
     ]
    },
    {
     "ename": "NameError",
     "evalue": "name 'X' is not defined",
     "output_type": "error",
     "traceback": [
      "\u001b[1;31m---------------------------------------------------------------------------\u001b[0m",
      "\u001b[1;31mNameError\u001b[0m                                 Traceback (most recent call last)",
      "\u001b[1;32m<ipython-input-9-2adb6f79baf1>\u001b[0m in \u001b[0;36m<module>\u001b[1;34m\u001b[0m\n\u001b[0;32m     38\u001b[0m \u001b[1;33m\u001b[0m\u001b[0m\n\u001b[0;32m     39\u001b[0m \u001b[1;33m\u001b[0m\u001b[0m\n\u001b[1;32m---> 40\u001b[1;33m \u001b[0mprint\u001b[0m\u001b[1;33m(\u001b[0m\u001b[0mX\u001b[0m\u001b[1;33m)\u001b[0m\u001b[1;33m\u001b[0m\u001b[1;33m\u001b[0m\u001b[0m\n\u001b[0m\u001b[0;32m     41\u001b[0m \u001b[0mprint\u001b[0m\u001b[1;33m(\u001b[0m\u001b[1;33m)\u001b[0m\u001b[1;33m\u001b[0m\u001b[1;33m\u001b[0m\u001b[0m\n\u001b[0;32m     42\u001b[0m \u001b[0mprint\u001b[0m\u001b[1;33m(\u001b[0m\u001b[0mt\u001b[0m\u001b[1;33m)\u001b[0m\u001b[1;33m\u001b[0m\u001b[1;33m\u001b[0m\u001b[0m\n",
      "\u001b[1;31mNameError\u001b[0m: name 'X' is not defined"
     ]
    }
   ],
   "source": [
    "from glob import glob\n",
    "from gzip import open\n",
    "import pickle as pkl\n",
    "import numpy as np\n",
    "import pandas as pd\n",
    "import tensorly as tl\n",
    "import os\n",
    "import matplotlib.pyplot as plt\n",
    "y =pd.read_csv('C:/Users/admin/Desktop/курсовая 2.0/y.txt', sep= '\\t')\n",
    "y =  y.fillna(0) #заменяю Nan на 0\n",
    "y = y.replace(',','.', regex=True) #меняю ',' на '.'\n",
    "y = y.astype(float) #конвертирую из string в float\n",
    "y=y.assign(Gominy=y[[\"Pahokee peat\",\"Nordic aquatic\",\"Suwanee river\",\"Elliot soil\",\"Disser\"]].sum(1)) #складываю столбцы\n",
    "y=y.drop([\"Pahokee peat\",\"Nordic aquatic\",\"Suwanee river\",\"Elliot soil\",\"Disser\"], axis=1) #удаляю ненужные столбцы\n",
    "y = y[['Gominy'] + y.columns[:-1].tolist()] #меняю порядок столбцов так, чтобы первым был Gominy\n",
    "y.to_pickle('C:/Users/admin/Desktop/курсовая 2.0/y.pkl.gz') #сохраняем в pickle формате, удобном для регрессии\n",
    "pd.set_option('display.float_format', '{:.15f}'.format) #контроль длинны вывода float\n",
    "print()\n",
    "fds = sorted(os.listdir('C:/Users/admin/Desktop/курсовая 2.0/X — копия/')) #формируем список файлов x для считывания в цикле\n",
    "print(fds)\n",
    "k = 0\n",
    "t=np.zeros([35,206,55]) #инициализирую массив нулей\n",
    "while k < 35:\n",
    "    x = pd.read_csv('C:/Users/admin/Desktop/курсовая 2.0/X — копия/'+fds[k],sep='\\t')\n",
    "    x = x.fillna(0)\n",
    "    x = x.replace(',','.', regex=True) #меняю ',' на '.'\n",
    "    x = x.astype(float) #конвертирую из string в float\n",
    "    colums=list(x.columns.values) #установил имена колонок\n",
    "    rows=list(x.index.values)  #установил имена строчек\n",
    "    ll=x.columns.values\n",
    "    lrl=x.index.values\n",
    "    gh=x.copy()    \n",
    "    t[k]+=x #собираю тензор\n",
    "    y1=y.iloc[k:k+1,:].values #делю у на строки\n",
    "    k = k + 1\n",
    "\n",
    "\n",
    "\n",
    "\n",
    "print(X)\n",
    "print()\n",
    "print(t)\n",
    "print()\n",
    "   "
   ]
  },
  {
   "cell_type": "code",
   "execution_count": 2,
   "metadata": {},
   "outputs": [
    {
     "data": {
      "text/plain": [
       "<function numpy.empty>"
      ]
     },
     "execution_count": 2,
     "metadata": {},
     "output_type": "execute_result"
    }
   ],
   "source": []
  },
  {
   "cell_type": "code",
   "execution_count": null,
   "metadata": {},
   "outputs": [],
   "source": []
  }
 ],
 "metadata": {
  "kernelspec": {
   "display_name": "Python 3",
   "language": "python",
   "name": "python3"
  },
  "language_info": {
   "codemirror_mode": {
    "name": "ipython",
    "version": 3
   },
   "file_extension": ".py",
   "mimetype": "text/x-python",
   "name": "python",
   "nbconvert_exporter": "python",
   "pygments_lexer": "ipython3",
   "version": "3.7.4"
  }
 },
 "nbformat": 4,
 "nbformat_minor": 2
}
