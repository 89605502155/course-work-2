{
 "cells": [
  {
   "cell_type": "code",
   "execution_count": 67,
   "metadata": {},
   "outputs": [
    {
     "name": "stdout",
     "output_type": "stream",
     "text": [
      "               Gominy               Tyr               Trp\n",
      "0  45.446791159494630 3.718644731004520 1.658958839543630\n",
      "1  53.715968017732450 1.519253456158500 2.908843156540700\n",
      "2  39.837588219318036 3.514325758417340 1.093679651809260\n",
      "3  31.410666371509429 4.107808169160440 2.413379596596180\n",
      "4  42.444628564694149 2.397801748277350 2.822168138776240\n",
      "5  36.479939106612335 1.771191863933510 3.826667882859640\n",
      "6  36.112552777464927 2.080762828858240 0.700693670286065\n",
      "7  44.049333733054091 3.959066433208400 3.163624883413180\n",
      "8  35.354605452902639 1.172332780942920 2.195268300827590\n",
      "9  47.441840360499903 3.046103871452420 4.011520976275540\n",
      "10 47.577334115601005 3.345482432441450 1.008305133569850\n",
      "11 38.622682869301272 2.530966776772400 3.533569719442830\n",
      "12 44.546830928591774 0.838762796009957 4.215091345623870\n",
      "13 35.724430846023779 4.261242572949930 4.150725988529820\n",
      "14 54.640664074782890 2.577718588091170 3.679024812424490\n",
      "15 49.409746032154970 1.336313832168730 0.847237726831476\n",
      "16 26.197474703884549 2.164723259812620 4.313643099440790\n",
      "17 36.226227945994033 3.546827672348760 1.899124718055000\n",
      "18 43.272737548766443 1.845509410469930 1.326549981745690\n",
      "19 34.070473305375486 3.942425592927200 1.985984117358120\n",
      "20 34.193087594503808 1.458560574833040 3.409580904973800\n",
      "21 33.342049370679419 3.152387067060250 3.504425030717230\n",
      "22 41.039800504994169 3.836094425766660 3.841495527170730\n",
      "23 47.996256608170071 2.959376773406150 3.267009723848400\n",
      "24 42.147702306854967 1.660952331198910 0.743222098589675\n",
      "25 34.242464210625208 0.978958901558404 2.295310132862400\n",
      "26 36.909159955701696 0.675007602574104 2.593348216165660\n",
      "27 28.183879153616733 3.254376354169970 1.214368593421700\n",
      "28 21.411182093221161 1.975625370812070 1.761737813366510\n",
      "29 46.322119443890216 4.337124205244310 1.445909489453440\n",
      "30 44.399736515725266 0.917102532444655 1.507299385698780\n",
      "31 39.901820698460227 2.255846517592930 2.737939727974920\n",
      "32 56.046636891790769 2.683477328541420 2.043408433607380\n",
      "33 35.398814854824082 2.874863655323030 2.494299351728320\n",
      "34 35.695793477525662 1.099916267133920 3.073375266436150\n",
      "['01.txt', '02.txt', '03.txt', '04.txt', '05.txt', '06.txt', '07.txt', '08.txt', '09.txt', '10.txt', '11.txt', '12.txt', '13.txt', '14.txt', '15.txt', '16.txt', '17.txt', '18.txt', '19.txt', '20.txt', '21.txt', '22.txt', '23.txt', '24.txt', '25.txt', '26.txt', '27.txt', '28.txt', '29.txt', '30.txt', '31.txt', '32.txt', '33.txt', '34.txt', '35.txt']\n"
     ]
    },
    {
     "ename": "ValueError",
     "evalue": "The truth value of a Series is ambiguous. Use a.empty, a.bool(), a.item(), a.any() or a.all().",
     "output_type": "error",
     "traceback": [
      "\u001b[1;31m---------------------------------------------------------------------------\u001b[0m",
      "\u001b[1;31mValueError\u001b[0m                                Traceback (most recent call last)",
      "\u001b[1;32m<ipython-input-67-f4fa4245b94b>\u001b[0m in \u001b[0;36m<module>\u001b[1;34m\u001b[0m\n\u001b[0;32m     28\u001b[0m     \u001b[1;32mfor\u001b[0m \u001b[0mi\u001b[0m \u001b[1;32min\u001b[0m \u001b[0mcolums\u001b[0m\u001b[1;33m:\u001b[0m\u001b[1;33m\u001b[0m\u001b[1;33m\u001b[0m\u001b[0m\n\u001b[0;32m     29\u001b[0m         \u001b[1;32mfor\u001b[0m \u001b[0mj\u001b[0m \u001b[1;32min\u001b[0m \u001b[0mrows\u001b[0m\u001b[1;33m:\u001b[0m\u001b[1;33m\u001b[0m\u001b[1;33m\u001b[0m\u001b[0m\n\u001b[1;32m---> 30\u001b[1;33m              \u001b[1;32mif\u001b[0m \u001b[1;33m(\u001b[0m\u001b[0mx\u001b[0m\u001b[1;33m.\u001b[0m\u001b[0mloc\u001b[0m\u001b[1;33m[\u001b[0m\u001b[0mj\u001b[0m\u001b[1;33m,\u001b[0m\u001b[0mi\u001b[0m\u001b[1;33m]\u001b[0m\u001b[1;33m<=\u001b[0m\u001b[0mda\u001b[0m\u001b[1;33m)\u001b[0m\u001b[1;33m!=\u001b[0m\u001b[1;32mTrue\u001b[0m\u001b[1;33m:\u001b[0m \u001b[1;31m# Если элемент с индексом i\u001b[0m\u001b[1;33m\u001b[0m\u001b[1;33m\u001b[0m\u001b[0m\n\u001b[0m\u001b[0;32m     31\u001b[0m                 \u001b[0mx\u001b[0m\u001b[1;33m.\u001b[0m\u001b[0mloc\u001b[0m\u001b[1;33m[\u001b[0m\u001b[0mj\u001b[0m\u001b[1;33m,\u001b[0m\u001b[0mi\u001b[0m\u001b[1;33m]\u001b[0m \u001b[1;33m=\u001b[0m \u001b[1;36m0\u001b[0m \u001b[1;31m# то он заменяется на 1.\u001b[0m\u001b[1;33m\u001b[0m\u001b[1;33m\u001b[0m\u001b[0m\n\u001b[0;32m     32\u001b[0m \u001b[1;33m\u001b[0m\u001b[0m\n",
      "\u001b[1;32mC:\\ProgramData\\Anaconda3\\lib\\site-packages\\pandas\\core\\generic.py\u001b[0m in \u001b[0;36m__nonzero__\u001b[1;34m(self)\u001b[0m\n\u001b[0;32m   1553\u001b[0m             \u001b[1;34m\"The truth value of a {0} is ambiguous. \"\u001b[0m\u001b[1;33m\u001b[0m\u001b[1;33m\u001b[0m\u001b[0m\n\u001b[0;32m   1554\u001b[0m             \"Use a.empty, a.bool(), a.item(), a.any() or a.all().\".format(\n\u001b[1;32m-> 1555\u001b[1;33m                 \u001b[0mself\u001b[0m\u001b[1;33m.\u001b[0m\u001b[0m__class__\u001b[0m\u001b[1;33m.\u001b[0m\u001b[0m__name__\u001b[0m\u001b[1;33m\u001b[0m\u001b[1;33m\u001b[0m\u001b[0m\n\u001b[0m\u001b[0;32m   1556\u001b[0m             )\n\u001b[0;32m   1557\u001b[0m         )\n",
      "\u001b[1;31mValueError\u001b[0m: The truth value of a Series is ambiguous. Use a.empty, a.bool(), a.item(), a.any() or a.all()."
     ]
    }
   ],
   "source": [
    "import numpy as np\n",
    "import pandas as pd\n",
    "import tensorly as tl\n",
    "import os\n",
    "import matplotlib.pyplot as plt\n",
    "y =pd.read_csv('C:/Users/admin/Desktop/курсовая 2.0/y.txt', sep= '\\t')\n",
    "y =  y.fillna(0) #заменяю Nan на 0\n",
    "y = y.replace(',','.', regex=True) #меняю ',' на '.'\n",
    "y = y.astype(float) #конвертирую из string в float\n",
    "y=y.assign(Gominy=y[[\"Pahokee peat\",\"Nordic aquatic\",\"Suwanee river\",\"Elliot soil\",\"Disser\"]].sum(1)) #складываю столбцы\n",
    "y=y.drop([\"Pahokee peat\",\"Nordic aquatic\",\"Suwanee river\",\"Elliot soil\",\"Disser\"], axis=1) #удаляю ненужные столбцы\n",
    "y = y[['Gominy'] + y.columns[:-1].tolist()] #меняю порядок столбцов так, чтобы первым был Gominy\n",
    "pd.set_option('display.float_format', '{:.15f}'.format) #контроль длинны вывода float\n",
    "print(y)\n",
    "fds = sorted(os.listdir('C:/Users/admin/Desktop/курсовая 2.0/X — копия/')) #формируем список файлов x для считывания в цикле\n",
    "print(fds)\n",
    "k = 0\n",
    "t=np.zeros([35,206,55]) #инициализирую массив нулей\n",
    "while k < 35:\n",
    "    x = pd.read_csv('C:/Users/admin/Desktop/курсовая 2.0/X — копия/'+fds[k],sep='\\t')\n",
    "    x = x.fillna(0)\n",
    "    x = x.replace(',','.', regex=True) #меняю ',' на '.'\n",
    "    x = x.astype(float) #конвертирую из string в float\n",
    "    da=np.mean(x)\n",
    "    gh=np.copy(x)\n",
    "    colums=list(x.columns.values) #установил имена колонок\n",
    "    rows=list(x.index.values)  #установил имена строчек\n",
    "    for i in colums:\n",
    "        for j in rows:\n",
    "             if (x.loc[j,i]<=da)!=True: # Если элемент с индексом i \n",
    "                x.loc[j,i] = 0 # то он заменяется на 1.\n",
    "    \n",
    "    t[k]+=gh\n",
    "    y1=y.iloc[k:k+1,:].values #делю у на строки\n",
    "    k = k + 1\n",
    "plt.imshow(x, aspect=\"auto\")\n",
    "plt.show()   \n",
    "dak=np.mean(t)\n",
    "tt=np.copy(t)\n",
    "daf=np.mean(tt)\n",
    "\n",
    "print(daf)\n",
    "print()\n",
    "print()\n",
    "print(np.shape(tt))\n",
    "   "
   ]
  },
  {
   "cell_type": "code",
   "execution_count": null,
   "metadata": {},
   "outputs": [],
   "source": [
    "np.empty"
   ]
  },
  {
   "cell_type": "code",
   "execution_count": null,
   "metadata": {},
   "outputs": [],
   "source": []
  }
 ],
 "metadata": {
  "kernelspec": {
   "display_name": "Python 3",
   "language": "python",
   "name": "python3"
  },
  "language_info": {
   "codemirror_mode": {
    "name": "ipython",
    "version": 3
   },
   "file_extension": ".py",
   "mimetype": "text/x-python",
   "name": "python",
   "nbconvert_exporter": "python",
   "pygments_lexer": "ipython3",
   "version": "3.7.4"
  }
 },
 "nbformat": 4,
 "nbformat_minor": 2
}
