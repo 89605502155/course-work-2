{
 "cells": [
  {
   "cell_type": "code",
   "execution_count": 8,
   "metadata": {},
   "outputs": [
    {
     "name": "stdout",
     "output_type": "stream",
     "text": [
      "\n",
      "['01.txt', '02.txt', '03.txt', '04.txt', '05.txt', '06.txt', '07.txt', '08.txt', '09.txt', '10.txt', '11.txt', '12.txt', '13.txt', '14.txt', '15.txt', '16.txt', '17.txt', '18.txt', '19.txt', '20.txt', '21.txt', '22.txt', '23.txt', '24.txt', '25.txt', '26.txt', '27.txt', '28.txt', '29.txt', '30.txt', '31.txt', '32.txt', '33.txt', '34.txt', '35.txt']\n"
     ]
    },
    {
     "ename": "ValueError",
     "evalue": "invalid shape for input data points",
     "output_type": "error",
     "traceback": [
      "\u001b[1;31m---------------------------------------------------------------------------\u001b[0m",
      "\u001b[1;31mValueError\u001b[0m                                Traceback (most recent call last)",
      "\u001b[1;32m<ipython-input-8-b0d599221c76>\u001b[0m in \u001b[0;36m<module>\u001b[1;34m\u001b[0m\n\u001b[0;32m     33\u001b[0m \u001b[0mgrid_x\u001b[0m\u001b[1;33m,\u001b[0m  \u001b[0mgrid_y\u001b[0m\u001b[1;33m,\u001b[0m \u001b[0mgrid_z\u001b[0m \u001b[1;33m=\u001b[0m  \u001b[0mnp\u001b[0m\u001b[1;33m.\u001b[0m\u001b[0mmgrid\u001b[0m\u001b[1;33m[\u001b[0m \u001b[1;36m0\u001b[0m \u001b[1;33m:\u001b[0m \u001b[1;36m1\u001b[0m\u001b[1;33m:\u001b[0m \u001b[1;36m100\u001b[0m \u001b[1;33m,\u001b[0m  \u001b[1;36m0\u001b[0m\u001b[1;33m:\u001b[0m \u001b[1;36m1\u001b[0m\u001b[1;33m:\u001b[0m \u001b[1;36m200\u001b[0m \u001b[1;33m,\u001b[0m  \u001b[1;36m0\u001b[0m\u001b[1;33m:\u001b[0m \u001b[1;36m1\u001b[0m\u001b[1;33m:\u001b[0m \u001b[1;36m200\u001b[0m \u001b[1;33m]\u001b[0m\u001b[1;33m\u001b[0m\u001b[1;33m\u001b[0m\u001b[0m\n\u001b[0;32m     34\u001b[0m \u001b[1;32mfrom\u001b[0m \u001b[0mscipy\u001b[0m\u001b[1;33m.\u001b[0m\u001b[0minterpolate\u001b[0m \u001b[1;32mimport\u001b[0m \u001b[0mgriddata\u001b[0m\u001b[1;33m\u001b[0m\u001b[1;33m\u001b[0m\u001b[0m\n\u001b[1;32m---> 35\u001b[1;33m \u001b[0mgrid_z1\u001b[0m \u001b[1;33m=\u001b[0m \u001b[0mgriddata\u001b[0m\u001b[1;33m(\u001b[0m\u001b[0mt\u001b[0m\u001b[1;33m,\u001b[0m \u001b[0my\u001b[0m\u001b[1;33m,\u001b[0m \u001b[1;33m(\u001b[0m\u001b[0mgrid_x\u001b[0m\u001b[1;33m,\u001b[0m  \u001b[0mgrid_y\u001b[0m\u001b[1;33m,\u001b[0m \u001b[0mgrid_z\u001b[0m\u001b[1;33m)\u001b[0m\u001b[1;33m,\u001b[0m \u001b[0mmethod\u001b[0m\u001b[1;33m=\u001b[0m\u001b[1;34m'linear'\u001b[0m\u001b[1;33m)\u001b[0m\u001b[1;33m\u001b[0m\u001b[1;33m\u001b[0m\u001b[0m\n\u001b[0m\u001b[0;32m     36\u001b[0m \u001b[1;33m\u001b[0m\u001b[0m\n\u001b[0;32m     37\u001b[0m \u001b[1;33m\u001b[0m\u001b[0m\n",
      "\u001b[1;32mC:\\ProgramData\\Anaconda3\\lib\\site-packages\\scipy\\interpolate\\ndgriddata.py\u001b[0m in \u001b[0;36mgriddata\u001b[1;34m(points, values, xi, method, fill_value, rescale)\u001b[0m\n\u001b[0;32m    220\u001b[0m     \u001b[1;32melif\u001b[0m \u001b[0mmethod\u001b[0m \u001b[1;33m==\u001b[0m \u001b[1;34m'linear'\u001b[0m\u001b[1;33m:\u001b[0m\u001b[1;33m\u001b[0m\u001b[1;33m\u001b[0m\u001b[0m\n\u001b[0;32m    221\u001b[0m         ip = LinearNDInterpolator(points, values, fill_value=fill_value,\n\u001b[1;32m--> 222\u001b[1;33m                                   rescale=rescale)\n\u001b[0m\u001b[0;32m    223\u001b[0m         \u001b[1;32mreturn\u001b[0m \u001b[0mip\u001b[0m\u001b[1;33m(\u001b[0m\u001b[0mxi\u001b[0m\u001b[1;33m)\u001b[0m\u001b[1;33m\u001b[0m\u001b[1;33m\u001b[0m\u001b[0m\n\u001b[0;32m    224\u001b[0m     \u001b[1;32melif\u001b[0m \u001b[0mmethod\u001b[0m \u001b[1;33m==\u001b[0m \u001b[1;34m'cubic'\u001b[0m \u001b[1;32mand\u001b[0m \u001b[0mndim\u001b[0m \u001b[1;33m==\u001b[0m \u001b[1;36m2\u001b[0m\u001b[1;33m:\u001b[0m\u001b[1;33m\u001b[0m\u001b[1;33m\u001b[0m\u001b[0m\n",
      "\u001b[1;32minterpnd.pyx\u001b[0m in \u001b[0;36mscipy.interpolate.interpnd.LinearNDInterpolator.__init__\u001b[1;34m()\u001b[0m\n",
      "\u001b[1;32minterpnd.pyx\u001b[0m in \u001b[0;36mscipy.interpolate.interpnd.NDInterpolatorBase.__init__\u001b[1;34m()\u001b[0m\n",
      "\u001b[1;32minterpnd.pyx\u001b[0m in \u001b[0;36mscipy.interpolate.interpnd._check_init_shape\u001b[1;34m()\u001b[0m\n",
      "\u001b[1;31mValueError\u001b[0m: invalid shape for input data points"
     ]
    }
   ],
   "source": [
    "from glob import glob\n",
    "from gzip import open\n",
    "import pickle as pkl\n",
    "import numpy as np\n",
    "import pandas as pd\n",
    "import tensorly as tl\n",
    "import os\n",
    "import matplotlib.pyplot as plt\n",
    "y =pd.read_csv('C:/Users/admin/Desktop/курсовая 2.0/y.txt', sep= '\\t')\n",
    "y =  y.fillna(0) #заменяю Nan на 0\n",
    "y = y.replace(',','.', regex=True) #меняю ',' на '.'\n",
    "y = y.astype(float) #конвертирую из string в float\n",
    "y=y.assign(Gominy=y[[\"Pahokee peat\",\"Nordic aquatic\",\"Suwanee river\",\"Elliot soil\",\"Disser\"]].sum(1)) #складываю столбцы\n",
    "y=y.drop([\"Pahokee peat\",\"Nordic aquatic\",\"Suwanee river\",\"Elliot soil\",\"Disser\"], axis=1) #удаляю ненужные столбцы\n",
    "y = y[['Gominy'] + y.columns[:-1].tolist()] #меняю порядок столбцов так, чтобы первым был Gominy\n",
    "y.to_pickle('C:/Users/admin/Desktop/курсовая 2.0/y.pkl.gz') #сохраняем в pickle формате, удобном для регрессии\n",
    "pd.set_option('display.float_format', '{:.15f}'.format) #контроль длинны вывода float\n",
    "print()\n",
    "fds = sorted(os.listdir('C:/Users/admin/Desktop/курсовая 2.0/X — копия/')) #формируем список файлов x для считывания в цикле\n",
    "print(fds)\n",
    "k = 0\n",
    "t=np.zeros([35,206,55]) #инициализирую массив нулей\n",
    "while k < 35:\n",
    "    x = pd.read_csv('C:/Users/admin/Desktop/курсовая 2.0/X — копия/'+fds[k],sep='\\t')\n",
    "    x = x.fillna(0)\n",
    "    x = x.replace(',','.', regex=True) #меняю ',' на '.'\n",
    "    x = x.astype(float) #конвертирую из string в float\n",
    "    colums=list(x.columns.values) #установил имена колонок\n",
    "    rows=list(x.index.values)  #установил имена строчек\n",
    "    ll=x.columns.values\n",
    "    lrl=x.index.values\n",
    "    gh=x.copy()    \n",
    "    t[k]+=x #собираю тензор\n",
    "    y1=y.iloc[k:k+1,:].values #делю у на строки\n",
    "    k = k + 1\n",
    "\n",
    "grid_x,  grid_y, grid_z =  np.mgrid[ 0 : 1: 100 ,  0: 1: 200 ,  0: 1: 200 ]\n",
    "from scipy.interpolate import griddata\n",
    "grid_z1 = griddata(t, y, (grid_x,  grid_y, grid_z), method='linear')\n",
    "\n",
    "\n",
    "print(grid_z1)\n",
    "print()\n",
    "print(t)\n",
    "print()\n",
    "   "
   ]
  },
  {
   "cell_type": "code",
   "execution_count": 2,
   "metadata": {},
   "outputs": [
    {
     "data": {
      "text/plain": [
       "<function numpy.empty>"
      ]
     },
     "execution_count": 2,
     "metadata": {},
     "output_type": "execute_result"
    }
   ],
   "source": []
  },
  {
   "cell_type": "code",
   "execution_count": null,
   "metadata": {},
   "outputs": [],
   "source": []
  }
 ],
 "metadata": {
  "kernelspec": {
   "display_name": "Python 3",
   "language": "python",
   "name": "python3"
  },
  "language_info": {
   "codemirror_mode": {
    "name": "ipython",
    "version": 3
   },
   "file_extension": ".py",
   "mimetype": "text/x-python",
   "name": "python",
   "nbconvert_exporter": "python",
   "pygments_lexer": "ipython3",
   "version": "3.7.4"
  }
 },
 "nbformat": 4,
 "nbformat_minor": 2
}
