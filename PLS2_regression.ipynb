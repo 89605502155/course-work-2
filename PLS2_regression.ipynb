{
 "cells": [
  {
   "cell_type": "code",
   "execution_count": 123,
   "metadata": {},
   "outputs": [
    {
     "name": "stdout",
     "output_type": "stream",
     "text": [
      "(206,)\n"
     ]
    },
    {
     "data": {
      "image/png": "[encoded data removed]",
      "text/plain": [
       "<Figure size 432x288 with 1 Axes>"
      ]
     },
     "metadata": {
      "needs_background": "light"
     },
     "output_type": "display_data"
    },
    {
     "name": "stdout",
     "output_type": "stream",
     "text": [
      "\n",
      "(30, 11330)\n",
      "(30, 3)\n",
      "Gominy    13.885693\n",
      "Tyr        0.583311\n",
      "Trp        0.069232\n",
      "dtype: float64\n",
      "{'copy': True, 'max_iter': 10000, 'n_components': 5, 'scale': True, 'tol': 1e-07}\n",
      "Правильность на тестовом наборе: 0.42\n"
     ]
    }
   ],
   "source": [
    "from gzip import open # NB: overrides standard open()\n",
    "import pickle as pkl\n",
    "import tensorly as tl\n",
    "from tensorly.base import tensor_to_vec,  partial_tensor_to_vec\n",
    "import numpy as np\n",
    "import pandas as pd\n",
    "import warnings \n",
    "import matplotlib.pyplot as plt\n",
    "from sklearn.model_selection import cross_val_score\n",
    "from sklearn.model_selection import cross_validate\n",
    "from sklearn.model_selection import train_test_split\n",
    "\n",
    "warnings.simplefilter('ignore') # отключим предупреждения Anaconda\n",
    "Xdata_numpy = pkl.load(open('C:/Users/admin/Desktop/88/X.pkl.gz', 'rb'))\n",
    "Ydata = pkl.load(open('C:/Users/admin/Desktop/88/y.pkl.gz', 'rb'))\n",
    "print(Xdata_numpy['emission'].shape)\n",
    "string_name=[]\n",
    "string_name2=[]\n",
    "k=0\n",
    "#создаю пространство имён для развёрнутого тензора\n",
    "for i in range(len(Xdata_numpy['emission'])):\n",
    "    for j in range(len(Xdata_numpy['excitation'])):\n",
    "        string_name+=[str(Xdata_numpy['emission'][i])+\" x \"+str(Xdata_numpy['excitation'][j])]\n",
    "        string_name2+=[k]\n",
    "        k+=1\n",
    "#создаём пространство образцов\n",
    "examples_names=[]\n",
    "v=[]\n",
    "for i in range(0,35):\n",
    "    examples_names+=[str(i)]\n",
    "    v+=[i]\n",
    "Xdata_numpy['X'].shape = (Xdata_numpy['X'].shape[0], Xdata_numpy['X'].shape[1] * Xdata_numpy['X'].shape[2])\n",
    "Xdata_numpy['X'][:,np.isnan(Xdata_numpy['X']).any(axis = 0)] = 0 # zero out any columns containing NaN\n",
    "\n",
    "#рисуем новую матрицу\n",
    "import matplotlib.pyplot as plt\n",
    "plt.imshow(Xdata_numpy['X'],aspect=\"auto\")\n",
    "plt.show();\n",
    "print()\n",
    "\n",
    "X=pd.DataFrame(Xdata_numpy['X'],index=examples_names, columns=string_name)\n",
    "#делим набор на обучающий и тестовый\n",
    "X_train, X_test, y_train, y_test = train_test_split(\n",
    "     X, Ydata, test_size=0.1428 \n",
    ")\n",
    "print(X_train.shape)\n",
    "print(y_train.shape)\n",
    "s=[]\n",
    "\n",
    "#начинаем применять\n",
    "from sklearn.cross_decomposition import PLSRegression\n",
    "from sklearn.model_selection import GridSearchCV\n",
    "\n",
    "\n",
    "pls2 = PLSRegression()\n",
    "parametrsNames={\n",
    "    'copy': [True], \n",
    "    'max_iter': [10000], \n",
    "    'n_components': range(1,15), \n",
    "    'scale': [True], \n",
    "    'tol': [1e-04,1e-05,1e-06,1e-07]\n",
    "}\n",
    "gridCought=GridSearchCV(pls2, parametrsNames, cv=5)\n",
    "gridCought.fit(X_train,y_train)\n",
    "predictors=gridCought.predict(X_test)\n",
    "s=np.mean((predictors-y_test)**2)\n",
    "\n",
    "print(s)\n",
    "print(gridCought.best_params_)\n",
    "print(\"Правильность на тестовом наборе: {:.2f}\".format(gridCought.score(X_test, y_test)))\n",
    "\n"
   ]
  },
  {
   "cell_type": "code",
   "execution_count": 124,
   "metadata": {},
   "outputs": [
    {
     "name": "stdout",
     "output_type": "stream",
     "text": [
      "Правильность на тестовом наборе: 0.42\n"
     ]
    }
   ],
   "source": [
    "print(\"Правильность на тестовом наборе: {:.2f}\".format(gridCought.score(X_test, y_test)))"
   ]
  },
  {
   "cell_type": "code",
   "execution_count": 125,
   "metadata": {},
   "outputs": [
    {
     "name": "stdout",
     "output_type": "stream",
     "text": [
      "Наилучшее значение кросс-валидац. правильности: 0.68\n"
     ]
    }
   ],
   "source": [
    "print(\"Наилучшее значение кросс-валидац. правильности: {:.2f}\".format(gridCought.best_score_))"
   ]
  },
  {
   "cell_type": "code",
   "execution_count": 126,
   "metadata": {},
   "outputs": [
    {
     "data": {
      "text/html": [
       "<div>\n",
       "<style scoped>\n",
       "    .dataframe tbody tr th:only-of-type {\n",
       "        vertical-align: middle;\n",
       "    }\n",
       "\n",
       "    .dataframe tbody tr th {\n",
       "        vertical-align: top;\n",
       "    }\n",
       "\n",
       "    .dataframe thead th {\n",
       "        text-align: right;\n",
       "    }\n",
       "</style>\n",
       "<table border=\"1\" class=\"dataframe\">\n",
       "  <thead>\n",
       "    <tr style=\"text-align: right;\">\n",
       "      <th></th>\n",
       "      <th>mean_fit_time</th>\n",
       "      <th>std_fit_time</th>\n",
       "      <th>mean_score_time</th>\n",
       "      <th>std_score_time</th>\n",
       "      <th>param_copy</th>\n",
       "      <th>param_max_iter</th>\n",
       "      <th>param_n_components</th>\n",
       "      <th>param_scale</th>\n",
       "      <th>param_tol</th>\n",
       "      <th>params</th>\n",
       "      <th>split0_test_score</th>\n",
       "      <th>split1_test_score</th>\n",
       "      <th>split2_test_score</th>\n",
       "      <th>split3_test_score</th>\n",
       "      <th>split4_test_score</th>\n",
       "      <th>mean_test_score</th>\n",
       "      <th>std_test_score</th>\n",
       "      <th>rank_test_score</th>\n",
       "    </tr>\n",
       "  </thead>\n",
       "  <tbody>\n",
       "    <tr>\n",
       "      <td>0</td>\n",
       "      <td>0.026373</td>\n",
       "      <td>0.004175</td>\n",
       "      <td>0.005013</td>\n",
       "      <td>0.000635</td>\n",
       "      <td>True</td>\n",
       "      <td>10000</td>\n",
       "      <td>1</td>\n",
       "      <td>True</td>\n",
       "      <td>0.0001</td>\n",
       "      <td>{'copy': True, 'max_iter': 10000, 'n_component...</td>\n",
       "      <td>0.570990</td>\n",
       "      <td>0.746224</td>\n",
       "      <td>0.412662</td>\n",
       "      <td>0.401942</td>\n",
       "      <td>0.470672</td>\n",
       "      <td>0.520498</td>\n",
       "      <td>0.127803</td>\n",
       "      <td>37</td>\n",
       "    </tr>\n",
       "    <tr>\n",
       "      <td>1</td>\n",
       "      <td>0.028881</td>\n",
       "      <td>0.006150</td>\n",
       "      <td>0.005315</td>\n",
       "      <td>0.001404</td>\n",
       "      <td>True</td>\n",
       "      <td>10000</td>\n",
       "      <td>1</td>\n",
       "      <td>True</td>\n",
       "      <td>1e-05</td>\n",
       "      <td>{'copy': True, 'max_iter': 10000, 'n_component...</td>\n",
       "      <td>0.569772</td>\n",
       "      <td>0.736031</td>\n",
       "      <td>0.407306</td>\n",
       "      <td>0.357752</td>\n",
       "      <td>0.479381</td>\n",
       "      <td>0.510048</td>\n",
       "      <td>0.133660</td>\n",
       "      <td>38</td>\n",
       "    </tr>\n",
       "    <tr>\n",
       "      <td>2</td>\n",
       "      <td>0.027159</td>\n",
       "      <td>0.005388</td>\n",
       "      <td>0.005065</td>\n",
       "      <td>0.000642</td>\n",
       "      <td>True</td>\n",
       "      <td>10000</td>\n",
       "      <td>1</td>\n",
       "      <td>True</td>\n",
       "      <td>1e-06</td>\n",
       "      <td>{'copy': True, 'max_iter': 10000, 'n_component...</td>\n",
       "      <td>0.568953</td>\n",
       "      <td>0.733435</td>\n",
       "      <td>0.405650</td>\n",
       "      <td>0.344673</td>\n",
       "      <td>0.481953</td>\n",
       "      <td>0.506933</td>\n",
       "      <td>0.135912</td>\n",
       "      <td>39</td>\n",
       "    </tr>\n",
       "    <tr>\n",
       "      <td>3</td>\n",
       "      <td>0.029384</td>\n",
       "      <td>0.006985</td>\n",
       "      <td>0.005115</td>\n",
       "      <td>0.000665</td>\n",
       "      <td>True</td>\n",
       "      <td>10000</td>\n",
       "      <td>1</td>\n",
       "      <td>True</td>\n",
       "      <td>1e-07</td>\n",
       "      <td>{'copy': True, 'max_iter': 10000, 'n_component...</td>\n",
       "      <td>0.568835</td>\n",
       "      <td>0.732233</td>\n",
       "      <td>0.405138</td>\n",
       "      <td>0.340428</td>\n",
       "      <td>0.482728</td>\n",
       "      <td>0.505872</td>\n",
       "      <td>0.136571</td>\n",
       "      <td>40</td>\n",
       "    </tr>\n",
       "    <tr>\n",
       "      <td>4</td>\n",
       "      <td>0.041224</td>\n",
       "      <td>0.006158</td>\n",
       "      <td>0.006519</td>\n",
       "      <td>0.001002</td>\n",
       "      <td>True</td>\n",
       "      <td>10000</td>\n",
       "      <td>2</td>\n",
       "      <td>True</td>\n",
       "      <td>0.0001</td>\n",
       "      <td>{'copy': True, 'max_iter': 10000, 'n_component...</td>\n",
       "      <td>0.402958</td>\n",
       "      <td>0.832417</td>\n",
       "      <td>0.832148</td>\n",
       "      <td>0.654697</td>\n",
       "      <td>0.560354</td>\n",
       "      <td>0.656515</td>\n",
       "      <td>0.164518</td>\n",
       "      <td>13</td>\n",
       "    </tr>\n",
       "  </tbody>\n",
       "</table>\n",
       "</div>"
      ],
      "text/plain": [
       "   mean_fit_time  std_fit_time  mean_score_time  std_score_time param_copy  \\\n",
       "0       0.026373      0.004175         0.005013        0.000635       True   \n",
       "1       0.028881      0.006150         0.005315        0.001404       True   \n",
       "2       0.027159      0.005388         0.005065        0.000642       True   \n",
       "3       0.029384      0.006985         0.005115        0.000665       True   \n",
       "4       0.041224      0.006158         0.006519        0.001002       True   \n",
       "\n",
       "  param_max_iter param_n_components param_scale param_tol  \\\n",
       "0          10000                  1        True    0.0001   \n",
       "1          10000                  1        True     1e-05   \n",
       "2          10000                  1        True     1e-06   \n",
       "3          10000                  1        True     1e-07   \n",
       "4          10000                  2        True    0.0001   \n",
       "\n",
       "                                              params  split0_test_score  \\\n",
       "0  {'copy': True, 'max_iter': 10000, 'n_component...           0.570990   \n",
       "1  {'copy': True, 'max_iter': 10000, 'n_component...           0.569772   \n",
       "2  {'copy': True, 'max_iter': 10000, 'n_component...           0.568953   \n",
       "3  {'copy': True, 'max_iter': 10000, 'n_component...           0.568835   \n",
       "4  {'copy': True, 'max_iter': 10000, 'n_component...           0.402958   \n",
       "\n",
       "   split1_test_score  split2_test_score  split3_test_score  split4_test_score  \\\n",
       "0           0.746224           0.412662           0.401942           0.470672   \n",
       "1           0.736031           0.407306           0.357752           0.479381   \n",
       "2           0.733435           0.405650           0.344673           0.481953   \n",
       "3           0.732233           0.405138           0.340428           0.482728   \n",
       "4           0.832417           0.832148           0.654697           0.560354   \n",
       "\n",
       "   mean_test_score  std_test_score  rank_test_score  \n",
       "0         0.520498        0.127803               37  \n",
       "1         0.510048        0.133660               38  \n",
       "2         0.506933        0.135912               39  \n",
       "3         0.505872        0.136571               40  \n",
       "4         0.656515        0.164518               13  "
      ]
     },
     "metadata": {},
     "output_type": "display_data"
    }
   ],
   "source": [
    "results = pd.DataFrame(gridCought.cv_results_) \n",
    "# показываем первые 5 строк \n",
    "display(results.head()) "
   ]
  },
  {
   "cell_type": "code",
   "execution_count": 127,
   "metadata": {},
   "outputs": [
    {
     "ename": "ValueError",
     "evalue": "cannot reshape array of size 56 into shape (100,1)",
     "output_type": "error",
     "traceback": [
      "\u001b[1;31m---------------------------------------------------------------------------\u001b[0m",
      "\u001b[1;31mValueError\u001b[0m                                Traceback (most recent call last)",
      "\u001b[1;32m<ipython-input-127-217434fcbb16>\u001b[0m in \u001b[0;36m<module>\u001b[1;34m\u001b[0m\n\u001b[1;32m----> 1\u001b[1;33m \u001b[0mscores\u001b[0m \u001b[1;33m=\u001b[0m \u001b[0mnp\u001b[0m\u001b[1;33m.\u001b[0m\u001b[0marray\u001b[0m\u001b[1;33m(\u001b[0m\u001b[0mresults\u001b[0m\u001b[1;33m.\u001b[0m\u001b[0mmean_test_score\u001b[0m\u001b[1;33m)\u001b[0m\u001b[1;33m.\u001b[0m\u001b[0mreshape\u001b[0m\u001b[1;33m(\u001b[0m\u001b[1;36m100\u001b[0m\u001b[1;33m,\u001b[0m \u001b[1;36m1\u001b[0m\u001b[1;33m)\u001b[0m\u001b[1;33m\u001b[0m\u001b[1;33m\u001b[0m\u001b[0m\n\u001b[0m\u001b[0;32m      2\u001b[0m \u001b[1;32mimport\u001b[0m \u001b[0mmglearn\u001b[0m\u001b[1;33m\u001b[0m\u001b[1;33m\u001b[0m\u001b[0m\n\u001b[0;32m      3\u001b[0m \u001b[1;31m# строим теплокарту средних значений правильности перекрестной проверки\u001b[0m\u001b[1;33m\u001b[0m\u001b[1;33m\u001b[0m\u001b[1;33m\u001b[0m\u001b[0m\n\u001b[0;32m      4\u001b[0m mglearn.tools.heatmap(scores, xlabel='n_components', xticklabels=parametrsNames['n_components'], \n\u001b[0;32m      5\u001b[0m                       ylabel='max_iter', yticklabels=parametrsNames['max_iter'], cmap=\"viridis\")\n",
      "\u001b[1;31mValueError\u001b[0m: cannot reshape array of size 56 into shape (100,1)"
     ]
    }
   ],
   "source": [
    "scores = np.array(results.mean_test_score).reshape(100, 1) \n",
    "import mglearn \n",
    "# строим теплокарту средних значений правильности перекрестной проверки \n",
    "mglearn.tools.heatmap(scores, xlabel='n_components', xticklabels=parametrsNames['n_components'], \n",
    "                      ylabel='max_iter', yticklabels=parametrsNames['max_iter'], cmap=\"viridis\")"
   ]
  },
  {
   "cell_type": "code",
   "execution_count": 128,
   "metadata": {},
   "outputs": [
    {
     "name": "stdout",
     "output_type": "stream",
     "text": [
      "2.201381052561823\n"
     ]
    }
   ],
   "source": [
    "from  sklearn.metrics import  mean_squared_error #среднеквадратичная ошибка\n",
    "final_mse = mean_squared_error (y_test,  predictors) \n",
    "final_rmse  =  np.sqrt(final_mse)  \n",
    "print(final_rmse)"
   ]
  },
  {
   "cell_type": "code",
   "execution_count": 129,
   "metadata": {},
   "outputs": [
    {
     "data": {
      "text/plain": [
       "pandas.core.frame.DataFrame"
      ]
     },
     "execution_count": 129,
     "metadata": {},
     "output_type": "execute_result"
    }
   ],
   "source": [
    "type(y_test)"
   ]
  },
  {
   "cell_type": "code",
   "execution_count": 130,
   "metadata": {},
   "outputs": [
    {
     "name": "stdout",
     "output_type": "stream",
     "text": [
      "[48.20753427 34.0298281  53.50931346 42.80107016 38.51297221]\n",
      "0     45.446791\n",
      "33    35.398815\n",
      "29    46.322119\n",
      "12    44.546831\n",
      "17    36.226228\n",
      "Name: Gominy, dtype: float64\n"
     ]
    }
   ],
   "source": [
    "print(predictors[:,0])\n",
    "print(y_test.iloc[:,0])\n"
   ]
  },
  {
   "cell_type": "code",
   "execution_count": 131,
   "metadata": {},
   "outputs": [
    {
     "data": {
      "image/png": "[encoded data removed]",
      "text/plain": [
       "<Figure size 432x288 with 1 Axes>"
      ]
     },
     "metadata": {
      "needs_background": "light"
     },
     "output_type": "display_data"
    }
   ],
   "source": [
    "b=[]\n",
    "for  i in range(0,5):\n",
    "    b+=[i]\n",
    "plt.plot(b,predictors[:,0],color=\"red\",label=\"предсказанные значения\")\n",
    "plt.plot(b,y_test.iloc[:,0],color=\"blue\", label=\"тестовые значения\")\n",
    "plt.legend()\n",
    "plt.grid(True)\n",
    "plt.title(\"График для столбца Gominy\")\n",
    "plt.show();\n"
   ]
  },
  {
   "cell_type": "code",
   "execution_count": 132,
   "metadata": {},
   "outputs": [
    {
     "name": "stdout",
     "output_type": "stream",
     "text": [
      "nan {'copy': True, 'max_iter': 10000, 'n_components': 1, 'scale': True, 'tol': 0.0001}\n",
      "nan {'copy': True, 'max_iter': 10000, 'n_components': 1, 'scale': True, 'tol': 1e-05}\n",
      "nan {'copy': True, 'max_iter': 10000, 'n_components': 1, 'scale': True, 'tol': 1e-06}\n",
      "nan {'copy': True, 'max_iter': 10000, 'n_components': 1, 'scale': True, 'tol': 1e-07}\n",
      "nan {'copy': True, 'max_iter': 10000, 'n_components': 2, 'scale': True, 'tol': 0.0001}\n",
      "nan {'copy': True, 'max_iter': 10000, 'n_components': 2, 'scale': True, 'tol': 1e-05}\n",
      "nan {'copy': True, 'max_iter': 10000, 'n_components': 2, 'scale': True, 'tol': 1e-06}\n",
      "nan {'copy': True, 'max_iter': 10000, 'n_components': 2, 'scale': True, 'tol': 1e-07}\n",
      "nan {'copy': True, 'max_iter': 10000, 'n_components': 3, 'scale': True, 'tol': 0.0001}\n",
      "nan {'copy': True, 'max_iter': 10000, 'n_components': 3, 'scale': True, 'tol': 1e-05}\n",
      "nan {'copy': True, 'max_iter': 10000, 'n_components': 3, 'scale': True, 'tol': 1e-06}\n",
      "nan {'copy': True, 'max_iter': 10000, 'n_components': 3, 'scale': True, 'tol': 1e-07}\n",
      "nan {'copy': True, 'max_iter': 10000, 'n_components': 4, 'scale': True, 'tol': 0.0001}\n",
      "nan {'copy': True, 'max_iter': 10000, 'n_components': 4, 'scale': True, 'tol': 1e-05}\n",
      "nan {'copy': True, 'max_iter': 10000, 'n_components': 4, 'scale': True, 'tol': 1e-06}\n",
      "nan {'copy': True, 'max_iter': 10000, 'n_components': 4, 'scale': True, 'tol': 1e-07}\n",
      "nan {'copy': True, 'max_iter': 10000, 'n_components': 5, 'scale': True, 'tol': 0.0001}\n",
      "nan {'copy': True, 'max_iter': 10000, 'n_components': 5, 'scale': True, 'tol': 1e-05}\n",
      "nan {'copy': True, 'max_iter': 10000, 'n_components': 5, 'scale': True, 'tol': 1e-06}\n",
      "nan {'copy': True, 'max_iter': 10000, 'n_components': 5, 'scale': True, 'tol': 1e-07}\n",
      "nan {'copy': True, 'max_iter': 10000, 'n_components': 6, 'scale': True, 'tol': 0.0001}\n",
      "nan {'copy': True, 'max_iter': 10000, 'n_components': 6, 'scale': True, 'tol': 1e-05}\n",
      "nan {'copy': True, 'max_iter': 10000, 'n_components': 6, 'scale': True, 'tol': 1e-06}\n",
      "nan {'copy': True, 'max_iter': 10000, 'n_components': 6, 'scale': True, 'tol': 1e-07}\n",
      "nan {'copy': True, 'max_iter': 10000, 'n_components': 7, 'scale': True, 'tol': 0.0001}\n",
      "nan {'copy': True, 'max_iter': 10000, 'n_components': 7, 'scale': True, 'tol': 1e-05}\n",
      "nan {'copy': True, 'max_iter': 10000, 'n_components': 7, 'scale': True, 'tol': 1e-06}\n",
      "nan {'copy': True, 'max_iter': 10000, 'n_components': 7, 'scale': True, 'tol': 1e-07}\n",
      "nan {'copy': True, 'max_iter': 10000, 'n_components': 8, 'scale': True, 'tol': 0.0001}\n",
      "nan {'copy': True, 'max_iter': 10000, 'n_components': 8, 'scale': True, 'tol': 1e-05}\n",
      "nan {'copy': True, 'max_iter': 10000, 'n_components': 8, 'scale': True, 'tol': 1e-06}\n",
      "nan {'copy': True, 'max_iter': 10000, 'n_components': 8, 'scale': True, 'tol': 1e-07}\n",
      "nan {'copy': True, 'max_iter': 10000, 'n_components': 9, 'scale': True, 'tol': 0.0001}\n",
      "nan {'copy': True, 'max_iter': 10000, 'n_components': 9, 'scale': True, 'tol': 1e-05}\n",
      "nan {'copy': True, 'max_iter': 10000, 'n_components': 9, 'scale': True, 'tol': 1e-06}\n",
      "nan {'copy': True, 'max_iter': 10000, 'n_components': 9, 'scale': True, 'tol': 1e-07}\n",
      "nan {'copy': True, 'max_iter': 10000, 'n_components': 10, 'scale': True, 'tol': 0.0001}\n",
      "nan {'copy': True, 'max_iter': 10000, 'n_components': 10, 'scale': True, 'tol': 1e-05}\n",
      "nan {'copy': True, 'max_iter': 10000, 'n_components': 10, 'scale': True, 'tol': 1e-06}\n",
      "nan {'copy': True, 'max_iter': 10000, 'n_components': 10, 'scale': True, 'tol': 1e-07}\n",
      "nan {'copy': True, 'max_iter': 10000, 'n_components': 11, 'scale': True, 'tol': 0.0001}\n",
      "nan {'copy': True, 'max_iter': 10000, 'n_components': 11, 'scale': True, 'tol': 1e-05}\n",
      "nan {'copy': True, 'max_iter': 10000, 'n_components': 11, 'scale': True, 'tol': 1e-06}\n",
      "nan {'copy': True, 'max_iter': 10000, 'n_components': 11, 'scale': True, 'tol': 1e-07}\n",
      "nan {'copy': True, 'max_iter': 10000, 'n_components': 12, 'scale': True, 'tol': 0.0001}\n",
      "nan {'copy': True, 'max_iter': 10000, 'n_components': 12, 'scale': True, 'tol': 1e-05}\n",
      "nan {'copy': True, 'max_iter': 10000, 'n_components': 12, 'scale': True, 'tol': 1e-06}\n",
      "nan {'copy': True, 'max_iter': 10000, 'n_components': 12, 'scale': True, 'tol': 1e-07}\n",
      "nan {'copy': True, 'max_iter': 10000, 'n_components': 13, 'scale': True, 'tol': 0.0001}\n",
      "nan {'copy': True, 'max_iter': 10000, 'n_components': 13, 'scale': True, 'tol': 1e-05}\n",
      "nan {'copy': True, 'max_iter': 10000, 'n_components': 13, 'scale': True, 'tol': 1e-06}\n",
      "nan {'copy': True, 'max_iter': 10000, 'n_components': 13, 'scale': True, 'tol': 1e-07}\n",
      "nan {'copy': True, 'max_iter': 10000, 'n_components': 14, 'scale': True, 'tol': 0.0001}\n",
      "nan {'copy': True, 'max_iter': 10000, 'n_components': 14, 'scale': True, 'tol': 1e-05}\n",
      "nan {'copy': True, 'max_iter': 10000, 'n_components': 14, 'scale': True, 'tol': 1e-06}\n",
      "nan {'copy': True, 'max_iter': 10000, 'n_components': 14, 'scale': True, 'tol': 1e-07}\n"
     ]
    }
   ],
   "source": [
    "cvres  =  gridCought.cv_results_ \n",
    "for mean_score,  params  in zip (cvres [ \"mean_test_score\" ], cvres [ \"params\" ] ): \n",
    "    print (np.sqrt(-mean_score),  params)\n"
   ]
  },
  {
   "cell_type": "code",
   "execution_count": null,
   "metadata": {},
   "outputs": [],
   "source": []
  },
  {
   "cell_type": "code",
   "execution_count": null,
   "metadata": {},
   "outputs": [],
   "source": []
  }
 ],
 "metadata": {
  "kernelspec": {
   "display_name": "Python 3",
   "language": "python",
   "name": "python3"
  },
  "language_info": {
   "codemirror_mode": {
    "name": "ipython",
    "version": 3
   },
   "file_extension": ".py",
   "mimetype": "text/x-python",
   "name": "python",
   "nbconvert_exporter": "python",
   "pygments_lexer": "ipython3",
   "version": "3.7.4"
  }
 },
 "nbformat": 4,
 "nbformat_minor": 2
}
