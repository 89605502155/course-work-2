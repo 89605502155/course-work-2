{
 "cells": [
  {
   "cell_type": "code",
   "execution_count": 92,
   "metadata": {},
   "outputs": [
    {
     "name": "stdout",
     "output_type": "stream",
     "text": [
      "(206,)\n"
     ]
    },
    {
     "data": {
      "image/png": "[encoded data removed]",
      "text/plain": [
       "<Figure size 432x288 with 1 Axes>"
      ]
     },
     "metadata": {
      "needs_background": "light"
     },
     "output_type": "display_data"
    },
    {
     "name": "stdout",
     "output_type": "stream",
     "text": [
      "\n",
      "(30, 11330)\n",
      "(30, 3)\n",
      "Gominy    35.878883\n",
      "Tyr        0.254144\n",
      "Trp        0.355874\n",
      "dtype: float64\n",
      "Правильность на тестовом наборе: 0.72\n"
     ]
    }
   ],
   "source": [
    "from gzip import open # NB: overrides standard open()\n",
    "import pickle as pkl\n",
    "import tensorly as tl\n",
    "from tensorly.base import tensor_to_vec,  partial_tensor_to_vec\n",
    "import numpy as np\n",
    "import pandas as pd\n",
    "import warnings \n",
    "import matplotlib.pyplot as plt\n",
    "from sklearn.model_selection import cross_val_score\n",
    "from sklearn.model_selection import cross_validate\n",
    "from sklearn.model_selection import train_test_split\n",
    "\n",
    "warnings.simplefilter('ignore') # отключим предупреждения Anaconda\n",
    "Xdata_numpy = pkl.load(open('C:/Users/admin/Desktop/88/X.pkl.gz', 'rb'))\n",
    "Ydata = pkl.load(open('C:/Users/admin/Desktop/88/y.pkl.gz', 'rb'))\n",
    "print(Xdata_numpy['emission'].shape)\n",
    "string_name=[]\n",
    "string_name2=[]\n",
    "k=0\n",
    "#создаю пространство имён для развёрнутого тензора\n",
    "for i in range(len(Xdata_numpy['emission'])):\n",
    "    for j in range(len(Xdata_numpy['excitation'])):\n",
    "        string_name+=[str(Xdata_numpy['emission'][i])+\" x \"+str(Xdata_numpy['excitation'][j])]\n",
    "        string_name2+=[k]\n",
    "        k+=1\n",
    "#создаём пространство образцов\n",
    "examples_names=[]\n",
    "v=[]\n",
    "for i in range(0,35):\n",
    "    examples_names+=[str(i)]\n",
    "    v+=[i]\n",
    "Xdata_numpy['X'].shape = (Xdata_numpy['X'].shape[0], Xdata_numpy['X'].shape[1] * Xdata_numpy['X'].shape[2])\n",
    "Xdata_numpy['X'][:,np.isnan(Xdata_numpy['X']).any(axis = 0)] = 0 # zero out any columns containing NaN\n",
    "\n",
    "#рисуем новую матрицу\n",
    "import matplotlib.pyplot as plt\n",
    "plt.imshow(Xdata_numpy['X'],aspect=\"auto\")\n",
    "plt.show();\n",
    "print()\n",
    "\n",
    "X=pd.DataFrame(Xdata_numpy['X'],index=examples_names, columns=string_name)\n",
    "#делим набор на обучающий и тестовый\n",
    "X_train, X_test, y_train, y_test = train_test_split(\n",
    "     X, Ydata, test_size=0.1428 \n",
    ")\n",
    "print(X_train.shape)\n",
    "print(y_train.shape)\n",
    "s=[]\n",
    "\n",
    "#начинаем применять\n",
    "from sklearn.cross_decomposition import PLSRegression\n",
    "from sklearn.model_selection import GridSearchCV\n",
    "parametrsNames=[{'ee':string_name2}]\n",
    "\n",
    "pls2 = PLSRegression()\n",
    "parametrsNames={\n",
    "    'copy': [True], \n",
    "    'max_iter': [10000], \n",
    "    'n_components': range(1,101), \n",
    "    'scale': [True], \n",
    "    'tol': [1e-06]\n",
    "}\n",
    "gridCought=GridSearchCV(pls2, parametrsNames, cv=5)\n",
    "gridCought.fit(X_train,y_train)\n",
    "predictors=gridCought.predict(X_test)\n",
    "s=np.mean((predictors-y_test)**2)\n",
    "\n",
    "print(s)\n",
    "\n",
    "print(\"Правильность на тестовом наборе: {:.2f}\".format(gridCought.score(X_test, y_test)))\n",
    "\n"
   ]
  },
  {
   "cell_type": "code",
   "execution_count": 99,
   "metadata": {},
   "outputs": [
    {
     "name": "stdout",
     "output_type": "stream",
     "text": [
      "Наилучшее значение кросс-валидац. правильности: 0.67\n"
     ]
    }
   ],
   "source": [
    "print(\"Наилучшее значение кросс-валидац. правильности: {:.2f}\".format(gridCought.best_score_))"
   ]
  },
  {
   "cell_type": "code",
   "execution_count": 103,
   "metadata": {},
   "outputs": [
    {
     "data": {
      "text/html": [
       "<div>\n",
       "<style scoped>\n",
       "    .dataframe tbody tr th:only-of-type {\n",
       "        vertical-align: middle;\n",
       "    }\n",
       "\n",
       "    .dataframe tbody tr th {\n",
       "        vertical-align: top;\n",
       "    }\n",
       "\n",
       "    .dataframe thead th {\n",
       "        text-align: right;\n",
       "    }\n",
       "</style>\n",
       "<table border=\"1\" class=\"dataframe\">\n",
       "  <thead>\n",
       "    <tr style=\"text-align: right;\">\n",
       "      <th></th>\n",
       "      <th>mean_fit_time</th>\n",
       "      <th>std_fit_time</th>\n",
       "      <th>mean_score_time</th>\n",
       "      <th>std_score_time</th>\n",
       "      <th>param_copy</th>\n",
       "      <th>param_max_iter</th>\n",
       "      <th>param_n_components</th>\n",
       "      <th>param_scale</th>\n",
       "      <th>param_tol</th>\n",
       "      <th>params</th>\n",
       "      <th>split0_test_score</th>\n",
       "      <th>split1_test_score</th>\n",
       "      <th>split2_test_score</th>\n",
       "      <th>split3_test_score</th>\n",
       "      <th>split4_test_score</th>\n",
       "      <th>mean_test_score</th>\n",
       "      <th>std_test_score</th>\n",
       "      <th>rank_test_score</th>\n",
       "    </tr>\n",
       "  </thead>\n",
       "  <tbody>\n",
       "    <tr>\n",
       "      <td>0</td>\n",
       "      <td>0.026318</td>\n",
       "      <td>0.004213</td>\n",
       "      <td>0.006800</td>\n",
       "      <td>0.002404</td>\n",
       "      <td>True</td>\n",
       "      <td>10000</td>\n",
       "      <td>1</td>\n",
       "      <td>True</td>\n",
       "      <td>1e-06</td>\n",
       "      <td>{'copy': True, 'max_iter': 10000, 'n_component...</td>\n",
       "      <td>0.666163</td>\n",
       "      <td>-0.004875</td>\n",
       "      <td>0.409318</td>\n",
       "      <td>0.647283</td>\n",
       "      <td>0.162775</td>\n",
       "      <td>0.376133</td>\n",
       "      <td>0.264359</td>\n",
       "      <td>100</td>\n",
       "    </tr>\n",
       "    <tr>\n",
       "      <td>1</td>\n",
       "      <td>0.034815</td>\n",
       "      <td>0.002932</td>\n",
       "      <td>0.005609</td>\n",
       "      <td>0.001528</td>\n",
       "      <td>True</td>\n",
       "      <td>10000</td>\n",
       "      <td>2</td>\n",
       "      <td>True</td>\n",
       "      <td>1e-06</td>\n",
       "      <td>{'copy': True, 'max_iter': 10000, 'n_component...</td>\n",
       "      <td>0.716950</td>\n",
       "      <td>0.037056</td>\n",
       "      <td>0.475849</td>\n",
       "      <td>0.801628</td>\n",
       "      <td>0.307884</td>\n",
       "      <td>0.467873</td>\n",
       "      <td>0.277379</td>\n",
       "      <td>9</td>\n",
       "    </tr>\n",
       "    <tr>\n",
       "      <td>2</td>\n",
       "      <td>0.038022</td>\n",
       "      <td>0.004005</td>\n",
       "      <td>0.003612</td>\n",
       "      <td>0.000790</td>\n",
       "      <td>True</td>\n",
       "      <td>10000</td>\n",
       "      <td>3</td>\n",
       "      <td>True</td>\n",
       "      <td>1e-06</td>\n",
       "      <td>{'copy': True, 'max_iter': 10000, 'n_component...</td>\n",
       "      <td>0.781781</td>\n",
       "      <td>0.495242</td>\n",
       "      <td>0.567928</td>\n",
       "      <td>0.831857</td>\n",
       "      <td>0.192805</td>\n",
       "      <td>0.573923</td>\n",
       "      <td>0.228566</td>\n",
       "      <td>4</td>\n",
       "    </tr>\n",
       "    <tr>\n",
       "      <td>3</td>\n",
       "      <td>0.044021</td>\n",
       "      <td>0.003813</td>\n",
       "      <td>0.005416</td>\n",
       "      <td>0.001390</td>\n",
       "      <td>True</td>\n",
       "      <td>10000</td>\n",
       "      <td>4</td>\n",
       "      <td>True</td>\n",
       "      <td>1e-06</td>\n",
       "      <td>{'copy': True, 'max_iter': 10000, 'n_component...</td>\n",
       "      <td>0.822797</td>\n",
       "      <td>0.605900</td>\n",
       "      <td>0.496713</td>\n",
       "      <td>0.835669</td>\n",
       "      <td>-0.154447</td>\n",
       "      <td>0.521326</td>\n",
       "      <td>0.361697</td>\n",
       "      <td>8</td>\n",
       "    </tr>\n",
       "    <tr>\n",
       "      <td>4</td>\n",
       "      <td>0.060644</td>\n",
       "      <td>0.006191</td>\n",
       "      <td>0.007198</td>\n",
       "      <td>0.001598</td>\n",
       "      <td>True</td>\n",
       "      <td>10000</td>\n",
       "      <td>5</td>\n",
       "      <td>True</td>\n",
       "      <td>1e-06</td>\n",
       "      <td>{'copy': True, 'max_iter': 10000, 'n_component...</td>\n",
       "      <td>0.842269</td>\n",
       "      <td>0.723796</td>\n",
       "      <td>0.715888</td>\n",
       "      <td>0.898318</td>\n",
       "      <td>0.187563</td>\n",
       "      <td>0.673567</td>\n",
       "      <td>0.252779</td>\n",
       "      <td>1</td>\n",
       "    </tr>\n",
       "  </tbody>\n",
       "</table>\n",
       "</div>"
      ],
      "text/plain": [
       "   mean_fit_time  std_fit_time  mean_score_time  std_score_time param_copy  \\\n",
       "0       0.026318      0.004213         0.006800        0.002404       True   \n",
       "1       0.034815      0.002932         0.005609        0.001528       True   \n",
       "2       0.038022      0.004005         0.003612        0.000790       True   \n",
       "3       0.044021      0.003813         0.005416        0.001390       True   \n",
       "4       0.060644      0.006191         0.007198        0.001598       True   \n",
       "\n",
       "  param_max_iter param_n_components param_scale param_tol  \\\n",
       "0          10000                  1        True     1e-06   \n",
       "1          10000                  2        True     1e-06   \n",
       "2          10000                  3        True     1e-06   \n",
       "3          10000                  4        True     1e-06   \n",
       "4          10000                  5        True     1e-06   \n",
       "\n",
       "                                              params  split0_test_score  \\\n",
       "0  {'copy': True, 'max_iter': 10000, 'n_component...           0.666163   \n",
       "1  {'copy': True, 'max_iter': 10000, 'n_component...           0.716950   \n",
       "2  {'copy': True, 'max_iter': 10000, 'n_component...           0.781781   \n",
       "3  {'copy': True, 'max_iter': 10000, 'n_component...           0.822797   \n",
       "4  {'copy': True, 'max_iter': 10000, 'n_component...           0.842269   \n",
       "\n",
       "   split1_test_score  split2_test_score  split3_test_score  split4_test_score  \\\n",
       "0          -0.004875           0.409318           0.647283           0.162775   \n",
       "1           0.037056           0.475849           0.801628           0.307884   \n",
       "2           0.495242           0.567928           0.831857           0.192805   \n",
       "3           0.605900           0.496713           0.835669          -0.154447   \n",
       "4           0.723796           0.715888           0.898318           0.187563   \n",
       "\n",
       "   mean_test_score  std_test_score  rank_test_score  \n",
       "0         0.376133        0.264359              100  \n",
       "1         0.467873        0.277379                9  \n",
       "2         0.573923        0.228566                4  \n",
       "3         0.521326        0.361697                8  \n",
       "4         0.673567        0.252779                1  "
      ]
     },
     "metadata": {},
     "output_type": "display_data"
    }
   ],
   "source": [
    "results = pd.DataFrame(gridCought.cv_results_) \n",
    "# показываем первые 5 строк \n",
    "display(results.head()) "
   ]
  },
  {
   "cell_type": "code",
   "execution_count": 104,
   "metadata": {},
   "outputs": [
    {
     "ename": "ModuleNotFoundError",
     "evalue": "No module named 'mglearn'",
     "output_type": "error",
     "traceback": [
      "\u001b[1;31m---------------------------------------------------------------------------\u001b[0m",
      "\u001b[1;31mModuleNotFoundError\u001b[0m                       Traceback (most recent call last)",
      "\u001b[1;32m<ipython-input-104-217434fcbb16>\u001b[0m in \u001b[0;36m<module>\u001b[1;34m\u001b[0m\n\u001b[0;32m      1\u001b[0m \u001b[0mscores\u001b[0m \u001b[1;33m=\u001b[0m \u001b[0mnp\u001b[0m\u001b[1;33m.\u001b[0m\u001b[0marray\u001b[0m\u001b[1;33m(\u001b[0m\u001b[0mresults\u001b[0m\u001b[1;33m.\u001b[0m\u001b[0mmean_test_score\u001b[0m\u001b[1;33m)\u001b[0m\u001b[1;33m.\u001b[0m\u001b[0mreshape\u001b[0m\u001b[1;33m(\u001b[0m\u001b[1;36m100\u001b[0m\u001b[1;33m,\u001b[0m \u001b[1;36m1\u001b[0m\u001b[1;33m)\u001b[0m\u001b[1;33m\u001b[0m\u001b[1;33m\u001b[0m\u001b[0m\n\u001b[1;32m----> 2\u001b[1;33m \u001b[1;32mimport\u001b[0m \u001b[0mmglearn\u001b[0m\u001b[1;33m\u001b[0m\u001b[1;33m\u001b[0m\u001b[0m\n\u001b[0m\u001b[0;32m      3\u001b[0m \u001b[1;31m# строим теплокарту средних значений правильности перекрестной проверки\u001b[0m\u001b[1;33m\u001b[0m\u001b[1;33m\u001b[0m\u001b[1;33m\u001b[0m\u001b[0m\n\u001b[0;32m      4\u001b[0m mglearn.tools.heatmap(scores, xlabel='n_components', xticklabels=parametrsNames['n_components'], \n\u001b[0;32m      5\u001b[0m                       ylabel='max_iter', yticklabels=parametrsNames['max_iter'], cmap=\"viridis\")\n",
      "\u001b[1;31mModuleNotFoundError\u001b[0m: No module named 'mglearn'"
     ]
    }
   ],
   "source": [
    "scores = np.array(results.mean_test_score).reshape(100, 1) \n",
    "import mglearn \n",
    "# строим теплокарту средних значений правильности перекрестной проверки \n",
    "mglearn.tools.heatmap(scores, xlabel='n_components', xticklabels=parametrsNames['n_components'], \n",
    "                      ylabel='max_iter', yticklabels=parametrsNames['max_iter'], cmap=\"viridis\")"
   ]
  },
  {
   "cell_type": "code",
   "execution_count": 91,
   "metadata": {},
   "outputs": [
    {
     "name": "stdout",
     "output_type": "stream",
     "text": [
      "2.1729738522178064\n"
     ]
    }
   ],
   "source": [
    "from  sklearn.metrics import  mean_squared_error\n",
    "final_mse = mean_squared_error (y_test,  predictors) \n",
    "final_rmse  =  np.sqrt(final_mse)  \n",
    "print(final_rmse)"
   ]
  },
  {
   "cell_type": "code",
   "execution_count": 71,
   "metadata": {},
   "outputs": [
    {
     "data": {
      "text/plain": [
       "pandas.core.frame.DataFrame"
      ]
     },
     "execution_count": 71,
     "metadata": {},
     "output_type": "execute_result"
    }
   ],
   "source": [
    "type(y_test)"
   ]
  },
  {
   "cell_type": "code",
   "execution_count": 73,
   "metadata": {},
   "outputs": [
    {
     "name": "stdout",
     "output_type": "stream",
     "text": [
      "[48.71776277 39.30983219 39.72902876 49.42186995 35.0537506 ]\n",
      "18    43.272738\n",
      "20    34.193088\n",
      "26    36.909160\n",
      "0     45.446791\n",
      "8     35.354605\n",
      "Name: Gominy, dtype: float64\n"
     ]
    }
   ],
   "source": [
    "print(predictors[:,0])\n",
    "print(y_test.iloc[:,0])\n"
   ]
  },
  {
   "cell_type": "code",
   "execution_count": 105,
   "metadata": {},
   "outputs": [
    {
     "data": {
      "image/png": "[encoded data removed]",
      "text/plain": [
       "<Figure size 432x288 with 1 Axes>"
      ]
     },
     "metadata": {
      "needs_background": "light"
     },
     "output_type": "display_data"
    }
   ],
   "source": [
    "b=[]\n",
    "for  i in range(0,5):\n",
    "    b+=[i]\n",
    "plt.plot(b,predictors[:,0],color=\"red\",label=\"предсказанные значения\")\n",
    "plt.plot(b,y_test.iloc[:,0],color=\"blue\", label=\"тестовые значения\")\n",
    "plt.legend()\n",
    "plt.grid(True)\n",
    "plt.title(\"График для столбца Gominy\")\n",
    "plt.show();\n"
   ]
  },
  {
   "cell_type": "code",
   "execution_count": 106,
   "metadata": {},
   "outputs": [
    {
     "name": "stdout",
     "output_type": "stream",
     "text": [
      "nan {'copy': True, 'max_iter': 10000, 'n_components': 1, 'scale': True, 'tol': 1e-06}\n",
      "nan {'copy': True, 'max_iter': 10000, 'n_components': 2, 'scale': True, 'tol': 1e-06}\n",
      "nan {'copy': True, 'max_iter': 10000, 'n_components': 3, 'scale': True, 'tol': 1e-06}\n",
      "nan {'copy': True, 'max_iter': 10000, 'n_components': 4, 'scale': True, 'tol': 1e-06}\n",
      "nan {'copy': True, 'max_iter': 10000, 'n_components': 5, 'scale': True, 'tol': 1e-06}\n",
      "nan {'copy': True, 'max_iter': 10000, 'n_components': 6, 'scale': True, 'tol': 1e-06}\n",
      "nan {'copy': True, 'max_iter': 10000, 'n_components': 7, 'scale': True, 'tol': 1e-06}\n",
      "nan {'copy': True, 'max_iter': 10000, 'n_components': 8, 'scale': True, 'tol': 1e-06}\n",
      "nan {'copy': True, 'max_iter': 10000, 'n_components': 9, 'scale': True, 'tol': 1e-06}\n",
      "nan {'copy': True, 'max_iter': 10000, 'n_components': 10, 'scale': True, 'tol': 1e-06}\n",
      "nan {'copy': True, 'max_iter': 10000, 'n_components': 11, 'scale': True, 'tol': 1e-06}\n",
      "nan {'copy': True, 'max_iter': 10000, 'n_components': 12, 'scale': True, 'tol': 1e-06}\n",
      "nan {'copy': True, 'max_iter': 10000, 'n_components': 13, 'scale': True, 'tol': 1e-06}\n",
      "nan {'copy': True, 'max_iter': 10000, 'n_components': 14, 'scale': True, 'tol': 1e-06}\n",
      "nan {'copy': True, 'max_iter': 10000, 'n_components': 15, 'scale': True, 'tol': 1e-06}\n",
      "nan {'copy': True, 'max_iter': 10000, 'n_components': 16, 'scale': True, 'tol': 1e-06}\n",
      "nan {'copy': True, 'max_iter': 10000, 'n_components': 17, 'scale': True, 'tol': 1e-06}\n",
      "nan {'copy': True, 'max_iter': 10000, 'n_components': 18, 'scale': True, 'tol': 1e-06}\n",
      "nan {'copy': True, 'max_iter': 10000, 'n_components': 19, 'scale': True, 'tol': 1e-06}\n",
      "nan {'copy': True, 'max_iter': 10000, 'n_components': 20, 'scale': True, 'tol': 1e-06}\n",
      "nan {'copy': True, 'max_iter': 10000, 'n_components': 21, 'scale': True, 'tol': 1e-06}\n",
      "nan {'copy': True, 'max_iter': 10000, 'n_components': 22, 'scale': True, 'tol': 1e-06}\n",
      "nan {'copy': True, 'max_iter': 10000, 'n_components': 23, 'scale': True, 'tol': 1e-06}\n",
      "nan {'copy': True, 'max_iter': 10000, 'n_components': 24, 'scale': True, 'tol': 1e-06}\n",
      "nan {'copy': True, 'max_iter': 10000, 'n_components': 25, 'scale': True, 'tol': 1e-06}\n",
      "nan {'copy': True, 'max_iter': 10000, 'n_components': 26, 'scale': True, 'tol': 1e-06}\n",
      "nan {'copy': True, 'max_iter': 10000, 'n_components': 27, 'scale': True, 'tol': 1e-06}\n",
      "nan {'copy': True, 'max_iter': 10000, 'n_components': 28, 'scale': True, 'tol': 1e-06}\n",
      "nan {'copy': True, 'max_iter': 10000, 'n_components': 29, 'scale': True, 'tol': 1e-06}\n",
      "nan {'copy': True, 'max_iter': 10000, 'n_components': 30, 'scale': True, 'tol': 1e-06}\n",
      "nan {'copy': True, 'max_iter': 10000, 'n_components': 31, 'scale': True, 'tol': 1e-06}\n",
      "nan {'copy': True, 'max_iter': 10000, 'n_components': 32, 'scale': True, 'tol': 1e-06}\n",
      "nan {'copy': True, 'max_iter': 10000, 'n_components': 33, 'scale': True, 'tol': 1e-06}\n",
      "nan {'copy': True, 'max_iter': 10000, 'n_components': 34, 'scale': True, 'tol': 1e-06}\n",
      "nan {'copy': True, 'max_iter': 10000, 'n_components': 35, 'scale': True, 'tol': 1e-06}\n",
      "nan {'copy': True, 'max_iter': 10000, 'n_components': 36, 'scale': True, 'tol': 1e-06}\n",
      "nan {'copy': True, 'max_iter': 10000, 'n_components': 37, 'scale': True, 'tol': 1e-06}\n",
      "nan {'copy': True, 'max_iter': 10000, 'n_components': 38, 'scale': True, 'tol': 1e-06}\n",
      "nan {'copy': True, 'max_iter': 10000, 'n_components': 39, 'scale': True, 'tol': 1e-06}\n",
      "nan {'copy': True, 'max_iter': 10000, 'n_components': 40, 'scale': True, 'tol': 1e-06}\n",
      "nan {'copy': True, 'max_iter': 10000, 'n_components': 41, 'scale': True, 'tol': 1e-06}\n",
      "nan {'copy': True, 'max_iter': 10000, 'n_components': 42, 'scale': True, 'tol': 1e-06}\n",
      "nan {'copy': True, 'max_iter': 10000, 'n_components': 43, 'scale': True, 'tol': 1e-06}\n",
      "nan {'copy': True, 'max_iter': 10000, 'n_components': 44, 'scale': True, 'tol': 1e-06}\n",
      "nan {'copy': True, 'max_iter': 10000, 'n_components': 45, 'scale': True, 'tol': 1e-06}\n",
      "nan {'copy': True, 'max_iter': 10000, 'n_components': 46, 'scale': True, 'tol': 1e-06}\n",
      "nan {'copy': True, 'max_iter': 10000, 'n_components': 47, 'scale': True, 'tol': 1e-06}\n",
      "nan {'copy': True, 'max_iter': 10000, 'n_components': 48, 'scale': True, 'tol': 1e-06}\n",
      "nan {'copy': True, 'max_iter': 10000, 'n_components': 49, 'scale': True, 'tol': 1e-06}\n",
      "nan {'copy': True, 'max_iter': 10000, 'n_components': 50, 'scale': True, 'tol': 1e-06}\n",
      "nan {'copy': True, 'max_iter': 10000, 'n_components': 51, 'scale': True, 'tol': 1e-06}\n",
      "nan {'copy': True, 'max_iter': 10000, 'n_components': 52, 'scale': True, 'tol': 1e-06}\n",
      "nan {'copy': True, 'max_iter': 10000, 'n_components': 53, 'scale': True, 'tol': 1e-06}\n",
      "nan {'copy': True, 'max_iter': 10000, 'n_components': 54, 'scale': True, 'tol': 1e-06}\n",
      "nan {'copy': True, 'max_iter': 10000, 'n_components': 55, 'scale': True, 'tol': 1e-06}\n",
      "nan {'copy': True, 'max_iter': 10000, 'n_components': 56, 'scale': True, 'tol': 1e-06}\n",
      "nan {'copy': True, 'max_iter': 10000, 'n_components': 57, 'scale': True, 'tol': 1e-06}\n",
      "nan {'copy': True, 'max_iter': 10000, 'n_components': 58, 'scale': True, 'tol': 1e-06}\n",
      "nan {'copy': True, 'max_iter': 10000, 'n_components': 59, 'scale': True, 'tol': 1e-06}\n",
      "nan {'copy': True, 'max_iter': 10000, 'n_components': 60, 'scale': True, 'tol': 1e-06}\n",
      "nan {'copy': True, 'max_iter': 10000, 'n_components': 61, 'scale': True, 'tol': 1e-06}\n",
      "nan {'copy': True, 'max_iter': 10000, 'n_components': 62, 'scale': True, 'tol': 1e-06}\n",
      "nan {'copy': True, 'max_iter': 10000, 'n_components': 63, 'scale': True, 'tol': 1e-06}\n",
      "nan {'copy': True, 'max_iter': 10000, 'n_components': 64, 'scale': True, 'tol': 1e-06}\n",
      "nan {'copy': True, 'max_iter': 10000, 'n_components': 65, 'scale': True, 'tol': 1e-06}\n",
      "nan {'copy': True, 'max_iter': 10000, 'n_components': 66, 'scale': True, 'tol': 1e-06}\n",
      "nan {'copy': True, 'max_iter': 10000, 'n_components': 67, 'scale': True, 'tol': 1e-06}\n",
      "nan {'copy': True, 'max_iter': 10000, 'n_components': 68, 'scale': True, 'tol': 1e-06}\n",
      "nan {'copy': True, 'max_iter': 10000, 'n_components': 69, 'scale': True, 'tol': 1e-06}\n",
      "nan {'copy': True, 'max_iter': 10000, 'n_components': 70, 'scale': True, 'tol': 1e-06}\n",
      "nan {'copy': True, 'max_iter': 10000, 'n_components': 71, 'scale': True, 'tol': 1e-06}\n",
      "nan {'copy': True, 'max_iter': 10000, 'n_components': 72, 'scale': True, 'tol': 1e-06}\n",
      "nan {'copy': True, 'max_iter': 10000, 'n_components': 73, 'scale': True, 'tol': 1e-06}\n",
      "nan {'copy': True, 'max_iter': 10000, 'n_components': 74, 'scale': True, 'tol': 1e-06}\n",
      "nan {'copy': True, 'max_iter': 10000, 'n_components': 75, 'scale': True, 'tol': 1e-06}\n",
      "nan {'copy': True, 'max_iter': 10000, 'n_components': 76, 'scale': True, 'tol': 1e-06}\n",
      "nan {'copy': True, 'max_iter': 10000, 'n_components': 77, 'scale': True, 'tol': 1e-06}\n",
      "nan {'copy': True, 'max_iter': 10000, 'n_components': 78, 'scale': True, 'tol': 1e-06}\n",
      "nan {'copy': True, 'max_iter': 10000, 'n_components': 79, 'scale': True, 'tol': 1e-06}\n",
      "nan {'copy': True, 'max_iter': 10000, 'n_components': 80, 'scale': True, 'tol': 1e-06}\n",
      "nan {'copy': True, 'max_iter': 10000, 'n_components': 81, 'scale': True, 'tol': 1e-06}\n",
      "nan {'copy': True, 'max_iter': 10000, 'n_components': 82, 'scale': True, 'tol': 1e-06}\n",
      "nan {'copy': True, 'max_iter': 10000, 'n_components': 83, 'scale': True, 'tol': 1e-06}\n",
      "nan {'copy': True, 'max_iter': 10000, 'n_components': 84, 'scale': True, 'tol': 1e-06}\n",
      "nan {'copy': True, 'max_iter': 10000, 'n_components': 85, 'scale': True, 'tol': 1e-06}\n",
      "nan {'copy': True, 'max_iter': 10000, 'n_components': 86, 'scale': True, 'tol': 1e-06}\n",
      "nan {'copy': True, 'max_iter': 10000, 'n_components': 87, 'scale': True, 'tol': 1e-06}\n",
      "nan {'copy': True, 'max_iter': 10000, 'n_components': 88, 'scale': True, 'tol': 1e-06}\n",
      "nan {'copy': True, 'max_iter': 10000, 'n_components': 89, 'scale': True, 'tol': 1e-06}\n",
      "nan {'copy': True, 'max_iter': 10000, 'n_components': 90, 'scale': True, 'tol': 1e-06}\n",
      "nan {'copy': True, 'max_iter': 10000, 'n_components': 91, 'scale': True, 'tol': 1e-06}\n",
      "nan {'copy': True, 'max_iter': 10000, 'n_components': 92, 'scale': True, 'tol': 1e-06}\n",
      "nan {'copy': True, 'max_iter': 10000, 'n_components': 93, 'scale': True, 'tol': 1e-06}\n",
      "nan {'copy': True, 'max_iter': 10000, 'n_components': 94, 'scale': True, 'tol': 1e-06}\n",
      "nan {'copy': True, 'max_iter': 10000, 'n_components': 95, 'scale': True, 'tol': 1e-06}\n",
      "nan {'copy': True, 'max_iter': 10000, 'n_components': 96, 'scale': True, 'tol': 1e-06}\n",
      "nan {'copy': True, 'max_iter': 10000, 'n_components': 97, 'scale': True, 'tol': 1e-06}\n",
      "nan {'copy': True, 'max_iter': 10000, 'n_components': 98, 'scale': True, 'tol': 1e-06}\n",
      "nan {'copy': True, 'max_iter': 10000, 'n_components': 99, 'scale': True, 'tol': 1e-06}\n",
      "nan {'copy': True, 'max_iter': 10000, 'n_components': 100, 'scale': True, 'tol': 1e-06}\n"
     ]
    }
   ],
   "source": [
    "cvres  =  gridCought.cv_results_ \n",
    "for mean_score,  params  in zip (cvres [ \"mean_test_score\" ], cvres [ \"params\" ] ): \n",
    "    print (np.sqrt(-mean_score),  params)\n"
   ]
  },
  {
   "cell_type": "code",
   "execution_count": null,
   "metadata": {},
   "outputs": [],
   "source": []
  }
 ],
 "metadata": {
  "kernelspec": {
   "display_name": "Python 3",
   "language": "python",
   "name": "python3"
  },
  "language_info": {
   "codemirror_mode": {
    "name": "ipython",
    "version": 3
   },
   "file_extension": ".py",
   "mimetype": "text/x-python",
   "name": "python",
   "nbconvert_exporter": "python",
   "pygments_lexer": "ipython3",
   "version": "3.7.4"
  }
 },
 "nbformat": 4,
 "nbformat_minor": 2
}
